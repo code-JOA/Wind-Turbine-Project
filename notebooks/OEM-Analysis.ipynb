{
 "cells": [
  {
   "cell_type": "code",
   "execution_count": 1,
   "metadata": {},
   "outputs": [],
   "source": [
    "from datetime import datetime, timedelta\n",
    "import math\n",
    "# import pyodbc as odbc\n",
    "import pandas as pd\n",
    "pd.set_option('display.max_columns', 50)\n",
    "\n",
    "import numpy as np\n",
    "import seaborn as sns\n",
    "import matplotlib.pyplot as plt\n",
    "%matplotlib inline\n",
    "import plotly.express as px\n",
    "\n",
    "from plotly.subplots import make_subplots\n",
    "import plotly.graph_objects as go\n",
    "\n",
    "# from getpass import getpass, getuser\n",
    "from functools import reduce"
   ]
  },
  {
   "cell_type": "markdown",
   "metadata": {},
   "source": [
    "# Connecting to System to retrieve data"
   ]
  },
  {
   "cell_type": "code",
   "execution_count": null,
   "metadata": {},
   "outputs": [],
   "source": [
    "# uid = 'DOMINA_CONSULTA'\n",
    "# pw = getpass(prompt='Password: ', stream=None)"
   ]
  },
  {
   "cell_type": "code",
   "execution_count": null,
   "metadata": {},
   "outputs": [],
   "source": [
    "# domina_connection = odbc.connect(\"DSN=DOMINA_PRODUCTION;UID=\" + uid + \";PWD=\" +pw, autocommit = True)"
   ]
  },
  {
   "cell_type": "code",
   "execution_count": null,
   "metadata": {},
   "outputs": [],
   "source": [
    "# query_text = \"\"\"\n",
    "#  SELECT y.FEC_HORA_INI, e.nom_elemento,e.cod_elemento, i.nom_instalacion, y.BIN_YAW, sum(y.pot_media) AS \"Sum_Of_Avg_W_In_Bin\", RANK() OVER (PARTITION BY y.FEC_HORA_INI, e.nom_elemento,e.cod_elemento, i.nom_instalacion ORDER BY sum(y.pot_media) DESC ) AS \"Yaw_Bin_Rank\"\n",
    "#     FROM DOMINAGE.R_DATOS_YMA y\n",
    "#         inner join DOMINAGE.DGE_INSTALACIONES i\n",
    "#             ON i.cod_instalacion = y.cod_instalacion\n",
    "#         inner join DOMINAGE.DGE_ELEMENTOS e\n",
    "#             ON e.cod_elemento = y.cod_elemento\n",
    "    \n",
    "#     WHERE FEC_HORA_FIN BETWEEN TO_DATE('2020-11-01','yyyy-mm-dd') AND TO_DATE('2020-11-01','yyyy-mm-dd') AND y.tiempo_total >= 100 AND BIN_VIENTO IN ('(6, 9]','(9, 12]','(3, 6]') AND\n",
    "#     i.nom_instalacion IN ('BLUE CREEK', 'SOUTH CHESTNUT', 'WINNEBAGO I', 'URKILLA',\n",
    "#        'MOUNTAIN VIEW III', 'JUNIPER CANYON', 'ALMENDROS I', 'ARIZONA I',\n",
    "#        'CABRAS', 'CAETITE I', 'CAETITE II', 'CAETITE III', 'CALANGO I',\n",
    "#        'CALANGO II', 'CALANGO III', 'CALANGO IV', 'CALANGO V',\n",
    "#        'CALANGO VI', 'CANOAS', 'DOS ARBOLITOS', 'LAGOA I', 'LAGOA II',\n",
    "#        'MEL II', 'SANTANA I', 'SANTANA II', 'ALBUREJOS', 'ALOGORACHIS',\n",
    "#        'ALTAMIRA', 'ALTO DE LA DEGOLLADA', 'ALTO MONÇAO', 'ALVAO',\n",
    "#        'AMUNDSEN', 'ARACHNAIO II', 'ARECLEOCH', 'ARGAÑOSO', 'BADAIA',\n",
    "#        'BII NEE STIPA', 'BOLAÑOS', 'BORDECOREX NORTE', 'BULLANA',\n",
    "#        'BUREBA', 'CABEZAS', 'CAMPILLOS', 'CANALEJAS', 'CANDAL',\n",
    "#        'CANTALOJAS', 'CAPIRUZA I', 'CARRASCOSA', 'CARRASQUILLO', 'CARRIL',\n",
    "#        'CATEFICA', 'CAÑONERAS', 'CENTENAR', 'CERRO BLANCO',\n",
    "#        'CERRO HIGUERA', 'CHAMBON', 'CHIMICHE II', 'CHORREADEROS BAJOS',\n",
    "#        'COLLADOS', 'CONESA II', 'CORTIJO LINERA', 'COTERA',\n",
    "#        'COTEREJON II', 'CRUZ DE CARRUTERO', 'CUEZA', 'DESERT WIND',\n",
    "#        'DOLAR III', 'DOS PUEBLOS', 'DOÑA BENITA', 'DUEÑAS', 'ENTREDICHO',\n",
    "#        'ESPARTAL', 'FERREIRA II', 'FUENDETODOS II', 'FUENTESALADA',\n",
    "#        'GOIA PEÑOTE', 'GOMERA', 'GRADO', 'GRIJOTA', 'HAY CANYON',\n",
    "#        'HONTALBILLA I', 'HONTALBILLA II', 'HUENEJA III', 'ISLETES',\n",
    "#        'LABRADAS', 'LAROUCO', 'LIRIOS', 'MAGDALENA', 'MAJAL ALTO',\n",
    "#        'MEIRA', 'MIHAI VITEAZU', 'MONTE TREITO', 'MONTECARRIO',\n",
    "#        'MORON DE ALMAZAN', 'MUELA CUBILLO', 'NACIMIENTO', 'NAVAZO',\n",
    "#        'NEW HARVEST', 'OIZ', 'PARAMO VEGA', 'PEBBLE SPRINGS', 'PEDREGAL',\n",
    "#        'PENA DA CRUZ', 'PEÑAFLOR III', 'PEÑAFLOR IV', 'PIER II',\n",
    "#        'PORTELRUBIO', 'PUERTO DE MALAGA', 'RADONA I', 'RADONA II',\n",
    "#        'RETUERTA', 'ROMERAL', 'SABINA', 'SAUCITO', 'SAVALLA', 'SEGREDAL',\n",
    "#        'SERRA DO BURGO', 'SIERRA DE ALCARAMA II', 'SIERRA DE DUEÑA',\n",
    "#        'SIERRA MENERA', 'SIERRO', 'SOMBRIO', 'SOMOLINOS',\n",
    "#        'TACICA DE PLATA', 'TALLISCA', 'TARAYUELA', 'TARDIENTA II',\n",
    "#        'TERUELO', 'TORRECILLA', 'URBEL DEL CASTILLO II', 'VALBONILLA',\n",
    "#        'VALDECARRION', 'VALDEFUENTES', 'VALDELANAVE', 'VALDEPERONDO',\n",
    "#        'VALDEPORRES', 'VALMEDIANO', 'VENTA III', 'VENTOSA DEL DUCADO',\n",
    "#        'VENZO', 'VIEIRO', 'VILLALAZAN', 'VIVEIRO', 'VIÑAS', 'DOLAR I',\n",
    "#        'HIJES', 'ZORRERAS', 'SIL AMPLIACION', 'ELGEA',\n",
    "#        'CHORREADEROS ALTOS', 'FUENDETODOS I', 'BLACK LAW II', 'BARTON I',\n",
    "#        'BIG HORN II', 'BUFFALO RIDGE II', 'CAYUGA RIDGE', 'DRY LAKE I',\n",
    "#        'GLEN APP', 'HARDSCRABBLE', 'MORAINE II', 'PROVIDENCE HEIGHTS',\n",
    "#        'STAR POINT', 'TWIN BUTTES II', 'BUEY', 'PINILLA',\n",
    "#        'ATALAYA DE LA SOLANA', 'CAMPALBO', 'CERRO VICENTE II', 'CRUZ I',\n",
    "#        'MONTE MOLON', 'PICO COLLALBAS', 'RUGBY', 'KISIGMAND',\n",
    "#        'HARE HILL II', 'VIRGEN DE BELEN I', 'SIL', 'EL CABO',\n",
    "#        'ALMENDROS II', 'CAPIRUZA II', 'SIERRA DE ALCARAMA I', 'BARTON II',\n",
    "#        'LEANING JUNIPER IIA', 'CERRO REVOLCADOR', 'GAVILANES AMPLIACION',\n",
    "#        'CERRO VICENTE I', 'CRUZ II', 'MIRA', 'BARTON CHAPEL',\n",
    "#        'CERRO DE LA SILLA', 'REVENTONES', 'CSOMA I', 'CSOMA II',\n",
    "#        'CASSELMAN', 'CLARES', 'COLORADO GREEN', 'DRY LAKE II',\n",
    "#        'DEERFIELD', 'ESCALON', 'GROTON', 'CABEZUELO', 'LEMPSTER',\n",
    "#        'TOP OF IOWA II', 'LUZON NORTE', 'LAYNA', 'BAFFIN BAY',\n",
    "#        'MARANCHON I', 'MARANCHON IV', 'MARANCHON SUR', 'SCOTT',\n",
    "#        'ELK RIVER', 'WHITELEE II', 'HARESTANES', 'BEINN THARSUINN',\n",
    "#        'CLACHAN FLATS', 'MARK HILL')\n",
    "#    group by y.FEC_HORA_INI, e.nom_elemento,e.cod_elemento, i.nom_instalacion, y.BIN_YAW\n",
    "# \"\"\" "
   ]
  },
  {
   "cell_type": "code",
   "execution_count": null,
   "metadata": {},
   "outputs": [],
   "source": [
    "# input_data = pd.read_sql(query_text,\n",
    "#                        domina_connection)"
   ]
  },
  {
   "cell_type": "code",
   "execution_count": null,
   "metadata": {},
   "outputs": [],
   "source": [
    "# input_data.shape"
   ]
  },
  {
   "cell_type": "code",
   "execution_count": null,
   "metadata": {},
   "outputs": [],
   "source": [
    "# query2_text = \"\"\"\n",
    "#   SELECT dfa.nom_fabricante \"OEM\", dm.nom_modelo \"Model\", di.nom_instalacion \"Site\", de.nom_elemento, de.cod_elemento\n",
    "#      FROM DOMINAGE.dge_modelos dm\n",
    "#      inner join DOMINAGE.dge_fabricantes dfa\n",
    "#             ON dm.cod_fabricante = dfa.cod_fabricante\n",
    "#         inner join DOMINAGE.dge_elementos de \n",
    "#             ON de.cod_modelo = dm.cod_modelo\n",
    "#         inner join dominage.dge_instalaciones di \n",
    "#             ON de.cod_instalacion = di.cod_instalacion\n",
    "# \"\"\" "
   ]
  },
  {
   "cell_type": "code",
   "execution_count": null,
   "metadata": {},
   "outputs": [],
   "source": [
    "# oem_data = pd.read_sql(query2_text,\n",
    "#                        domina_connection)"
   ]
  },
  {
   "cell_type": "code",
   "execution_count": null,
   "metadata": {},
   "outputs": [],
   "source": [
    "oem_data = pd.read_csv(\"oem_data.csv\")\n",
    "input_data = pd.read_csv(\"input_data.csv\")\n",
    "\n",
    "input_data.drop([\"Unnamed: 0\"], axis=1, inplace=True)\n",
    "oem_data.drop([\"Unnamed: 0\"], axis=1, inplace=True)"
   ]
  },
  {
   "cell_type": "code",
   "execution_count": null,
   "metadata": {},
   "outputs": [],
   "source": []
  },
  {
   "cell_type": "code",
   "execution_count": 3,
   "metadata": {},
   "outputs": [
    {
     "data": {
      "text/html": [
       "<div>\n",
       "<style scoped>\n",
       "    .dataframe tbody tr th:only-of-type {\n",
       "        vertical-align: middle;\n",
       "    }\n",
       "\n",
       "    .dataframe tbody tr th {\n",
       "        vertical-align: top;\n",
       "    }\n",
       "\n",
       "    .dataframe thead th {\n",
       "        text-align: right;\n",
       "    }\n",
       "</style>\n",
       "<table border=\"1\" class=\"dataframe\">\n",
       "  <thead>\n",
       "    <tr style=\"text-align: right;\">\n",
       "      <th></th>\n",
       "      <th>Unnamed: 0</th>\n",
       "      <th>OEM</th>\n",
       "      <th>Model</th>\n",
       "      <th>Site</th>\n",
       "      <th>NOM_ELEMENTO</th>\n",
       "      <th>COD_ELEMENTO</th>\n",
       "    </tr>\n",
       "  </thead>\n",
       "  <tbody>\n",
       "    <tr>\n",
       "      <th>0</th>\n",
       "      <td>0</td>\n",
       "      <td>GAMESA</td>\n",
       "      <td>G52-850 kW</td>\n",
       "      <td>HIJES</td>\n",
       "      <td>A13</td>\n",
       "      <td>1025.0</td>\n",
       "    </tr>\n",
       "    <tr>\n",
       "      <th>1</th>\n",
       "      <td>1</td>\n",
       "      <td>GAMESA</td>\n",
       "      <td>G47-660 kW</td>\n",
       "      <td>HIJES</td>\n",
       "      <td>A17</td>\n",
       "      <td>1026.0</td>\n",
       "    </tr>\n",
       "    <tr>\n",
       "      <th>2</th>\n",
       "      <td>2</td>\n",
       "      <td>GAMESA</td>\n",
       "      <td>G52-850 kW</td>\n",
       "      <td>HIJES</td>\n",
       "      <td>A05</td>\n",
       "      <td>1028.0</td>\n",
       "    </tr>\n",
       "    <tr>\n",
       "      <th>3</th>\n",
       "      <td>3</td>\n",
       "      <td>GAMESA</td>\n",
       "      <td>G52-850 kW</td>\n",
       "      <td>HIJES</td>\n",
       "      <td>A07</td>\n",
       "      <td>1029.0</td>\n",
       "    </tr>\n",
       "    <tr>\n",
       "      <th>4</th>\n",
       "      <td>4</td>\n",
       "      <td>GAMESA</td>\n",
       "      <td>G52-850 kW</td>\n",
       "      <td>HIJES</td>\n",
       "      <td>A03</td>\n",
       "      <td>1030.0</td>\n",
       "    </tr>\n",
       "  </tbody>\n",
       "</table>\n",
       "</div>"
      ],
      "text/plain": [
       "   Unnamed: 0     OEM       Model   Site NOM_ELEMENTO  COD_ELEMENTO\n",
       "0           0  GAMESA  G52-850 kW  HIJES          A13        1025.0\n",
       "1           1  GAMESA  G47-660 kW  HIJES          A17        1026.0\n",
       "2           2  GAMESA  G52-850 kW  HIJES          A05        1028.0\n",
       "3           3  GAMESA  G52-850 kW  HIJES          A07        1029.0\n",
       "4           4  GAMESA  G52-850 kW  HIJES          A03        1030.0"
      ]
     },
     "execution_count": 3,
     "metadata": {},
     "output_type": "execute_result"
    }
   ],
   "source": [
    "oem_data = pd.read_csv(\"../data/oem_data.csv\")\n",
    "oem_data.head()"
   ]
  },
  {
   "cell_type": "code",
   "execution_count": 5,
   "metadata": {},
   "outputs": [
    {
     "data": {
      "text/plain": [
       "(14040, 6)"
      ]
     },
     "execution_count": 5,
     "metadata": {},
     "output_type": "execute_result"
    }
   ],
   "source": [
    "oem_data.shape"
   ]
  },
  {
   "cell_type": "code",
   "execution_count": 7,
   "metadata": {},
   "outputs": [
    {
     "data": {
      "text/plain": [
       "Index(['Unnamed: 0', 'OEM', 'Model', 'Site', 'NOM_ELEMENTO', 'COD_ELEMENTO'], dtype='object')"
      ]
     },
     "execution_count": 7,
     "metadata": {},
     "output_type": "execute_result"
    }
   ],
   "source": [
    "oem_data.columns"
   ]
  },
  {
   "cell_type": "code",
   "execution_count": 9,
   "metadata": {},
   "outputs": [],
   "source": [
    "oem_data.drop('Unnamed: 0' , axis=1 , inplace=True)"
   ]
  },
  {
   "cell_type": "code",
   "execution_count": 10,
   "metadata": {},
   "outputs": [
    {
     "data": {
      "text/html": [
       "<div>\n",
       "<style scoped>\n",
       "    .dataframe tbody tr th:only-of-type {\n",
       "        vertical-align: middle;\n",
       "    }\n",
       "\n",
       "    .dataframe tbody tr th {\n",
       "        vertical-align: top;\n",
       "    }\n",
       "\n",
       "    .dataframe thead th {\n",
       "        text-align: right;\n",
       "    }\n",
       "</style>\n",
       "<table border=\"1\" class=\"dataframe\">\n",
       "  <thead>\n",
       "    <tr style=\"text-align: right;\">\n",
       "      <th></th>\n",
       "      <th>OEM</th>\n",
       "      <th>Model</th>\n",
       "      <th>Site</th>\n",
       "      <th>NOM_ELEMENTO</th>\n",
       "      <th>COD_ELEMENTO</th>\n",
       "    </tr>\n",
       "  </thead>\n",
       "  <tbody>\n",
       "    <tr>\n",
       "      <th>0</th>\n",
       "      <td>GAMESA</td>\n",
       "      <td>G52-850 kW</td>\n",
       "      <td>HIJES</td>\n",
       "      <td>A13</td>\n",
       "      <td>1025.0</td>\n",
       "    </tr>\n",
       "    <tr>\n",
       "      <th>1</th>\n",
       "      <td>GAMESA</td>\n",
       "      <td>G47-660 kW</td>\n",
       "      <td>HIJES</td>\n",
       "      <td>A17</td>\n",
       "      <td>1026.0</td>\n",
       "    </tr>\n",
       "    <tr>\n",
       "      <th>2</th>\n",
       "      <td>GAMESA</td>\n",
       "      <td>G52-850 kW</td>\n",
       "      <td>HIJES</td>\n",
       "      <td>A05</td>\n",
       "      <td>1028.0</td>\n",
       "    </tr>\n",
       "    <tr>\n",
       "      <th>3</th>\n",
       "      <td>GAMESA</td>\n",
       "      <td>G52-850 kW</td>\n",
       "      <td>HIJES</td>\n",
       "      <td>A07</td>\n",
       "      <td>1029.0</td>\n",
       "    </tr>\n",
       "    <tr>\n",
       "      <th>4</th>\n",
       "      <td>GAMESA</td>\n",
       "      <td>G52-850 kW</td>\n",
       "      <td>HIJES</td>\n",
       "      <td>A03</td>\n",
       "      <td>1030.0</td>\n",
       "    </tr>\n",
       "  </tbody>\n",
       "</table>\n",
       "</div>"
      ],
      "text/plain": [
       "      OEM       Model   Site NOM_ELEMENTO  COD_ELEMENTO\n",
       "0  GAMESA  G52-850 kW  HIJES          A13        1025.0\n",
       "1  GAMESA  G47-660 kW  HIJES          A17        1026.0\n",
       "2  GAMESA  G52-850 kW  HIJES          A05        1028.0\n",
       "3  GAMESA  G52-850 kW  HIJES          A07        1029.0\n",
       "4  GAMESA  G52-850 kW  HIJES          A03        1030.0"
      ]
     },
     "execution_count": 10,
     "metadata": {},
     "output_type": "execute_result"
    }
   ],
   "source": [
    "oem_data.head()"
   ]
  },
  {
   "cell_type": "code",
   "execution_count": null,
   "metadata": {},
   "outputs": [],
   "source": []
  },
  {
   "cell_type": "code",
   "execution_count": 21,
   "metadata": {},
   "outputs": [
    {
     "data": {
      "text/html": [
       "<div>\n",
       "<style scoped>\n",
       "    .dataframe tbody tr th:only-of-type {\n",
       "        vertical-align: middle;\n",
       "    }\n",
       "\n",
       "    .dataframe tbody tr th {\n",
       "        vertical-align: top;\n",
       "    }\n",
       "\n",
       "    .dataframe thead th {\n",
       "        text-align: right;\n",
       "    }\n",
       "</style>\n",
       "<table border=\"1\" class=\"dataframe\">\n",
       "  <thead>\n",
       "    <tr style=\"text-align: right;\">\n",
       "      <th></th>\n",
       "      <th>Unnamed: 0</th>\n",
       "      <th>FEC_HORA_INI</th>\n",
       "      <th>NOM_ELEMENTO</th>\n",
       "      <th>COD_ELEMENTO</th>\n",
       "      <th>NOM_INSTALACION</th>\n",
       "      <th>BIN_YAW</th>\n",
       "      <th>Sum_Of_Avg_W_In_Bin</th>\n",
       "      <th>Yaw_Bin_Rank</th>\n",
       "    </tr>\n",
       "  </thead>\n",
       "  <tbody>\n",
       "    <tr>\n",
       "      <th>0</th>\n",
       "      <td>0</td>\n",
       "      <td>2020-10-01</td>\n",
       "      <td>002</td>\n",
       "      <td>11267.0</td>\n",
       "      <td>BLUE CREEK</td>\n",
       "      <td>(26, Infinito]</td>\n",
       "      <td>2819.48</td>\n",
       "      <td>1.0</td>\n",
       "    </tr>\n",
       "    <tr>\n",
       "      <th>1</th>\n",
       "      <td>1</td>\n",
       "      <td>2020-10-01</td>\n",
       "      <td>003</td>\n",
       "      <td>11268.0</td>\n",
       "      <td>BLUE CREEK</td>\n",
       "      <td>(26, Infinito]</td>\n",
       "      <td>2991.07</td>\n",
       "      <td>1.0</td>\n",
       "    </tr>\n",
       "    <tr>\n",
       "      <th>2</th>\n",
       "      <td>2</td>\n",
       "      <td>2020-10-01</td>\n",
       "      <td>004</td>\n",
       "      <td>11269.0</td>\n",
       "      <td>BLUE CREEK</td>\n",
       "      <td>(26, Infinito]</td>\n",
       "      <td>2932.53</td>\n",
       "      <td>1.0</td>\n",
       "    </tr>\n",
       "    <tr>\n",
       "      <th>3</th>\n",
       "      <td>3</td>\n",
       "      <td>2020-10-01</td>\n",
       "      <td>005</td>\n",
       "      <td>11270.0</td>\n",
       "      <td>BLUE CREEK</td>\n",
       "      <td>(26, Infinito]</td>\n",
       "      <td>2937.90</td>\n",
       "      <td>1.0</td>\n",
       "    </tr>\n",
       "    <tr>\n",
       "      <th>4</th>\n",
       "      <td>4</td>\n",
       "      <td>2020-10-01</td>\n",
       "      <td>007</td>\n",
       "      <td>11271.0</td>\n",
       "      <td>BLUE CREEK</td>\n",
       "      <td>(26, Infinito]</td>\n",
       "      <td>2915.70</td>\n",
       "      <td>1.0</td>\n",
       "    </tr>\n",
       "  </tbody>\n",
       "</table>\n",
       "</div>"
      ],
      "text/plain": [
       "   Unnamed: 0 FEC_HORA_INI NOM_ELEMENTO  COD_ELEMENTO NOM_INSTALACION  \\\n",
       "0           0   2020-10-01          002       11267.0      BLUE CREEK   \n",
       "1           1   2020-10-01          003       11268.0      BLUE CREEK   \n",
       "2           2   2020-10-01          004       11269.0      BLUE CREEK   \n",
       "3           3   2020-10-01          005       11270.0      BLUE CREEK   \n",
       "4           4   2020-10-01          007       11271.0      BLUE CREEK   \n",
       "\n",
       "          BIN_YAW  Sum_Of_Avg_W_In_Bin  Yaw_Bin_Rank  \n",
       "0  (26, Infinito]              2819.48           1.0  \n",
       "1  (26, Infinito]              2991.07           1.0  \n",
       "2  (26, Infinito]              2932.53           1.0  \n",
       "3  (26, Infinito]              2937.90           1.0  \n",
       "4  (26, Infinito]              2915.70           1.0  "
      ]
     },
     "execution_count": 21,
     "metadata": {},
     "output_type": "execute_result"
    }
   ],
   "source": [
    "input_data = pd.read_csv(\"../data/input_data.csv\")\n",
    "input_data.head()"
   ]
  },
  {
   "cell_type": "code",
   "execution_count": 22,
   "metadata": {},
   "outputs": [],
   "source": [
    "input_data.drop('Unnamed: 0' , axis=1 , inplace=True)"
   ]
  },
  {
   "cell_type": "code",
   "execution_count": 23,
   "metadata": {},
   "outputs": [
    {
     "data": {
      "text/html": [
       "<div>\n",
       "<style scoped>\n",
       "    .dataframe tbody tr th:only-of-type {\n",
       "        vertical-align: middle;\n",
       "    }\n",
       "\n",
       "    .dataframe tbody tr th {\n",
       "        vertical-align: top;\n",
       "    }\n",
       "\n",
       "    .dataframe thead th {\n",
       "        text-align: right;\n",
       "    }\n",
       "</style>\n",
       "<table border=\"1\" class=\"dataframe\">\n",
       "  <thead>\n",
       "    <tr style=\"text-align: right;\">\n",
       "      <th></th>\n",
       "      <th>FEC_HORA_INI</th>\n",
       "      <th>NOM_ELEMENTO</th>\n",
       "      <th>COD_ELEMENTO</th>\n",
       "      <th>NOM_INSTALACION</th>\n",
       "      <th>BIN_YAW</th>\n",
       "      <th>Sum_Of_Avg_W_In_Bin</th>\n",
       "      <th>Yaw_Bin_Rank</th>\n",
       "    </tr>\n",
       "  </thead>\n",
       "  <tbody>\n",
       "    <tr>\n",
       "      <th>0</th>\n",
       "      <td>2020-10-01</td>\n",
       "      <td>002</td>\n",
       "      <td>11267.0</td>\n",
       "      <td>BLUE CREEK</td>\n",
       "      <td>(26, Infinito]</td>\n",
       "      <td>2819.48</td>\n",
       "      <td>1.0</td>\n",
       "    </tr>\n",
       "    <tr>\n",
       "      <th>1</th>\n",
       "      <td>2020-10-01</td>\n",
       "      <td>003</td>\n",
       "      <td>11268.0</td>\n",
       "      <td>BLUE CREEK</td>\n",
       "      <td>(26, Infinito]</td>\n",
       "      <td>2991.07</td>\n",
       "      <td>1.0</td>\n",
       "    </tr>\n",
       "    <tr>\n",
       "      <th>2</th>\n",
       "      <td>2020-10-01</td>\n",
       "      <td>004</td>\n",
       "      <td>11269.0</td>\n",
       "      <td>BLUE CREEK</td>\n",
       "      <td>(26, Infinito]</td>\n",
       "      <td>2932.53</td>\n",
       "      <td>1.0</td>\n",
       "    </tr>\n",
       "    <tr>\n",
       "      <th>3</th>\n",
       "      <td>2020-10-01</td>\n",
       "      <td>005</td>\n",
       "      <td>11270.0</td>\n",
       "      <td>BLUE CREEK</td>\n",
       "      <td>(26, Infinito]</td>\n",
       "      <td>2937.90</td>\n",
       "      <td>1.0</td>\n",
       "    </tr>\n",
       "    <tr>\n",
       "      <th>4</th>\n",
       "      <td>2020-10-01</td>\n",
       "      <td>007</td>\n",
       "      <td>11271.0</td>\n",
       "      <td>BLUE CREEK</td>\n",
       "      <td>(26, Infinito]</td>\n",
       "      <td>2915.70</td>\n",
       "      <td>1.0</td>\n",
       "    </tr>\n",
       "  </tbody>\n",
       "</table>\n",
       "</div>"
      ],
      "text/plain": [
       "  FEC_HORA_INI NOM_ELEMENTO  COD_ELEMENTO NOM_INSTALACION         BIN_YAW  \\\n",
       "0   2020-10-01          002       11267.0      BLUE CREEK  (26, Infinito]   \n",
       "1   2020-10-01          003       11268.0      BLUE CREEK  (26, Infinito]   \n",
       "2   2020-10-01          004       11269.0      BLUE CREEK  (26, Infinito]   \n",
       "3   2020-10-01          005       11270.0      BLUE CREEK  (26, Infinito]   \n",
       "4   2020-10-01          007       11271.0      BLUE CREEK  (26, Infinito]   \n",
       "\n",
       "   Sum_Of_Avg_W_In_Bin  Yaw_Bin_Rank  \n",
       "0              2819.48           1.0  \n",
       "1              2991.07           1.0  \n",
       "2              2932.53           1.0  \n",
       "3              2937.90           1.0  \n",
       "4              2915.70           1.0  "
      ]
     },
     "execution_count": 23,
     "metadata": {},
     "output_type": "execute_result"
    }
   ],
   "source": [
    "input_data.head()"
   ]
  },
  {
   "cell_type": "code",
   "execution_count": null,
   "metadata": {},
   "outputs": [],
   "source": [
    "# Using dictionary to create a new dataframe for yaw_angle"
   ]
  },
  {
   "cell_type": "code",
   "execution_count": 13,
   "metadata": {},
   "outputs": [],
   "source": [
    "yaw_angle_data=pd.DataFrame(\n",
    "    {\n",
    "        \"yaw.bin\" : [\"(-Infinito, -26]\",\"(-26, -22]\",\"(-22, -18]\",\"(-18, -14]\",\"(-14, -10]\",\"(-10, -6]\",\"(-6, -2]\",\"(-2, 2]\",\"(2, 6]\",\"(6, 10]\",\"(10, 14]\",\"(14, 18]\",\"(18, 22]\",\"(22, 26]\",\"(26, Infinito]\"],\n",
    "        \"Angle\" : [-26,-24,-20,-16,-12,-8,-4,0,4,8,12,16,20,24,26]\n",
    "    }\n",
    ")"
   ]
  },
  {
   "cell_type": "code",
   "execution_count": null,
   "metadata": {},
   "outputs": [],
   "source": [
    "# renaming dataaframes"
   ]
  },
  {
   "cell_type": "code",
   "execution_count": 24,
   "metadata": {},
   "outputs": [],
   "source": [
    "yaw_data = input_data"
   ]
  },
  {
   "cell_type": "markdown",
   "metadata": {},
   "source": [
    "# Merging the Yaw_data with yaw_angle_data"
   ]
  },
  {
   "cell_type": "code",
   "execution_count": null,
   "metadata": {},
   "outputs": [],
   "source": [
    "yaw_data = pd.merge(yaw_data, yaw_angle_data, left_on=\"BIN_YAW\", right_on=\"yaw.bin\", how=\"left\").drop([\"yaw.bin\"], axis=1)"
   ]
  },
  {
   "cell_type": "code",
   "execution_count": null,
   "metadata": {},
   "outputs": [],
   "source": []
  },
  {
   "cell_type": "code",
   "execution_count": null,
   "metadata": {},
   "outputs": [],
   "source": [
    "# Dropping column \"Nom elemento\" from oem data"
   ]
  },
  {
   "cell_type": "code",
   "execution_count": 25,
   "metadata": {},
   "outputs": [],
   "source": [
    "oem_data.drop([\"NOM_ELEMENTO\"], axis=1, inplace=True)"
   ]
  },
  {
   "cell_type": "markdown",
   "metadata": {},
   "source": [
    "# Merging Oem dataframe with Yaw_dataframe"
   ]
  },
  {
   "cell_type": "code",
   "execution_count": 26,
   "metadata": {},
   "outputs": [
    {
     "data": {
      "text/html": [
       "<div>\n",
       "<style scoped>\n",
       "    .dataframe tbody tr th:only-of-type {\n",
       "        vertical-align: middle;\n",
       "    }\n",
       "\n",
       "    .dataframe tbody tr th {\n",
       "        vertical-align: top;\n",
       "    }\n",
       "\n",
       "    .dataframe thead th {\n",
       "        text-align: right;\n",
       "    }\n",
       "</style>\n",
       "<table border=\"1\" class=\"dataframe\">\n",
       "  <thead>\n",
       "    <tr style=\"text-align: right;\">\n",
       "      <th></th>\n",
       "      <th>FEC_HORA_INI</th>\n",
       "      <th>NOM_ELEMENTO</th>\n",
       "      <th>COD_ELEMENTO</th>\n",
       "      <th>NOM_INSTALACION</th>\n",
       "      <th>BIN_YAW</th>\n",
       "      <th>Sum_Of_Avg_W_In_Bin</th>\n",
       "      <th>Yaw_Bin_Rank</th>\n",
       "      <th>OEM</th>\n",
       "      <th>Model</th>\n",
       "      <th>Site</th>\n",
       "    </tr>\n",
       "  </thead>\n",
       "  <tbody>\n",
       "    <tr>\n",
       "      <th>0</th>\n",
       "      <td>2020-10-01</td>\n",
       "      <td>002</td>\n",
       "      <td>11267.0</td>\n",
       "      <td>BLUE CREEK</td>\n",
       "      <td>(26, Infinito]</td>\n",
       "      <td>2819.48</td>\n",
       "      <td>1.0</td>\n",
       "      <td>GAMESA</td>\n",
       "      <td>G90-LM-2.0 MW</td>\n",
       "      <td>BLUE CREEK</td>\n",
       "    </tr>\n",
       "    <tr>\n",
       "      <th>1</th>\n",
       "      <td>2020-10-01</td>\n",
       "      <td>003</td>\n",
       "      <td>11268.0</td>\n",
       "      <td>BLUE CREEK</td>\n",
       "      <td>(26, Infinito]</td>\n",
       "      <td>2991.07</td>\n",
       "      <td>1.0</td>\n",
       "      <td>GAMESA</td>\n",
       "      <td>G90-LM-2.0 MW</td>\n",
       "      <td>BLUE CREEK</td>\n",
       "    </tr>\n",
       "    <tr>\n",
       "      <th>2</th>\n",
       "      <td>2020-10-01</td>\n",
       "      <td>004</td>\n",
       "      <td>11269.0</td>\n",
       "      <td>BLUE CREEK</td>\n",
       "      <td>(26, Infinito]</td>\n",
       "      <td>2932.53</td>\n",
       "      <td>1.0</td>\n",
       "      <td>GAMESA</td>\n",
       "      <td>G90-LM-2.0 MW</td>\n",
       "      <td>BLUE CREEK</td>\n",
       "    </tr>\n",
       "    <tr>\n",
       "      <th>3</th>\n",
       "      <td>2020-10-01</td>\n",
       "      <td>005</td>\n",
       "      <td>11270.0</td>\n",
       "      <td>BLUE CREEK</td>\n",
       "      <td>(26, Infinito]</td>\n",
       "      <td>2937.90</td>\n",
       "      <td>1.0</td>\n",
       "      <td>GAMESA</td>\n",
       "      <td>G90-LM-2.0 MW</td>\n",
       "      <td>BLUE CREEK</td>\n",
       "    </tr>\n",
       "    <tr>\n",
       "      <th>4</th>\n",
       "      <td>2020-10-01</td>\n",
       "      <td>007</td>\n",
       "      <td>11271.0</td>\n",
       "      <td>BLUE CREEK</td>\n",
       "      <td>(26, Infinito]</td>\n",
       "      <td>2915.70</td>\n",
       "      <td>1.0</td>\n",
       "      <td>GAMESA</td>\n",
       "      <td>G90-LM-2.0 MW</td>\n",
       "      <td>BLUE CREEK</td>\n",
       "    </tr>\n",
       "    <tr>\n",
       "      <th>...</th>\n",
       "      <td>...</td>\n",
       "      <td>...</td>\n",
       "      <td>...</td>\n",
       "      <td>...</td>\n",
       "      <td>...</td>\n",
       "      <td>...</td>\n",
       "      <td>...</td>\n",
       "      <td>...</td>\n",
       "      <td>...</td>\n",
       "      <td>...</td>\n",
       "    </tr>\n",
       "    <tr>\n",
       "      <th>57259</th>\n",
       "      <td>2020-10-01</td>\n",
       "      <td>Z5</td>\n",
       "      <td>10009.0</td>\n",
       "      <td>LEANING JUNIPER IIA</td>\n",
       "      <td>(14, 18]</td>\n",
       "      <td>2718.96</td>\n",
       "      <td>11.0</td>\n",
       "      <td>SUZLON</td>\n",
       "      <td>S88-2.1 MW</td>\n",
       "      <td>LEANING JUNIPER IIA</td>\n",
       "    </tr>\n",
       "    <tr>\n",
       "      <th>57260</th>\n",
       "      <td>2020-10-01</td>\n",
       "      <td>Z5</td>\n",
       "      <td>10009.0</td>\n",
       "      <td>LEANING JUNIPER IIA</td>\n",
       "      <td>(-Infinito, -26]</td>\n",
       "      <td>2693.18</td>\n",
       "      <td>12.0</td>\n",
       "      <td>SUZLON</td>\n",
       "      <td>S88-2.1 MW</td>\n",
       "      <td>LEANING JUNIPER IIA</td>\n",
       "    </tr>\n",
       "    <tr>\n",
       "      <th>57261</th>\n",
       "      <td>2020-10-01</td>\n",
       "      <td>Z5</td>\n",
       "      <td>10009.0</td>\n",
       "      <td>LEANING JUNIPER IIA</td>\n",
       "      <td>(26, Infinito]</td>\n",
       "      <td>2644.22</td>\n",
       "      <td>13.0</td>\n",
       "      <td>SUZLON</td>\n",
       "      <td>S88-2.1 MW</td>\n",
       "      <td>LEANING JUNIPER IIA</td>\n",
       "    </tr>\n",
       "    <tr>\n",
       "      <th>57262</th>\n",
       "      <td>2020-10-01</td>\n",
       "      <td>Z5</td>\n",
       "      <td>10009.0</td>\n",
       "      <td>LEANING JUNIPER IIA</td>\n",
       "      <td>(18, 22]</td>\n",
       "      <td>2525.33</td>\n",
       "      <td>14.0</td>\n",
       "      <td>SUZLON</td>\n",
       "      <td>S88-2.1 MW</td>\n",
       "      <td>LEANING JUNIPER IIA</td>\n",
       "    </tr>\n",
       "    <tr>\n",
       "      <th>57263</th>\n",
       "      <td>2020-10-01</td>\n",
       "      <td>Z5</td>\n",
       "      <td>10009.0</td>\n",
       "      <td>LEANING JUNIPER IIA</td>\n",
       "      <td>(22, 26]</td>\n",
       "      <td>2448.83</td>\n",
       "      <td>15.0</td>\n",
       "      <td>SUZLON</td>\n",
       "      <td>S88-2.1 MW</td>\n",
       "      <td>LEANING JUNIPER IIA</td>\n",
       "    </tr>\n",
       "  </tbody>\n",
       "</table>\n",
       "<p>57264 rows × 10 columns</p>\n",
       "</div>"
      ],
      "text/plain": [
       "      FEC_HORA_INI NOM_ELEMENTO  COD_ELEMENTO      NOM_INSTALACION  \\\n",
       "0       2020-10-01          002       11267.0           BLUE CREEK   \n",
       "1       2020-10-01          003       11268.0           BLUE CREEK   \n",
       "2       2020-10-01          004       11269.0           BLUE CREEK   \n",
       "3       2020-10-01          005       11270.0           BLUE CREEK   \n",
       "4       2020-10-01          007       11271.0           BLUE CREEK   \n",
       "...            ...          ...           ...                  ...   \n",
       "57259   2020-10-01           Z5       10009.0  LEANING JUNIPER IIA   \n",
       "57260   2020-10-01           Z5       10009.0  LEANING JUNIPER IIA   \n",
       "57261   2020-10-01           Z5       10009.0  LEANING JUNIPER IIA   \n",
       "57262   2020-10-01           Z5       10009.0  LEANING JUNIPER IIA   \n",
       "57263   2020-10-01           Z5       10009.0  LEANING JUNIPER IIA   \n",
       "\n",
       "                BIN_YAW  Sum_Of_Avg_W_In_Bin  Yaw_Bin_Rank     OEM  \\\n",
       "0        (26, Infinito]              2819.48           1.0  GAMESA   \n",
       "1        (26, Infinito]              2991.07           1.0  GAMESA   \n",
       "2        (26, Infinito]              2932.53           1.0  GAMESA   \n",
       "3        (26, Infinito]              2937.90           1.0  GAMESA   \n",
       "4        (26, Infinito]              2915.70           1.0  GAMESA   \n",
       "...                 ...                  ...           ...     ...   \n",
       "57259          (14, 18]              2718.96          11.0  SUZLON   \n",
       "57260  (-Infinito, -26]              2693.18          12.0  SUZLON   \n",
       "57261    (26, Infinito]              2644.22          13.0  SUZLON   \n",
       "57262          (18, 22]              2525.33          14.0  SUZLON   \n",
       "57263          (22, 26]              2448.83          15.0  SUZLON   \n",
       "\n",
       "               Model                 Site  \n",
       "0      G90-LM-2.0 MW           BLUE CREEK  \n",
       "1      G90-LM-2.0 MW           BLUE CREEK  \n",
       "2      G90-LM-2.0 MW           BLUE CREEK  \n",
       "3      G90-LM-2.0 MW           BLUE CREEK  \n",
       "4      G90-LM-2.0 MW           BLUE CREEK  \n",
       "...              ...                  ...  \n",
       "57259     S88-2.1 MW  LEANING JUNIPER IIA  \n",
       "57260     S88-2.1 MW  LEANING JUNIPER IIA  \n",
       "57261     S88-2.1 MW  LEANING JUNIPER IIA  \n",
       "57262     S88-2.1 MW  LEANING JUNIPER IIA  \n",
       "57263     S88-2.1 MW  LEANING JUNIPER IIA  \n",
       "\n",
       "[57264 rows x 10 columns]"
      ]
     },
     "execution_count": 26,
     "metadata": {},
     "output_type": "execute_result"
    }
   ],
   "source": [
    "oem_yaw_data = pd.merge(yaw_data, oem_data, left_on=\"COD_ELEMENTO\", right_on=\"COD_ELEMENTO\", how=\"left\")\n",
    "oem_yaw_data"
   ]
  },
  {
   "cell_type": "code",
   "execution_count": null,
   "metadata": {},
   "outputs": [],
   "source": []
  },
  {
   "cell_type": "markdown",
   "metadata": {},
   "source": [
    "### Query data based on the Yaw_Bin_Rank = 1.0 (alert)"
   ]
  },
  {
   "cell_type": "code",
   "execution_count": 46,
   "metadata": {},
   "outputs": [
    {
     "data": {
      "text/html": [
       "<div>\n",
       "<style scoped>\n",
       "    .dataframe tbody tr th:only-of-type {\n",
       "        vertical-align: middle;\n",
       "    }\n",
       "\n",
       "    .dataframe tbody tr th {\n",
       "        vertical-align: top;\n",
       "    }\n",
       "\n",
       "    .dataframe thead th {\n",
       "        text-align: right;\n",
       "    }\n",
       "</style>\n",
       "<table border=\"1\" class=\"dataframe\">\n",
       "  <thead>\n",
       "    <tr style=\"text-align: right;\">\n",
       "      <th></th>\n",
       "      <th>FEC_HORA_INI</th>\n",
       "      <th>NOM_ELEMENTO</th>\n",
       "      <th>COD_ELEMENTO</th>\n",
       "      <th>NOM_INSTALACION</th>\n",
       "      <th>BIN_YAW</th>\n",
       "      <th>Sum_Of_Avg_W_In_Bin</th>\n",
       "      <th>Yaw_Bin_Rank</th>\n",
       "      <th>OEM</th>\n",
       "      <th>Model</th>\n",
       "      <th>Site</th>\n",
       "    </tr>\n",
       "  </thead>\n",
       "  <tbody>\n",
       "    <tr>\n",
       "      <th>0</th>\n",
       "      <td>2020-10-01</td>\n",
       "      <td>002</td>\n",
       "      <td>11267.0</td>\n",
       "      <td>BLUE CREEK</td>\n",
       "      <td>(26, Infinito]</td>\n",
       "      <td>2819.48</td>\n",
       "      <td>1.0</td>\n",
       "      <td>GAMESA</td>\n",
       "      <td>G90-LM-2.0 MW</td>\n",
       "      <td>BLUE CREEK</td>\n",
       "    </tr>\n",
       "    <tr>\n",
       "      <th>1</th>\n",
       "      <td>2020-10-01</td>\n",
       "      <td>003</td>\n",
       "      <td>11268.0</td>\n",
       "      <td>BLUE CREEK</td>\n",
       "      <td>(26, Infinito]</td>\n",
       "      <td>2991.07</td>\n",
       "      <td>1.0</td>\n",
       "      <td>GAMESA</td>\n",
       "      <td>G90-LM-2.0 MW</td>\n",
       "      <td>BLUE CREEK</td>\n",
       "    </tr>\n",
       "    <tr>\n",
       "      <th>2</th>\n",
       "      <td>2020-10-01</td>\n",
       "      <td>004</td>\n",
       "      <td>11269.0</td>\n",
       "      <td>BLUE CREEK</td>\n",
       "      <td>(26, Infinito]</td>\n",
       "      <td>2932.53</td>\n",
       "      <td>1.0</td>\n",
       "      <td>GAMESA</td>\n",
       "      <td>G90-LM-2.0 MW</td>\n",
       "      <td>BLUE CREEK</td>\n",
       "    </tr>\n",
       "    <tr>\n",
       "      <th>3</th>\n",
       "      <td>2020-10-01</td>\n",
       "      <td>005</td>\n",
       "      <td>11270.0</td>\n",
       "      <td>BLUE CREEK</td>\n",
       "      <td>(26, Infinito]</td>\n",
       "      <td>2937.90</td>\n",
       "      <td>1.0</td>\n",
       "      <td>GAMESA</td>\n",
       "      <td>G90-LM-2.0 MW</td>\n",
       "      <td>BLUE CREEK</td>\n",
       "    </tr>\n",
       "    <tr>\n",
       "      <th>4</th>\n",
       "      <td>2020-10-01</td>\n",
       "      <td>007</td>\n",
       "      <td>11271.0</td>\n",
       "      <td>BLUE CREEK</td>\n",
       "      <td>(26, Infinito]</td>\n",
       "      <td>2915.70</td>\n",
       "      <td>1.0</td>\n",
       "      <td>GAMESA</td>\n",
       "      <td>G90-LM-2.0 MW</td>\n",
       "      <td>BLUE CREEK</td>\n",
       "    </tr>\n",
       "    <tr>\n",
       "      <th>...</th>\n",
       "      <td>...</td>\n",
       "      <td>...</td>\n",
       "      <td>...</td>\n",
       "      <td>...</td>\n",
       "      <td>...</td>\n",
       "      <td>...</td>\n",
       "      <td>...</td>\n",
       "      <td>...</td>\n",
       "      <td>...</td>\n",
       "      <td>...</td>\n",
       "    </tr>\n",
       "    <tr>\n",
       "      <th>57189</th>\n",
       "      <td>2020-10-01</td>\n",
       "      <td>Z-5</td>\n",
       "      <td>15669.0</td>\n",
       "      <td>EL CABO</td>\n",
       "      <td>(14, 18]</td>\n",
       "      <td>3552.95</td>\n",
       "      <td>1.0</td>\n",
       "      <td>GAMESA</td>\n",
       "      <td>G114-2.1 MW</td>\n",
       "      <td>EL CABO</td>\n",
       "    </tr>\n",
       "    <tr>\n",
       "      <th>57204</th>\n",
       "      <td>2020-10-01</td>\n",
       "      <td>Z1</td>\n",
       "      <td>10005.0</td>\n",
       "      <td>LEANING JUNIPER IIA</td>\n",
       "      <td>(-10, -6]</td>\n",
       "      <td>2802.96</td>\n",
       "      <td>1.0</td>\n",
       "      <td>SUZLON</td>\n",
       "      <td>S88-2.1 MW</td>\n",
       "      <td>LEANING JUNIPER IIA</td>\n",
       "    </tr>\n",
       "    <tr>\n",
       "      <th>57219</th>\n",
       "      <td>2020-10-01</td>\n",
       "      <td>Z3</td>\n",
       "      <td>10007.0</td>\n",
       "      <td>LEANING JUNIPER IIA</td>\n",
       "      <td>(-26, -22]</td>\n",
       "      <td>2788.93</td>\n",
       "      <td>1.0</td>\n",
       "      <td>SUZLON</td>\n",
       "      <td>S88-2.1 MW</td>\n",
       "      <td>LEANING JUNIPER IIA</td>\n",
       "    </tr>\n",
       "    <tr>\n",
       "      <th>57234</th>\n",
       "      <td>2020-10-01</td>\n",
       "      <td>Z4</td>\n",
       "      <td>10008.0</td>\n",
       "      <td>LEANING JUNIPER IIA</td>\n",
       "      <td>(-10, -6]</td>\n",
       "      <td>2854.87</td>\n",
       "      <td>1.0</td>\n",
       "      <td>SUZLON</td>\n",
       "      <td>S88-2.1 MW</td>\n",
       "      <td>LEANING JUNIPER IIA</td>\n",
       "    </tr>\n",
       "    <tr>\n",
       "      <th>57249</th>\n",
       "      <td>2020-10-01</td>\n",
       "      <td>Z5</td>\n",
       "      <td>10009.0</td>\n",
       "      <td>LEANING JUNIPER IIA</td>\n",
       "      <td>(-18, -14]</td>\n",
       "      <td>2856.13</td>\n",
       "      <td>1.0</td>\n",
       "      <td>SUZLON</td>\n",
       "      <td>S88-2.1 MW</td>\n",
       "      <td>LEANING JUNIPER IIA</td>\n",
       "    </tr>\n",
       "  </tbody>\n",
       "</table>\n",
       "<p>5982 rows × 10 columns</p>\n",
       "</div>"
      ],
      "text/plain": [
       "      FEC_HORA_INI NOM_ELEMENTO  COD_ELEMENTO      NOM_INSTALACION  \\\n",
       "0       2020-10-01          002       11267.0           BLUE CREEK   \n",
       "1       2020-10-01          003       11268.0           BLUE CREEK   \n",
       "2       2020-10-01          004       11269.0           BLUE CREEK   \n",
       "3       2020-10-01          005       11270.0           BLUE CREEK   \n",
       "4       2020-10-01          007       11271.0           BLUE CREEK   \n",
       "...            ...          ...           ...                  ...   \n",
       "57189   2020-10-01          Z-5       15669.0              EL CABO   \n",
       "57204   2020-10-01           Z1       10005.0  LEANING JUNIPER IIA   \n",
       "57219   2020-10-01           Z3       10007.0  LEANING JUNIPER IIA   \n",
       "57234   2020-10-01           Z4       10008.0  LEANING JUNIPER IIA   \n",
       "57249   2020-10-01           Z5       10009.0  LEANING JUNIPER IIA   \n",
       "\n",
       "              BIN_YAW  Sum_Of_Avg_W_In_Bin  Yaw_Bin_Rank     OEM  \\\n",
       "0      (26, Infinito]              2819.48           1.0  GAMESA   \n",
       "1      (26, Infinito]              2991.07           1.0  GAMESA   \n",
       "2      (26, Infinito]              2932.53           1.0  GAMESA   \n",
       "3      (26, Infinito]              2937.90           1.0  GAMESA   \n",
       "4      (26, Infinito]              2915.70           1.0  GAMESA   \n",
       "...               ...                  ...           ...     ...   \n",
       "57189        (14, 18]              3552.95           1.0  GAMESA   \n",
       "57204       (-10, -6]              2802.96           1.0  SUZLON   \n",
       "57219      (-26, -22]              2788.93           1.0  SUZLON   \n",
       "57234       (-10, -6]              2854.87           1.0  SUZLON   \n",
       "57249      (-18, -14]              2856.13           1.0  SUZLON   \n",
       "\n",
       "               Model                 Site  \n",
       "0      G90-LM-2.0 MW           BLUE CREEK  \n",
       "1      G90-LM-2.0 MW           BLUE CREEK  \n",
       "2      G90-LM-2.0 MW           BLUE CREEK  \n",
       "3      G90-LM-2.0 MW           BLUE CREEK  \n",
       "4      G90-LM-2.0 MW           BLUE CREEK  \n",
       "...              ...                  ...  \n",
       "57189    G114-2.1 MW              EL CABO  \n",
       "57204     S88-2.1 MW  LEANING JUNIPER IIA  \n",
       "57219     S88-2.1 MW  LEANING JUNIPER IIA  \n",
       "57234     S88-2.1 MW  LEANING JUNIPER IIA  \n",
       "57249     S88-2.1 MW  LEANING JUNIPER IIA  \n",
       "\n",
       "[5982 rows x 10 columns]"
      ]
     },
     "execution_count": 46,
     "metadata": {},
     "output_type": "execute_result"
    }
   ],
   "source": [
    "oem_yaw_rank1 = oem_yaw_data[oem_yaw_data[\"Yaw_Bin_Rank\"] == 1.0]\n",
    "oem_yaw_rank1"
   ]
  },
  {
   "cell_type": "code",
   "execution_count": null,
   "metadata": {},
   "outputs": [],
   "source": []
  },
  {
   "cell_type": "markdown",
   "metadata": {},
   "source": [
    "### 1) What alerts are active ?"
   ]
  },
  {
   "cell_type": "markdown",
   "metadata": {},
   "source": [
    "### Plotting all the Windfarms and OEM Model in Yaw misalignment range"
   ]
  },
  {
   "cell_type": "code",
   "execution_count": 33,
   "metadata": {},
   "outputs": [
    {
     "data": {
      "text/html": [
       "<div>\n",
       "<style scoped>\n",
       "    .dataframe tbody tr th:only-of-type {\n",
       "        vertical-align: middle;\n",
       "    }\n",
       "\n",
       "    .dataframe tbody tr th {\n",
       "        vertical-align: top;\n",
       "    }\n",
       "\n",
       "    .dataframe thead th {\n",
       "        text-align: right;\n",
       "    }\n",
       "</style>\n",
       "<table border=\"1\" class=\"dataframe\">\n",
       "  <thead>\n",
       "    <tr style=\"text-align: right;\">\n",
       "      <th></th>\n",
       "      <th>FEC_HORA_INI</th>\n",
       "      <th>NOM_ELEMENTO</th>\n",
       "      <th>COD_ELEMENTO</th>\n",
       "      <th>NOM_INSTALACION</th>\n",
       "      <th>BIN_YAW</th>\n",
       "      <th>Sum_Of_Avg_W_In_Bin</th>\n",
       "      <th>Yaw_Bin_Rank</th>\n",
       "      <th>OEM</th>\n",
       "      <th>Model</th>\n",
       "      <th>Site</th>\n",
       "    </tr>\n",
       "  </thead>\n",
       "  <tbody>\n",
       "    <tr>\n",
       "      <th>0</th>\n",
       "      <td>2020-10-01</td>\n",
       "      <td>002</td>\n",
       "      <td>11267.0</td>\n",
       "      <td>BLUE CREEK</td>\n",
       "      <td>(26, Infinito]</td>\n",
       "      <td>2819.48</td>\n",
       "      <td>1.0</td>\n",
       "      <td>GAMESA</td>\n",
       "      <td>G90-LM-2.0 MW</td>\n",
       "      <td>BLUE CREEK</td>\n",
       "    </tr>\n",
       "    <tr>\n",
       "      <th>1</th>\n",
       "      <td>2020-10-01</td>\n",
       "      <td>003</td>\n",
       "      <td>11268.0</td>\n",
       "      <td>BLUE CREEK</td>\n",
       "      <td>(26, Infinito]</td>\n",
       "      <td>2991.07</td>\n",
       "      <td>1.0</td>\n",
       "      <td>GAMESA</td>\n",
       "      <td>G90-LM-2.0 MW</td>\n",
       "      <td>BLUE CREEK</td>\n",
       "    </tr>\n",
       "    <tr>\n",
       "      <th>2</th>\n",
       "      <td>2020-10-01</td>\n",
       "      <td>004</td>\n",
       "      <td>11269.0</td>\n",
       "      <td>BLUE CREEK</td>\n",
       "      <td>(26, Infinito]</td>\n",
       "      <td>2932.53</td>\n",
       "      <td>1.0</td>\n",
       "      <td>GAMESA</td>\n",
       "      <td>G90-LM-2.0 MW</td>\n",
       "      <td>BLUE CREEK</td>\n",
       "    </tr>\n",
       "    <tr>\n",
       "      <th>3</th>\n",
       "      <td>2020-10-01</td>\n",
       "      <td>005</td>\n",
       "      <td>11270.0</td>\n",
       "      <td>BLUE CREEK</td>\n",
       "      <td>(26, Infinito]</td>\n",
       "      <td>2937.90</td>\n",
       "      <td>1.0</td>\n",
       "      <td>GAMESA</td>\n",
       "      <td>G90-LM-2.0 MW</td>\n",
       "      <td>BLUE CREEK</td>\n",
       "    </tr>\n",
       "    <tr>\n",
       "      <th>4</th>\n",
       "      <td>2020-10-01</td>\n",
       "      <td>007</td>\n",
       "      <td>11271.0</td>\n",
       "      <td>BLUE CREEK</td>\n",
       "      <td>(26, Infinito]</td>\n",
       "      <td>2915.70</td>\n",
       "      <td>1.0</td>\n",
       "      <td>GAMESA</td>\n",
       "      <td>G90-LM-2.0 MW</td>\n",
       "      <td>BLUE CREEK</td>\n",
       "    </tr>\n",
       "  </tbody>\n",
       "</table>\n",
       "</div>"
      ],
      "text/plain": [
       "  FEC_HORA_INI NOM_ELEMENTO  COD_ELEMENTO NOM_INSTALACION         BIN_YAW  \\\n",
       "0   2020-10-01          002       11267.0      BLUE CREEK  (26, Infinito]   \n",
       "1   2020-10-01          003       11268.0      BLUE CREEK  (26, Infinito]   \n",
       "2   2020-10-01          004       11269.0      BLUE CREEK  (26, Infinito]   \n",
       "3   2020-10-01          005       11270.0      BLUE CREEK  (26, Infinito]   \n",
       "4   2020-10-01          007       11271.0      BLUE CREEK  (26, Infinito]   \n",
       "\n",
       "   Sum_Of_Avg_W_In_Bin  Yaw_Bin_Rank     OEM          Model        Site  \n",
       "0              2819.48           1.0  GAMESA  G90-LM-2.0 MW  BLUE CREEK  \n",
       "1              2991.07           1.0  GAMESA  G90-LM-2.0 MW  BLUE CREEK  \n",
       "2              2932.53           1.0  GAMESA  G90-LM-2.0 MW  BLUE CREEK  \n",
       "3              2937.90           1.0  GAMESA  G90-LM-2.0 MW  BLUE CREEK  \n",
       "4              2915.70           1.0  GAMESA  G90-LM-2.0 MW  BLUE CREEK  "
      ]
     },
     "execution_count": 33,
     "metadata": {},
     "output_type": "execute_result"
    }
   ],
   "source": [
    "oem_yaw_data.head()"
   ]
  },
  {
   "cell_type": "code",
   "execution_count": 34,
   "metadata": {},
   "outputs": [
    {
     "data": {
      "text/plain": [
       "FEC_HORA_INI            object\n",
       "NOM_ELEMENTO            object\n",
       "COD_ELEMENTO           float64\n",
       "NOM_INSTALACION         object\n",
       "BIN_YAW                 object\n",
       "Sum_Of_Avg_W_In_Bin    float64\n",
       "Yaw_Bin_Rank           float64\n",
       "OEM                     object\n",
       "Model                   object\n",
       "Site                    object\n",
       "dtype: object"
      ]
     },
     "execution_count": 34,
     "metadata": {},
     "output_type": "execute_result"
    }
   ],
   "source": [
    "oem_yaw_data.dtypes"
   ]
  },
  {
   "cell_type": "code",
   "execution_count": 35,
   "metadata": {},
   "outputs": [
    {
     "data": {
      "text/plain": [
       "Index(['FEC_HORA_INI', 'NOM_ELEMENTO', 'COD_ELEMENTO', 'NOM_INSTALACION',\n",
       "       'BIN_YAW', 'Sum_Of_Avg_W_In_Bin', 'Yaw_Bin_Rank', 'OEM', 'Model',\n",
       "       'Site'],\n",
       "      dtype='object')"
      ]
     },
     "execution_count": 35,
     "metadata": {},
     "output_type": "execute_result"
    }
   ],
   "source": [
    "oem_yaw_data.columns"
   ]
  },
  {
   "cell_type": "code",
   "execution_count": 39,
   "metadata": {},
   "outputs": [
    {
     "data": {
      "image/png": "[encoded data removed]",
      "text/plain": [
       "<Figure size 720x360 with 1 Axes>"
      ]
     },
     "metadata": {
      "needs_background": "light"
     },
     "output_type": "display_data"
    }
   ],
   "source": [
    "plt.figure(figsize = (10, 5))\n",
    "ax = sns.countplot(x= \"NOM_ELEMENTO\" ,data = oem_yaw_data, \n",
    "              order = oem_yaw_data['NOM_ELEMENTO'].value_counts().iloc[:15].index)\n",
    "ax.set_xticklabels(ax.get_xticklabels(), rotation=45, horizontalalignment='right');\n",
    "plt.show()"
   ]
  },
  {
   "cell_type": "code",
   "execution_count": null,
   "metadata": {},
   "outputs": [],
   "source": []
  },
  {
   "cell_type": "code",
   "execution_count": 44,
   "metadata": {},
   "outputs": [
    {
     "data": {
      "image/png": "[encoded data removed]",
      "text/plain": [
       "<Figure size 864x576 with 1 Axes>"
      ]
     },
     "metadata": {
      "needs_background": "light"
     },
     "output_type": "display_data"
    }
   ],
   "source": [
    "plt.figure(figsize = (12, 8))\n",
    "sns.countplot(y= \"BIN_YAW\", data=oem_yaw_data, order=oem_yaw_data['BIN_YAW'].value_counts().iloc[:25].index)\n",
    "plt.show()"
   ]
  },
  {
   "cell_type": "code",
   "execution_count": null,
   "metadata": {},
   "outputs": [],
   "source": []
  },
  {
   "cell_type": "markdown",
   "metadata": {},
   "source": [
    "# Alerts"
   ]
  },
  {
   "cell_type": "code",
   "execution_count": 49,
   "metadata": {},
   "outputs": [
    {
     "data": {
      "text/html": [
       "<div>\n",
       "<style scoped>\n",
       "    .dataframe tbody tr th:only-of-type {\n",
       "        vertical-align: middle;\n",
       "    }\n",
       "\n",
       "    .dataframe tbody tr th {\n",
       "        vertical-align: top;\n",
       "    }\n",
       "\n",
       "    .dataframe thead th {\n",
       "        text-align: right;\n",
       "    }\n",
       "</style>\n",
       "<table border=\"1\" class=\"dataframe\">\n",
       "  <thead>\n",
       "    <tr style=\"text-align: right;\">\n",
       "      <th></th>\n",
       "      <th>Model</th>\n",
       "      <th>BIN_YAW</th>\n",
       "      <th>Yaw_Bin_Rank</th>\n",
       "    </tr>\n",
       "  </thead>\n",
       "  <tbody>\n",
       "    <tr>\n",
       "      <th>0</th>\n",
       "      <td>ECO100</td>\n",
       "      <td>(-10, -6]</td>\n",
       "      <td>21.0</td>\n",
       "    </tr>\n",
       "    <tr>\n",
       "      <th>1</th>\n",
       "      <td>ECO100</td>\n",
       "      <td>(-14, -10]</td>\n",
       "      <td>11.0</td>\n",
       "    </tr>\n",
       "    <tr>\n",
       "      <th>2</th>\n",
       "      <td>ECO100</td>\n",
       "      <td>(-18, -14]</td>\n",
       "      <td>5.0</td>\n",
       "    </tr>\n",
       "    <tr>\n",
       "      <th>3</th>\n",
       "      <td>ECO100</td>\n",
       "      <td>(-2, 2]</td>\n",
       "      <td>12.0</td>\n",
       "    </tr>\n",
       "    <tr>\n",
       "      <th>4</th>\n",
       "      <td>ECO100</td>\n",
       "      <td>(-22, -18]</td>\n",
       "      <td>1.0</td>\n",
       "    </tr>\n",
       "    <tr>\n",
       "      <th>...</th>\n",
       "      <td>...</td>\n",
       "      <td>...</td>\n",
       "      <td>...</td>\n",
       "    </tr>\n",
       "    <tr>\n",
       "      <th>179</th>\n",
       "      <td>V47-660 kW</td>\n",
       "      <td>(26, Infinito]</td>\n",
       "      <td>3.0</td>\n",
       "    </tr>\n",
       "    <tr>\n",
       "      <th>180</th>\n",
       "      <td>V47-660 kW</td>\n",
       "      <td>(6, 10]</td>\n",
       "      <td>4.0</td>\n",
       "    </tr>\n",
       "    <tr>\n",
       "      <th>181</th>\n",
       "      <td>V66-1.75 MW</td>\n",
       "      <td>(-2, 2]</td>\n",
       "      <td>7.0</td>\n",
       "    </tr>\n",
       "    <tr>\n",
       "      <th>182</th>\n",
       "      <td>V66-1.75 MW</td>\n",
       "      <td>(2, 6]</td>\n",
       "      <td>2.0</td>\n",
       "    </tr>\n",
       "    <tr>\n",
       "      <th>183</th>\n",
       "      <td>V66-1.75 MW</td>\n",
       "      <td>(26, Infinito]</td>\n",
       "      <td>8.0</td>\n",
       "    </tr>\n",
       "  </tbody>\n",
       "</table>\n",
       "<p>184 rows × 3 columns</p>\n",
       "</div>"
      ],
      "text/plain": [
       "           Model         BIN_YAW  Yaw_Bin_Rank\n",
       "0         ECO100       (-10, -6]          21.0\n",
       "1         ECO100      (-14, -10]          11.0\n",
       "2         ECO100      (-18, -14]           5.0\n",
       "3         ECO100         (-2, 2]          12.0\n",
       "4         ECO100      (-22, -18]           1.0\n",
       "..           ...             ...           ...\n",
       "179   V47-660 kW  (26, Infinito]           3.0\n",
       "180   V47-660 kW         (6, 10]           4.0\n",
       "181  V66-1.75 MW         (-2, 2]           7.0\n",
       "182  V66-1.75 MW          (2, 6]           2.0\n",
       "183  V66-1.75 MW  (26, Infinito]           8.0\n",
       "\n",
       "[184 rows x 3 columns]"
      ]
     },
     "execution_count": 49,
     "metadata": {},
     "output_type": "execute_result"
    }
   ],
   "source": [
    "oem_alert = oem_yaw_rank1.groupby([\"Model\", \"BIN_YAW\"]).sum()[\"Yaw_Bin_Rank\"].reset_index()\n",
    "oem_alert"
   ]
  },
  {
   "cell_type": "code",
   "execution_count": null,
   "metadata": {},
   "outputs": [],
   "source": []
  },
  {
   "cell_type": "code",
   "execution_count": 52,
   "metadata": {},
   "outputs": [
    {
     "data": {
      "text/html": [
       "<div>\n",
       "<style scoped>\n",
       "    .dataframe tbody tr th:only-of-type {\n",
       "        vertical-align: middle;\n",
       "    }\n",
       "\n",
       "    .dataframe tbody tr th {\n",
       "        vertical-align: top;\n",
       "    }\n",
       "\n",
       "    .dataframe thead th {\n",
       "        text-align: right;\n",
       "    }\n",
       "</style>\n",
       "<table border=\"1\" class=\"dataframe\">\n",
       "  <thead>\n",
       "    <tr style=\"text-align: right;\">\n",
       "      <th></th>\n",
       "      <th>Model</th>\n",
       "      <th>BIN_YAW</th>\n",
       "      <th>Yaw_Bin_Rank</th>\n",
       "    </tr>\n",
       "  </thead>\n",
       "  <tbody>\n",
       "    <tr>\n",
       "      <th>79</th>\n",
       "      <td>G52-850 kW</td>\n",
       "      <td>(26, Infinito]</td>\n",
       "      <td>1137.0</td>\n",
       "    </tr>\n",
       "    <tr>\n",
       "      <th>81</th>\n",
       "      <td>G58-850 kW</td>\n",
       "      <td>(26, Infinito]</td>\n",
       "      <td>615.0</td>\n",
       "    </tr>\n",
       "    <tr>\n",
       "      <th>111</th>\n",
       "      <td>G87-2.0 MW</td>\n",
       "      <td>(6, 10]</td>\n",
       "      <td>456.0</td>\n",
       "    </tr>\n",
       "    <tr>\n",
       "      <th>108</th>\n",
       "      <td>G87-2.0 MW</td>\n",
       "      <td>(2, 6]</td>\n",
       "      <td>314.0</td>\n",
       "    </tr>\n",
       "    <tr>\n",
       "      <th>124</th>\n",
       "      <td>G90-2.0 MW</td>\n",
       "      <td>(6, 10]</td>\n",
       "      <td>258.0</td>\n",
       "    </tr>\n",
       "    <tr>\n",
       "      <th>...</th>\n",
       "      <td>...</td>\n",
       "      <td>...</td>\n",
       "      <td>...</td>\n",
       "    </tr>\n",
       "    <tr>\n",
       "      <th>104</th>\n",
       "      <td>G87-2.0 MW</td>\n",
       "      <td>(-Infinito, -26]</td>\n",
       "      <td>1.0</td>\n",
       "    </tr>\n",
       "    <tr>\n",
       "      <th>102</th>\n",
       "      <td>G87-2.0 MW</td>\n",
       "      <td>(-26, -22]</td>\n",
       "      <td>1.0</td>\n",
       "    </tr>\n",
       "    <tr>\n",
       "      <th>133</th>\n",
       "      <td>GE 1.5s</td>\n",
       "      <td>(-14, -10]</td>\n",
       "      <td>1.0</td>\n",
       "    </tr>\n",
       "    <tr>\n",
       "      <th>94</th>\n",
       "      <td>G83-2.0 MW</td>\n",
       "      <td>(-14, -10]</td>\n",
       "      <td>1.0</td>\n",
       "    </tr>\n",
       "    <tr>\n",
       "      <th>115</th>\n",
       "      <td>G90-2.0 MW</td>\n",
       "      <td>(-22, -18]</td>\n",
       "      <td>1.0</td>\n",
       "    </tr>\n",
       "  </tbody>\n",
       "</table>\n",
       "<p>184 rows × 3 columns</p>\n",
       "</div>"
      ],
      "text/plain": [
       "          Model           BIN_YAW  Yaw_Bin_Rank\n",
       "79   G52-850 kW    (26, Infinito]        1137.0\n",
       "81   G58-850 kW    (26, Infinito]         615.0\n",
       "111  G87-2.0 MW           (6, 10]         456.0\n",
       "108  G87-2.0 MW            (2, 6]         314.0\n",
       "124  G90-2.0 MW           (6, 10]         258.0\n",
       "..          ...               ...           ...\n",
       "104  G87-2.0 MW  (-Infinito, -26]           1.0\n",
       "102  G87-2.0 MW        (-26, -22]           1.0\n",
       "133     GE 1.5s        (-14, -10]           1.0\n",
       "94   G83-2.0 MW        (-14, -10]           1.0\n",
       "115  G90-2.0 MW        (-22, -18]           1.0\n",
       "\n",
       "[184 rows x 3 columns]"
      ]
     },
     "execution_count": 52,
     "metadata": {},
     "output_type": "execute_result"
    }
   ],
   "source": [
    "oem_alert = oem_alert.sort_values(by=[\"Yaw_Bin_Rank\"], ascending=False)\n",
    "oem_alert"
   ]
  },
  {
   "cell_type": "code",
   "execution_count": null,
   "metadata": {},
   "outputs": [],
   "source": []
  },
  {
   "cell_type": "code",
   "execution_count": 53,
   "metadata": {},
   "outputs": [
    {
     "data": {
      "text/plain": [
       "(2, 6]              18\n",
       "(-2, 2]             17\n",
       "(10, 14]            16\n",
       "(26, Infinito]      16\n",
       "(6, 10]             16\n",
       "(18, 22]            14\n",
       "(14, 18]            14\n",
       "(-10, -6]           11\n",
       "(-14, -10]          11\n",
       "(-6, -2]            11\n",
       "(22, 26]            10\n",
       "(-22, -18]           8\n",
       "(-18, -14]           8\n",
       "(-Infinito, -26]     7\n",
       "(-26, -22]           7\n",
       "Name: BIN_YAW, dtype: int64"
      ]
     },
     "execution_count": 53,
     "metadata": {},
     "output_type": "execute_result"
    }
   ],
   "source": [
    "oem_alert[\"BIN_YAW\"].value_counts()"
   ]
  },
  {
   "cell_type": "code",
   "execution_count": null,
   "metadata": {},
   "outputs": [],
   "source": []
  },
  {
   "cell_type": "code",
   "execution_count": 55,
   "metadata": {},
   "outputs": [
    {
     "data": {
      "image/png": "[encoded data removed]",
      "text/plain": [
       "<Figure size 864x576 with 1 Axes>"
      ]
     },
     "metadata": {
      "needs_background": "light"
     },
     "output_type": "display_data"
    }
   ],
   "source": [
    "plt.figure(figsize = (12, 8))\n",
    "sns.countplot(y= \"BIN_YAW\", data=oem_alert, order=oem_alert['BIN_YAW'].value_counts().index)\n",
    "plt.show()"
   ]
  },
  {
   "cell_type": "code",
   "execution_count": null,
   "metadata": {},
   "outputs": [],
   "source": []
  },
  {
   "cell_type": "markdown",
   "metadata": {},
   "source": [
    "# Ordering Based on Bin_Yaw"
   ]
  },
  {
   "cell_type": "code",
   "execution_count": 56,
   "metadata": {},
   "outputs": [],
   "source": [
    "bin_yaw_order = {\"(-Infinito, -26]\", \"(-26, -22]\", \"(-22, -18]\", \"(-18, -14]\",\n",
    "                 \"(-14, -10]\", \"(-10, -6]\", \"(-6, -2]\", \"(-2, 2]\", \"(2, 6]\", \n",
    "                 \"(6, 10]\", \"(10, 14]\", \"(14, 18]\", \"(18, 22]\", \"(22, 26]\", \"(26, Infinito]\"}"
   ]
  },
  {
   "cell_type": "code",
   "execution_count": 57,
   "metadata": {},
   "outputs": [],
   "source": [
    "bin_yaw_order_dict = {\"(-Infinito, -26]\": 1, \"(-26, -22]\": 2, \"(-22, -18]\": 3, \n",
    "                      \"(-18, -14]\": 4, \"(-14, -10]\": 5, \"(-10, -6]\": 6, \"(-6, -2]\": 7,\n",
    "                      \"(-2, 2]\": 8, \"(2, 6]\": 9, \"(6, 10]\": 10, \"(10, 14]\": 11, \n",
    "                      \"(14, 18]\": 12, \"(18, 22]\": 13, \"(22, 26]\": 14, \"(26, Infinito]\": 15}"
   ]
  },
  {
   "cell_type": "code",
   "execution_count": 58,
   "metadata": {},
   "outputs": [
    {
     "data": {
      "text/html": [
       "<div>\n",
       "<style scoped>\n",
       "    .dataframe tbody tr th:only-of-type {\n",
       "        vertical-align: middle;\n",
       "    }\n",
       "\n",
       "    .dataframe tbody tr th {\n",
       "        vertical-align: top;\n",
       "    }\n",
       "\n",
       "    .dataframe thead th {\n",
       "        text-align: right;\n",
       "    }\n",
       "</style>\n",
       "<table border=\"1\" class=\"dataframe\">\n",
       "  <thead>\n",
       "    <tr style=\"text-align: right;\">\n",
       "      <th></th>\n",
       "      <th>Model</th>\n",
       "      <th>Yaw_Bin_Rank</th>\n",
       "    </tr>\n",
       "    <tr>\n",
       "      <th>BIN_YAW</th>\n",
       "      <th></th>\n",
       "      <th></th>\n",
       "    </tr>\n",
       "  </thead>\n",
       "  <tbody>\n",
       "    <tr>\n",
       "      <th>(-2, 2]</th>\n",
       "      <td>G87-2.0 MW</td>\n",
       "      <td>208.0</td>\n",
       "    </tr>\n",
       "    <tr>\n",
       "      <th>(-2, 2]</th>\n",
       "      <td>G90-2.0 MW</td>\n",
       "      <td>137.0</td>\n",
       "    </tr>\n",
       "    <tr>\n",
       "      <th>(-2, 2]</th>\n",
       "      <td>G97-2.0 MW</td>\n",
       "      <td>32.0</td>\n",
       "    </tr>\n",
       "    <tr>\n",
       "      <th>(-2, 2]</th>\n",
       "      <td>G80-2.0 MW</td>\n",
       "      <td>20.0</td>\n",
       "    </tr>\n",
       "    <tr>\n",
       "      <th>(-2, 2]</th>\n",
       "      <td>S88-2.1 MW</td>\n",
       "      <td>15.0</td>\n",
       "    </tr>\n",
       "    <tr>\n",
       "      <th>...</th>\n",
       "      <td>...</td>\n",
       "      <td>...</td>\n",
       "    </tr>\n",
       "    <tr>\n",
       "      <th>(22, 26]</th>\n",
       "      <td>G114-2.1 MW</td>\n",
       "      <td>5.0</td>\n",
       "    </tr>\n",
       "    <tr>\n",
       "      <th>(22, 26]</th>\n",
       "      <td>ECO80 S1</td>\n",
       "      <td>2.0</td>\n",
       "    </tr>\n",
       "    <tr>\n",
       "      <th>(22, 26]</th>\n",
       "      <td>G114-2.0 MW</td>\n",
       "      <td>1.0</td>\n",
       "    </tr>\n",
       "    <tr>\n",
       "      <th>(22, 26]</th>\n",
       "      <td>ECO80 S6</td>\n",
       "      <td>1.0</td>\n",
       "    </tr>\n",
       "    <tr>\n",
       "      <th>(22, 26]</th>\n",
       "      <td>ECO80 S9</td>\n",
       "      <td>1.0</td>\n",
       "    </tr>\n",
       "  </tbody>\n",
       "</table>\n",
       "<p>184 rows × 2 columns</p>\n",
       "</div>"
      ],
      "text/plain": [
       "                Model  Yaw_Bin_Rank\n",
       "BIN_YAW                            \n",
       "(-2, 2]    G87-2.0 MW         208.0\n",
       "(-2, 2]    G90-2.0 MW         137.0\n",
       "(-2, 2]    G97-2.0 MW          32.0\n",
       "(-2, 2]    G80-2.0 MW          20.0\n",
       "(-2, 2]    S88-2.1 MW          15.0\n",
       "...               ...           ...\n",
       "(22, 26]  G114-2.1 MW           5.0\n",
       "(22, 26]     ECO80 S1           2.0\n",
       "(22, 26]  G114-2.0 MW           1.0\n",
       "(22, 26]     ECO80 S6           1.0\n",
       "(22, 26]     ECO80 S9           1.0\n",
       "\n",
       "[184 rows x 2 columns]"
      ]
     },
     "execution_count": 58,
     "metadata": {},
     "output_type": "execute_result"
    }
   ],
   "source": [
    "alert_ordered = oem_alert.set_index(\"BIN_YAW\").loc[bin_yaw_order]\n",
    "alert_ordered"
   ]
  },
  {
   "cell_type": "code",
   "execution_count": 63,
   "metadata": {},
   "outputs": [
    {
     "data": {
      "text/html": [
       "<div>\n",
       "<style scoped>\n",
       "    .dataframe tbody tr th:only-of-type {\n",
       "        vertical-align: middle;\n",
       "    }\n",
       "\n",
       "    .dataframe tbody tr th {\n",
       "        vertical-align: top;\n",
       "    }\n",
       "\n",
       "    .dataframe thead th {\n",
       "        text-align: right;\n",
       "    }\n",
       "</style>\n",
       "<table border=\"1\" class=\"dataframe\">\n",
       "  <thead>\n",
       "    <tr style=\"text-align: right;\">\n",
       "      <th></th>\n",
       "      <th>Model</th>\n",
       "      <th>BIN_YAW</th>\n",
       "      <th>Yaw_Bin_Rank</th>\n",
       "    </tr>\n",
       "  </thead>\n",
       "  <tbody>\n",
       "    <tr>\n",
       "      <th>79</th>\n",
       "      <td>G52-850 kW</td>\n",
       "      <td>(26, Infinito]</td>\n",
       "      <td>1137.0</td>\n",
       "    </tr>\n",
       "    <tr>\n",
       "      <th>81</th>\n",
       "      <td>G58-850 kW</td>\n",
       "      <td>(26, Infinito]</td>\n",
       "      <td>615.0</td>\n",
       "    </tr>\n",
       "    <tr>\n",
       "      <th>111</th>\n",
       "      <td>G87-2.0 MW</td>\n",
       "      <td>(6, 10]</td>\n",
       "      <td>456.0</td>\n",
       "    </tr>\n",
       "    <tr>\n",
       "      <th>108</th>\n",
       "      <td>G87-2.0 MW</td>\n",
       "      <td>(2, 6]</td>\n",
       "      <td>314.0</td>\n",
       "    </tr>\n",
       "    <tr>\n",
       "      <th>124</th>\n",
       "      <td>G90-2.0 MW</td>\n",
       "      <td>(6, 10]</td>\n",
       "      <td>258.0</td>\n",
       "    </tr>\n",
       "  </tbody>\n",
       "</table>\n",
       "</div>"
      ],
      "text/plain": [
       "          Model         BIN_YAW  Yaw_Bin_Rank\n",
       "79   G52-850 kW  (26, Infinito]        1137.0\n",
       "81   G58-850 kW  (26, Infinito]         615.0\n",
       "111  G87-2.0 MW         (6, 10]         456.0\n",
       "108  G87-2.0 MW          (2, 6]         314.0\n",
       "124  G90-2.0 MW         (6, 10]         258.0"
      ]
     },
     "execution_count": 63,
     "metadata": {},
     "output_type": "execute_result"
    }
   ],
   "source": [
    "oem_alert.head()"
   ]
  },
  {
   "cell_type": "code",
   "execution_count": null,
   "metadata": {},
   "outputs": [],
   "source": []
  },
  {
   "cell_type": "code",
   "execution_count": 67,
   "metadata": {},
   "outputs": [],
   "source": [
    "# Let's convert population to integers as its an object at this moment\n",
    "# oem2['Yaw_Bin_Rank'] = oem2['Yaw_Bin_Rank'].map(lambda x: int(x))"
   ]
  },
  {
   "cell_type": "code",
   "execution_count": 68,
   "metadata": {},
   "outputs": [
    {
     "ename": "TypeError",
     "evalue": "'Int64Index' object is not callable",
     "output_type": "error",
     "traceback": [
      "\u001b[0;31m---------------------------------------------------------------------------\u001b[0m",
      "\u001b[0;31mTypeError\u001b[0m                                 Traceback (most recent call last)",
      "\u001b[0;32m<ipython-input-68-1e505f245993>\u001b[0m in \u001b[0;36m<module>\u001b[0;34m\u001b[0m\n\u001b[1;32m      1\u001b[0m \u001b[0mfig\u001b[0m\u001b[0;34m,\u001b[0m \u001b[0max\u001b[0m \u001b[0;34m=\u001b[0m \u001b[0mplt\u001b[0m\u001b[0;34m.\u001b[0m\u001b[0msubplots\u001b[0m\u001b[0;34m(\u001b[0m\u001b[0;36m1\u001b[0m\u001b[0;34m,\u001b[0m\u001b[0;36m1\u001b[0m\u001b[0;34m,\u001b[0m \u001b[0mfigsize\u001b[0m\u001b[0;34m=\u001b[0m\u001b[0;34m(\u001b[0m\u001b[0;36m15\u001b[0m\u001b[0;34m,\u001b[0m \u001b[0;36m6\u001b[0m\u001b[0;34m)\u001b[0m\u001b[0;34m)\u001b[0m\u001b[0;34m\u001b[0m\u001b[0;34m\u001b[0m\u001b[0m\n\u001b[0;32m----> 2\u001b[0;31m \u001b[0mdata_q1\u001b[0m \u001b[0;34m=\u001b[0m \u001b[0moem2\u001b[0m\u001b[0;34m[\u001b[0m\u001b[0;34m'Yaw_Bin_Rank'\u001b[0m\u001b[0;34m]\u001b[0m\u001b[0;34m.\u001b[0m\u001b[0mvalue_counts\u001b[0m\u001b[0;34m(\u001b[0m\u001b[0;34m)\u001b[0m\u001b[0;34m.\u001b[0m\u001b[0miloc\u001b[0m\u001b[0;34m[\u001b[0m\u001b[0;34m:\u001b[0m\u001b[0;36m25\u001b[0m\u001b[0;34m]\u001b[0m\u001b[0;34m.\u001b[0m\u001b[0mindex\u001b[0m\u001b[0;34m(\u001b[0m\u001b[0;34m)\u001b[0m\u001b[0;34m\u001b[0m\u001b[0;34m\u001b[0m\u001b[0m\n\u001b[0m\u001b[1;32m      3\u001b[0m ax.bar(data_q1.index, data_q1, width=0.55, \n\u001b[1;32m      4\u001b[0m        \u001b[0medgecolor\u001b[0m\u001b[0;34m=\u001b[0m\u001b[0;34m'darkgray'\u001b[0m\u001b[0;34m,\u001b[0m \u001b[0mcolor\u001b[0m\u001b[0;34m=\u001b[0m\u001b[0;34m'#004c70'\u001b[0m\u001b[0;34m,\u001b[0m\u001b[0;34m\u001b[0m\u001b[0;34m\u001b[0m\u001b[0m\n\u001b[1;32m      5\u001b[0m        linewidth=0.7)\n",
      "\u001b[0;31mTypeError\u001b[0m: 'Int64Index' object is not callable"
     ]
    },
    {
     "data": {
      "image/png": "[encoded data removed]",
      "text/plain": [
       "<Figure size 1080x432 with 1 Axes>"
      ]
     },
     "metadata": {
      "needs_background": "light"
     },
     "output_type": "display_data"
    }
   ],
   "source": [
    "fig, ax = plt.subplots(1,1, figsize=(15, 6))\n",
    "data_q1 = oem_alert['Yaw_Bin_Rank'].value_counts().iloc[:25].index()\n",
    "ax.bar(data_q1.index, data_q1, width=0.55, \n",
    "       edgecolor='darkgray', color='#004c70',\n",
    "       linewidth=0.7)\n",
    "\n",
    "for i in data_q1.index:\n",
    "    ax.annotate(f\"{data_q1[i]}\", \n",
    "                   xy=(i, data_q1[i] + 100),\n",
    "                   va = 'center', ha='center',fontweight='light', fontfamily='serif',\n",
    "                   color='#4a4a4a')\n",
    "\n",
    "\n",
    "for s in ['top', 'left', 'right']:\n",
    "    ax.spines[s].set_visible(False)   \n",
    "\n",
    "ax.set_ylim(0, 6500)    \n",
    "ax.set_xticklabels(data_q1.index, fontfamily='serif')\n",
    "ax.set_yticklabels(np.arange(0, 6501, 1000),fontfamily='serif')\n",
    "fig.text(0.1, 0.95, 'Ordered Yaw Bin Rank', fontsize=15, fontweight='bold', fontfamily='serif')    \n",
    "ax.grid(axis='y', linestyle='-', alpha=0.4)    \n",
    "plt.show()"
   ]
  },
  {
   "cell_type": "code",
   "execution_count": null,
   "metadata": {},
   "outputs": [],
   "source": []
  },
  {
   "cell_type": "markdown",
   "metadata": {},
   "source": [
    "# Searching for Turbine G and Eco"
   ]
  },
  {
   "cell_type": "code",
   "execution_count": 77,
   "metadata": {},
   "outputs": [
    {
     "data": {
      "text/plain": [
       "79     G52-850 kW\n",
       "81     G58-850 kW\n",
       "111    G87-2.0 MW\n",
       "108    G87-2.0 MW\n",
       "124    G90-2.0 MW\n",
       "          ...    \n",
       "104    G87-2.0 MW\n",
       "102    G87-2.0 MW\n",
       "133       GE 1.5s\n",
       "94     G83-2.0 MW\n",
       "115    G90-2.0 MW\n",
       "Name: Model, Length: 89, dtype: object"
      ]
     },
     "execution_count": 77,
     "metadata": {},
     "output_type": "execute_result"
    }
   ],
   "source": [
    "oem_alert.loc[oem_alert[\"Model\"].str.contains(\"G\") , \"Model\"]"
   ]
  },
  {
   "cell_type": "code",
   "execution_count": 83,
   "metadata": {},
   "outputs": [
    {
     "data": {
      "text/plain": [
       "49    ECO80 V8\n",
       "0       ECO100\n",
       "5       ECO100\n",
       "51    ECO80 V8\n",
       "3       ECO100\n",
       "        ...   \n",
       "15    ECO74 V8\n",
       "16    ECO74 V8\n",
       "7       ECO100\n",
       "18    ECO74 V8\n",
       "19    ECO74 V8\n",
       "Name: Model, Length: 61, dtype: object"
      ]
     },
     "execution_count": 83,
     "metadata": {},
     "output_type": "execute_result"
    }
   ],
   "source": [
    "oem_alert.loc[oem_alert[\"Model\"].str.contains(\"ECO\") , \"Model\"]"
   ]
  },
  {
   "cell_type": "code",
   "execution_count": null,
   "metadata": {},
   "outputs": [],
   "source": []
  },
  {
   "cell_type": "markdown",
   "metadata": {},
   "source": [
    "# Now that we found G and Eco , lets create a list for a DataFrame for G and Eco"
   ]
  },
  {
   "cell_type": "code",
   "execution_count": 72,
   "metadata": {},
   "outputs": [
    {
     "name": "stdout",
     "output_type": "stream",
     "text": [
      "Turbine Model G and Eco: \n",
      "-----------------------------------\n",
      "['G90-2.0 MW', 'ECO74 V8', 'G90-LM-2.0 MW', 'ECO80 S9', 'G52 PC-850 kW', 'ECO80 S6', 'G114-2.1 MW', 'G80-2.0 MW', 'G83-2.0 MW', 'G58-850 kW', 'G114-2.625 MW', 'G52-850 kW', 'G58 PC-850 kW', 'ECO80 V8', 'ECO80 S1', 'G97-2.0 MW', 'ECO100', 'G114-2.0 MW', 'G87-2.0 MW']\n"
     ]
    }
   ],
   "source": [
    "model_list = []\n",
    "\n",
    "for x in alert_ordered[\"Model\"]:\n",
    "    if x[0] == \"G\" or x[0:3] == \"ECO\":\n",
    "        if x[0:2] != \"GE\":\n",
    "            model_list.append(x)\n",
    "            \n",
    "model_list = list(set(model_list))\n",
    "print(\"Turbine Model G and Eco: \")\n",
    "print(\"-\"*35)\n",
    "print(model_list)"
   ]
  },
  {
   "cell_type": "code",
   "execution_count": null,
   "metadata": {},
   "outputs": [],
   "source": []
  },
  {
   "cell_type": "markdown",
   "metadata": {},
   "source": [
    "# Plot Alerts for Each model"
   ]
  },
  {
   "cell_type": "code",
   "execution_count": 84,
   "metadata": {},
   "outputs": [
    {
     "data": {
      "application/vnd.plotly.v1+json": {
       "config": {
        "plotlyServerURL": "https://plot.ly"
       },
       "data": [
        {
         "alignmentgroup": "True",
         "hovertemplate": "color=G87-2.0 MW<br>x=%{x}<br>y=%{y}<extra></extra>",
         "legendgroup": "G87-2.0 MW",
         "marker": {
          "color": "#636efa"
         },
         "name": "G87-2.0 MW",
         "offsetgroup": "G87-2.0 MW",
         "orientation": "v",
         "showlegend": true,
         "textposition": "auto",
         "type": "bar",
         "x": [
          "(-2, 2]",
          "(6, 10]",
          "(2, 6]",
          "(18, 22]",
          "(26, Infinito]",
          "(10, 14]",
          "(-6, -2]",
          "(14, 18]",
          "(-26, -22]",
          "(-Infinito, -26]",
          "(-10, -6]",
          "(-14, -10]",
          "(22, 26]"
         ],
         "xaxis": "x",
         "y": [
          208,
          456,
          314,
          11,
          60,
          144,
          81,
          21,
          1,
          1,
          26,
          4,
          12
         ],
         "yaxis": "y"
        },
        {
         "alignmentgroup": "True",
         "hovertemplate": "color=G90-2.0 MW<br>x=%{x}<br>y=%{y}<extra></extra>",
         "legendgroup": "G90-2.0 MW",
         "marker": {
          "color": "#EF553B"
         },
         "name": "G90-2.0 MW",
         "offsetgroup": "G90-2.0 MW",
         "orientation": "v",
         "showlegend": true,
         "textposition": "auto",
         "type": "bar",
         "x": [
          "(-2, 2]",
          "(6, 10]",
          "(2, 6]",
          "(18, 22]",
          "(26, Infinito]",
          "(10, 14]",
          "(-6, -2]",
          "(14, 18]",
          "(-Infinito, -26]",
          "(-10, -6]",
          "(-14, -10]",
          "(-22, -18]",
          "(22, 26]"
         ],
         "xaxis": "x",
         "y": [
          137,
          258,
          136,
          19,
          83,
          103,
          45,
          26,
          1,
          3,
          2,
          1,
          7
         ],
         "yaxis": "y"
        },
        {
         "alignmentgroup": "True",
         "hovertemplate": "color=G97-2.0 MW<br>x=%{x}<br>y=%{y}<extra></extra>",
         "legendgroup": "G97-2.0 MW",
         "marker": {
          "color": "#00cc96"
         },
         "name": "G97-2.0 MW",
         "offsetgroup": "G97-2.0 MW",
         "orientation": "v",
         "showlegend": true,
         "textposition": "auto",
         "type": "bar",
         "x": [
          "(-2, 2]",
          "(6, 10]",
          "(2, 6]",
          "(10, 14]",
          "(-6, -2]",
          "(-10, -6]"
         ],
         "xaxis": "x",
         "y": [
          32,
          41,
          43,
          25,
          5,
          3
         ],
         "yaxis": "y"
        },
        {
         "alignmentgroup": "True",
         "hovertemplate": "color=G80-2.0 MW<br>x=%{x}<br>y=%{y}<extra></extra>",
         "legendgroup": "G80-2.0 MW",
         "marker": {
          "color": "#ab63fa"
         },
         "name": "G80-2.0 MW",
         "offsetgroup": "G80-2.0 MW",
         "orientation": "v",
         "showlegend": true,
         "textposition": "auto",
         "type": "bar",
         "x": [
          "(-2, 2]",
          "(6, 10]",
          "(2, 6]",
          "(18, 22]",
          "(26, Infinito]",
          "(10, 14]",
          "(-6, -2]",
          "(14, 18]",
          "(-10, -6]",
          "(-14, -10]",
          "(22, 26]"
         ],
         "xaxis": "x",
         "y": [
          20,
          83,
          83,
          12,
          2,
          51,
          5,
          29,
          3,
          1,
          9
         ],
         "yaxis": "y"
        },
        {
         "alignmentgroup": "True",
         "hovertemplate": "color=ECO100<br>x=%{x}<br>y=%{y}<extra></extra>",
         "legendgroup": "ECO100",
         "marker": {
          "color": "#FFA15A"
         },
         "name": "ECO100",
         "offsetgroup": "ECO100",
         "orientation": "v",
         "showlegend": true,
         "textposition": "auto",
         "type": "bar",
         "x": [
          "(-2, 2]",
          "(6, 10]",
          "(2, 6]",
          "(18, 22]",
          "(-6, -2]",
          "(-18, -14]",
          "(14, 18]",
          "(-10, -6]",
          "(-14, -10]",
          "(-22, -18]"
         ],
         "xaxis": "x",
         "y": [
          12,
          2,
          3,
          1,
          15,
          5,
          2,
          21,
          11,
          1
         ],
         "yaxis": "y"
        },
        {
         "alignmentgroup": "True",
         "hovertemplate": "color=ECO80 V8<br>x=%{x}<br>y=%{y}<extra></extra>",
         "legendgroup": "ECO80 V8",
         "marker": {
          "color": "#19d3f3"
         },
         "name": "ECO80 V8",
         "offsetgroup": "ECO80 V8",
         "orientation": "v",
         "showlegend": true,
         "textposition": "auto",
         "type": "bar",
         "x": [
          "(-2, 2]",
          "(6, 10]",
          "(2, 6]",
          "(18, 22]",
          "(26, Infinito]",
          "(10, 14]",
          "(-6, -2]",
          "(-18, -14]",
          "(14, 18]",
          "(-26, -22]",
          "(-Infinito, -26]",
          "(-10, -6]",
          "(-14, -10]",
          "(-22, -18]"
         ],
         "xaxis": "x",
         "y": [
          11,
          3,
          7,
          3,
          2,
          9,
          11,
          21,
          4,
          7,
          1,
          10,
          10,
          15
         ],
         "yaxis": "y"
        },
        {
         "alignmentgroup": "True",
         "hovertemplate": "color=G83-2.0 MW<br>x=%{x}<br>y=%{y}<extra></extra>",
         "legendgroup": "G83-2.0 MW",
         "marker": {
          "color": "#FF6692"
         },
         "name": "G83-2.0 MW",
         "offsetgroup": "G83-2.0 MW",
         "orientation": "v",
         "showlegend": true,
         "textposition": "auto",
         "type": "bar",
         "x": [
          "(-2, 2]",
          "(6, 10]",
          "(2, 6]",
          "(14, 18]",
          "(-10, -6]",
          "(-14, -10]"
         ],
         "xaxis": "x",
         "y": [
          6,
          4,
          8,
          1,
          4,
          1
         ],
         "yaxis": "y"
        },
        {
         "alignmentgroup": "True",
         "hovertemplate": "color=ECO74 V8<br>x=%{x}<br>y=%{y}<extra></extra>",
         "legendgroup": "ECO74 V8",
         "marker": {
          "color": "#B6E880"
         },
         "name": "ECO74 V8",
         "offsetgroup": "ECO74 V8",
         "orientation": "v",
         "showlegend": true,
         "textposition": "auto",
         "type": "bar",
         "x": [
          "(-2, 2]",
          "(6, 10]",
          "(2, 6]",
          "(18, 22]",
          "(10, 14]",
          "(-6, -2]",
          "(-18, -14]",
          "(14, 18]",
          "(-26, -22]",
          "(-Infinito, -26]",
          "(-14, -10]",
          "(-22, -18]"
         ],
         "xaxis": "x",
         "y": [
          5,
          4,
          2,
          1,
          2,
          1,
          2,
          1,
          1,
          1,
          1,
          1
         ],
         "yaxis": "y"
        },
        {
         "alignmentgroup": "True",
         "hovertemplate": "color=ECO80 S1<br>x=%{x}<br>y=%{y}<extra></extra>",
         "legendgroup": "ECO80 S1",
         "marker": {
          "color": "#FF97FF"
         },
         "name": "ECO80 S1",
         "offsetgroup": "ECO80 S1",
         "orientation": "v",
         "showlegend": true,
         "textposition": "auto",
         "type": "bar",
         "x": [
          "(-2, 2]",
          "(6, 10]",
          "(2, 6]",
          "(18, 22]",
          "(26, Infinito]",
          "(10, 14]",
          "(22, 26]"
         ],
         "xaxis": "x",
         "y": [
          5,
          2,
          3,
          2,
          10,
          5,
          2
         ],
         "yaxis": "y"
        },
        {
         "alignmentgroup": "True",
         "hovertemplate": "color=ECO80 S9<br>x=%{x}<br>y=%{y}<extra></extra>",
         "legendgroup": "ECO80 S9",
         "marker": {
          "color": "#FECB52"
         },
         "name": "ECO80 S9",
         "offsetgroup": "ECO80 S9",
         "orientation": "v",
         "showlegend": true,
         "textposition": "auto",
         "type": "bar",
         "x": [
          "(-2, 2]",
          "(6, 10]",
          "(2, 6]",
          "(18, 22]",
          "(10, 14]",
          "(-6, -2]",
          "(-18, -14]",
          "(-26, -22]",
          "(-10, -6]",
          "(-14, -10]",
          "(-22, -18]",
          "(22, 26]"
         ],
         "xaxis": "x",
         "y": [
          2,
          2,
          2,
          2,
          1,
          4,
          2,
          2,
          5,
          2,
          4,
          1
         ],
         "yaxis": "y"
        },
        {
         "alignmentgroup": "True",
         "hovertemplate": "color=G114-2.1 MW<br>x=%{x}<br>y=%{y}<extra></extra>",
         "legendgroup": "G114-2.1 MW",
         "marker": {
          "color": "#636efa"
         },
         "name": "G114-2.1 MW",
         "offsetgroup": "G114-2.1 MW",
         "orientation": "v",
         "showlegend": true,
         "textposition": "auto",
         "type": "bar",
         "x": [
          "(-2, 2]",
          "(6, 10]",
          "(2, 6]",
          "(18, 22]",
          "(26, Infinito]",
          "(10, 14]",
          "(14, 18]",
          "(22, 26]"
         ],
         "xaxis": "x",
         "y": [
          2,
          61,
          21,
          39,
          1,
          23,
          63,
          5
         ],
         "yaxis": "y"
        },
        {
         "alignmentgroup": "True",
         "hovertemplate": "color=ECO80 S6<br>x=%{x}<br>y=%{y}<extra></extra>",
         "legendgroup": "ECO80 S6",
         "marker": {
          "color": "#EF553B"
         },
         "name": "ECO80 S6",
         "offsetgroup": "ECO80 S6",
         "orientation": "v",
         "showlegend": true,
         "textposition": "auto",
         "type": "bar",
         "x": [
          "(-2, 2]",
          "(18, 22]",
          "(26, Infinito]",
          "(10, 14]",
          "(14, 18]",
          "(22, 26]"
         ],
         "xaxis": "x",
         "y": [
          1,
          2,
          4,
          1,
          3,
          1
         ],
         "yaxis": "y"
        },
        {
         "alignmentgroup": "True",
         "hovertemplate": "color=G114-2.0 MW<br>x=%{x}<br>y=%{y}<extra></extra>",
         "legendgroup": "G114-2.0 MW",
         "marker": {
          "color": "#00cc96"
         },
         "name": "G114-2.0 MW",
         "offsetgroup": "G114-2.0 MW",
         "orientation": "v",
         "showlegend": true,
         "textposition": "auto",
         "type": "bar",
         "x": [
          "(6, 10]",
          "(2, 6]",
          "(18, 22]",
          "(10, 14]",
          "(14, 18]",
          "(22, 26]"
         ],
         "xaxis": "x",
         "y": [
          28,
          30,
          11,
          55,
          29,
          1
         ],
         "yaxis": "y"
        },
        {
         "alignmentgroup": "True",
         "hovertemplate": "color=G114-2.625 MW<br>x=%{x}<br>y=%{y}<extra></extra>",
         "legendgroup": "G114-2.625 MW",
         "marker": {
          "color": "#ab63fa"
         },
         "name": "G114-2.625 MW",
         "offsetgroup": "G114-2.625 MW",
         "orientation": "v",
         "showlegend": true,
         "textposition": "auto",
         "type": "bar",
         "x": [
          "(18, 22]",
          "(10, 14]",
          "(14, 18]"
         ],
         "xaxis": "x",
         "y": [
          1,
          4,
          2
         ],
         "yaxis": "y"
        },
        {
         "alignmentgroup": "True",
         "hovertemplate": "color=G52-850 kW<br>x=%{x}<br>y=%{y}<extra></extra>",
         "legendgroup": "G52-850 kW",
         "marker": {
          "color": "#FFA15A"
         },
         "name": "G52-850 kW",
         "offsetgroup": "G52-850 kW",
         "orientation": "v",
         "showlegend": true,
         "textposition": "auto",
         "type": "bar",
         "x": [
          "(26, Infinito]"
         ],
         "xaxis": "x",
         "y": [
          1137
         ],
         "yaxis": "y"
        },
        {
         "alignmentgroup": "True",
         "hovertemplate": "color=G58-850 kW<br>x=%{x}<br>y=%{y}<extra></extra>",
         "legendgroup": "G58-850 kW",
         "marker": {
          "color": "#19d3f3"
         },
         "name": "G58-850 kW",
         "offsetgroup": "G58-850 kW",
         "orientation": "v",
         "showlegend": true,
         "textposition": "auto",
         "type": "bar",
         "x": [
          "(26, Infinito]"
         ],
         "xaxis": "x",
         "y": [
          615
         ],
         "yaxis": "y"
        },
        {
         "alignmentgroup": "True",
         "hovertemplate": "color=G52 PC-850 kW<br>x=%{x}<br>y=%{y}<extra></extra>",
         "legendgroup": "G52 PC-850 kW",
         "marker": {
          "color": "#FF6692"
         },
         "name": "G52 PC-850 kW",
         "offsetgroup": "G52 PC-850 kW",
         "orientation": "v",
         "showlegend": true,
         "textposition": "auto",
         "type": "bar",
         "x": [
          "(26, Infinito]"
         ],
         "xaxis": "x",
         "y": [
          174
         ],
         "yaxis": "y"
        },
        {
         "alignmentgroup": "True",
         "hovertemplate": "color=G90-LM-2.0 MW<br>x=%{x}<br>y=%{y}<extra></extra>",
         "legendgroup": "G90-LM-2.0 MW",
         "marker": {
          "color": "#B6E880"
         },
         "name": "G90-LM-2.0 MW",
         "offsetgroup": "G90-LM-2.0 MW",
         "orientation": "v",
         "showlegend": true,
         "textposition": "auto",
         "type": "bar",
         "x": [
          "(26, Infinito]"
         ],
         "xaxis": "x",
         "y": [
          93
         ],
         "yaxis": "y"
        },
        {
         "alignmentgroup": "True",
         "hovertemplate": "color=G58 PC-850 kW<br>x=%{x}<br>y=%{y}<extra></extra>",
         "legendgroup": "G58 PC-850 kW",
         "marker": {
          "color": "#FF97FF"
         },
         "name": "G58 PC-850 kW",
         "offsetgroup": "G58 PC-850 kW",
         "orientation": "v",
         "showlegend": true,
         "textposition": "auto",
         "type": "bar",
         "x": [
          "(26, Infinito]"
         ],
         "xaxis": "x",
         "y": [
          72
         ],
         "yaxis": "y"
        }
       ],
       "layout": {
        "barmode": "relative",
        "font": {
         "size": 13
        },
        "legend": {
         "title": {
          "text": "color"
         },
         "tracegroupgap": 0
        },
        "margin": {
         "t": 60
        },
        "template": {
         "data": {
          "bar": [
           {
            "error_x": {
             "color": "#2a3f5f"
            },
            "error_y": {
             "color": "#2a3f5f"
            },
            "marker": {
             "line": {
              "color": "#E5ECF6",
              "width": 0.5
             }
            },
            "type": "bar"
           }
          ],
          "barpolar": [
           {
            "marker": {
             "line": {
              "color": "#E5ECF6",
              "width": 0.5
             }
            },
            "type": "barpolar"
           }
          ],
          "carpet": [
           {
            "aaxis": {
             "endlinecolor": "#2a3f5f",
             "gridcolor": "white",
             "linecolor": "white",
             "minorgridcolor": "white",
             "startlinecolor": "#2a3f5f"
            },
            "baxis": {
             "endlinecolor": "#2a3f5f",
             "gridcolor": "white",
             "linecolor": "white",
             "minorgridcolor": "white",
             "startlinecolor": "#2a3f5f"
            },
            "type": "carpet"
           }
          ],
          "choropleth": [
           {
            "colorbar": {
             "outlinewidth": 0,
             "ticks": ""
            },
            "type": "choropleth"
           }
          ],
          "contour": [
           {
            "colorbar": {
             "outlinewidth": 0,
             "ticks": ""
            },
            "colorscale": [
             [
              0,
              "#0d0887"
             ],
             [
              0.1111111111111111,
              "#46039f"
             ],
             [
              0.2222222222222222,
              "#7201a8"
             ],
             [
              0.3333333333333333,
              "#9c179e"
             ],
             [
              0.4444444444444444,
              "#bd3786"
             ],
             [
              0.5555555555555556,
              "#d8576b"
             ],
             [
              0.6666666666666666,
              "#ed7953"
             ],
             [
              0.7777777777777778,
              "#fb9f3a"
             ],
             [
              0.8888888888888888,
              "#fdca26"
             ],
             [
              1,
              "#f0f921"
             ]
            ],
            "type": "contour"
           }
          ],
          "contourcarpet": [
           {
            "colorbar": {
             "outlinewidth": 0,
             "ticks": ""
            },
            "type": "contourcarpet"
           }
          ],
          "heatmap": [
           {
            "colorbar": {
             "outlinewidth": 0,
             "ticks": ""
            },
            "colorscale": [
             [
              0,
              "#0d0887"
             ],
             [
              0.1111111111111111,
              "#46039f"
             ],
             [
              0.2222222222222222,
              "#7201a8"
             ],
             [
              0.3333333333333333,
              "#9c179e"
             ],
             [
              0.4444444444444444,
              "#bd3786"
             ],
             [
              0.5555555555555556,
              "#d8576b"
             ],
             [
              0.6666666666666666,
              "#ed7953"
             ],
             [
              0.7777777777777778,
              "#fb9f3a"
             ],
             [
              0.8888888888888888,
              "#fdca26"
             ],
             [
              1,
              "#f0f921"
             ]
            ],
            "type": "heatmap"
           }
          ],
          "heatmapgl": [
           {
            "colorbar": {
             "outlinewidth": 0,
             "ticks": ""
            },
            "colorscale": [
             [
              0,
              "#0d0887"
             ],
             [
              0.1111111111111111,
              "#46039f"
             ],
             [
              0.2222222222222222,
              "#7201a8"
             ],
             [
              0.3333333333333333,
              "#9c179e"
             ],
             [
              0.4444444444444444,
              "#bd3786"
             ],
             [
              0.5555555555555556,
              "#d8576b"
             ],
             [
              0.6666666666666666,
              "#ed7953"
             ],
             [
              0.7777777777777778,
              "#fb9f3a"
             ],
             [
              0.8888888888888888,
              "#fdca26"
             ],
             [
              1,
              "#f0f921"
             ]
            ],
            "type": "heatmapgl"
           }
          ],
          "histogram": [
           {
            "marker": {
             "colorbar": {
              "outlinewidth": 0,
              "ticks": ""
             }
            },
            "type": "histogram"
           }
          ],
          "histogram2d": [
           {
            "colorbar": {
             "outlinewidth": 0,
             "ticks": ""
            },
            "colorscale": [
             [
              0,
              "#0d0887"
             ],
             [
              0.1111111111111111,
              "#46039f"
             ],
             [
              0.2222222222222222,
              "#7201a8"
             ],
             [
              0.3333333333333333,
              "#9c179e"
             ],
             [
              0.4444444444444444,
              "#bd3786"
             ],
             [
              0.5555555555555556,
              "#d8576b"
             ],
             [
              0.6666666666666666,
              "#ed7953"
             ],
             [
              0.7777777777777778,
              "#fb9f3a"
             ],
             [
              0.8888888888888888,
              "#fdca26"
             ],
             [
              1,
              "#f0f921"
             ]
            ],
            "type": "histogram2d"
           }
          ],
          "histogram2dcontour": [
           {
            "colorbar": {
             "outlinewidth": 0,
             "ticks": ""
            },
            "colorscale": [
             [
              0,
              "#0d0887"
             ],
             [
              0.1111111111111111,
              "#46039f"
             ],
             [
              0.2222222222222222,
              "#7201a8"
             ],
             [
              0.3333333333333333,
              "#9c179e"
             ],
             [
              0.4444444444444444,
              "#bd3786"
             ],
             [
              0.5555555555555556,
              "#d8576b"
             ],
             [
              0.6666666666666666,
              "#ed7953"
             ],
             [
              0.7777777777777778,
              "#fb9f3a"
             ],
             [
              0.8888888888888888,
              "#fdca26"
             ],
             [
              1,
              "#f0f921"
             ]
            ],
            "type": "histogram2dcontour"
           }
          ],
          "mesh3d": [
           {
            "colorbar": {
             "outlinewidth": 0,
             "ticks": ""
            },
            "type": "mesh3d"
           }
          ],
          "parcoords": [
           {
            "line": {
             "colorbar": {
              "outlinewidth": 0,
              "ticks": ""
             }
            },
            "type": "parcoords"
           }
          ],
          "pie": [
           {
            "automargin": true,
            "type": "pie"
           }
          ],
          "scatter": [
           {
            "marker": {
             "colorbar": {
              "outlinewidth": 0,
              "ticks": ""
             }
            },
            "type": "scatter"
           }
          ],
          "scatter3d": [
           {
            "line": {
             "colorbar": {
              "outlinewidth": 0,
              "ticks": ""
             }
            },
            "marker": {
             "colorbar": {
              "outlinewidth": 0,
              "ticks": ""
             }
            },
            "type": "scatter3d"
           }
          ],
          "scattercarpet": [
           {
            "marker": {
             "colorbar": {
              "outlinewidth": 0,
              "ticks": ""
             }
            },
            "type": "scattercarpet"
           }
          ],
          "scattergeo": [
           {
            "marker": {
             "colorbar": {
              "outlinewidth": 0,
              "ticks": ""
             }
            },
            "type": "scattergeo"
           }
          ],
          "scattergl": [
           {
            "marker": {
             "colorbar": {
              "outlinewidth": 0,
              "ticks": ""
             }
            },
            "type": "scattergl"
           }
          ],
          "scattermapbox": [
           {
            "marker": {
             "colorbar": {
              "outlinewidth": 0,
              "ticks": ""
             }
            },
            "type": "scattermapbox"
           }
          ],
          "scatterpolar": [
           {
            "marker": {
             "colorbar": {
              "outlinewidth": 0,
              "ticks": ""
             }
            },
            "type": "scatterpolar"
           }
          ],
          "scatterpolargl": [
           {
            "marker": {
             "colorbar": {
              "outlinewidth": 0,
              "ticks": ""
             }
            },
            "type": "scatterpolargl"
           }
          ],
          "scatterternary": [
           {
            "marker": {
             "colorbar": {
              "outlinewidth": 0,
              "ticks": ""
             }
            },
            "type": "scatterternary"
           }
          ],
          "surface": [
           {
            "colorbar": {
             "outlinewidth": 0,
             "ticks": ""
            },
            "colorscale": [
             [
              0,
              "#0d0887"
             ],
             [
              0.1111111111111111,
              "#46039f"
             ],
             [
              0.2222222222222222,
              "#7201a8"
             ],
             [
              0.3333333333333333,
              "#9c179e"
             ],
             [
              0.4444444444444444,
              "#bd3786"
             ],
             [
              0.5555555555555556,
              "#d8576b"
             ],
             [
              0.6666666666666666,
              "#ed7953"
             ],
             [
              0.7777777777777778,
              "#fb9f3a"
             ],
             [
              0.8888888888888888,
              "#fdca26"
             ],
             [
              1,
              "#f0f921"
             ]
            ],
            "type": "surface"
           }
          ],
          "table": [
           {
            "cells": {
             "fill": {
              "color": "#EBF0F8"
             },
             "line": {
              "color": "white"
             }
            },
            "header": {
             "fill": {
              "color": "#C8D4E3"
             },
             "line": {
              "color": "white"
             }
            },
            "type": "table"
           }
          ]
         },
         "layout": {
          "annotationdefaults": {
           "arrowcolor": "#2a3f5f",
           "arrowhead": 0,
           "arrowwidth": 1
          },
          "autotypenumbers": "strict",
          "coloraxis": {
           "colorbar": {
            "outlinewidth": 0,
            "ticks": ""
           }
          },
          "colorscale": {
           "diverging": [
            [
             0,
             "#8e0152"
            ],
            [
             0.1,
             "#c51b7d"
            ],
            [
             0.2,
             "#de77ae"
            ],
            [
             0.3,
             "#f1b6da"
            ],
            [
             0.4,
             "#fde0ef"
            ],
            [
             0.5,
             "#f7f7f7"
            ],
            [
             0.6,
             "#e6f5d0"
            ],
            [
             0.7,
             "#b8e186"
            ],
            [
             0.8,
             "#7fbc41"
            ],
            [
             0.9,
             "#4d9221"
            ],
            [
             1,
             "#276419"
            ]
           ],
           "sequential": [
            [
             0,
             "#0d0887"
            ],
            [
             0.1111111111111111,
             "#46039f"
            ],
            [
             0.2222222222222222,
             "#7201a8"
            ],
            [
             0.3333333333333333,
             "#9c179e"
            ],
            [
             0.4444444444444444,
             "#bd3786"
            ],
            [
             0.5555555555555556,
             "#d8576b"
            ],
            [
             0.6666666666666666,
             "#ed7953"
            ],
            [
             0.7777777777777778,
             "#fb9f3a"
            ],
            [
             0.8888888888888888,
             "#fdca26"
            ],
            [
             1,
             "#f0f921"
            ]
           ],
           "sequentialminus": [
            [
             0,
             "#0d0887"
            ],
            [
             0.1111111111111111,
             "#46039f"
            ],
            [
             0.2222222222222222,
             "#7201a8"
            ],
            [
             0.3333333333333333,
             "#9c179e"
            ],
            [
             0.4444444444444444,
             "#bd3786"
            ],
            [
             0.5555555555555556,
             "#d8576b"
            ],
            [
             0.6666666666666666,
             "#ed7953"
            ],
            [
             0.7777777777777778,
             "#fb9f3a"
            ],
            [
             0.8888888888888888,
             "#fdca26"
            ],
            [
             1,
             "#f0f921"
            ]
           ]
          },
          "colorway": [
           "#636efa",
           "#EF553B",
           "#00cc96",
           "#ab63fa",
           "#FFA15A",
           "#19d3f3",
           "#FF6692",
           "#B6E880",
           "#FF97FF",
           "#FECB52"
          ],
          "font": {
           "color": "#2a3f5f"
          },
          "geo": {
           "bgcolor": "white",
           "lakecolor": "white",
           "landcolor": "#E5ECF6",
           "showlakes": true,
           "showland": true,
           "subunitcolor": "white"
          },
          "hoverlabel": {
           "align": "left"
          },
          "hovermode": "closest",
          "mapbox": {
           "style": "light"
          },
          "paper_bgcolor": "white",
          "plot_bgcolor": "#E5ECF6",
          "polar": {
           "angularaxis": {
            "gridcolor": "white",
            "linecolor": "white",
            "ticks": ""
           },
           "bgcolor": "#E5ECF6",
           "radialaxis": {
            "gridcolor": "white",
            "linecolor": "white",
            "ticks": ""
           }
          },
          "scene": {
           "xaxis": {
            "backgroundcolor": "#E5ECF6",
            "gridcolor": "white",
            "gridwidth": 2,
            "linecolor": "white",
            "showbackground": true,
            "ticks": "",
            "zerolinecolor": "white"
           },
           "yaxis": {
            "backgroundcolor": "#E5ECF6",
            "gridcolor": "white",
            "gridwidth": 2,
            "linecolor": "white",
            "showbackground": true,
            "ticks": "",
            "zerolinecolor": "white"
           },
           "zaxis": {
            "backgroundcolor": "#E5ECF6",
            "gridcolor": "white",
            "gridwidth": 2,
            "linecolor": "white",
            "showbackground": true,
            "ticks": "",
            "zerolinecolor": "white"
           }
          },
          "shapedefaults": {
           "line": {
            "color": "#2a3f5f"
           }
          },
          "ternary": {
           "aaxis": {
            "gridcolor": "white",
            "linecolor": "white",
            "ticks": ""
           },
           "baxis": {
            "gridcolor": "white",
            "linecolor": "white",
            "ticks": ""
           },
           "bgcolor": "#E5ECF6",
           "caxis": {
            "gridcolor": "white",
            "linecolor": "white",
            "ticks": ""
           }
          },
          "title": {
           "x": 0.05
          },
          "xaxis": {
           "automargin": true,
           "gridcolor": "white",
           "linecolor": "white",
           "ticks": "",
           "title": {
            "standoff": 15
           },
           "zerolinecolor": "white",
           "zerolinewidth": 2
          },
          "yaxis": {
           "automargin": true,
           "gridcolor": "white",
           "linecolor": "white",
           "ticks": "",
           "title": {
            "standoff": 15
           },
           "zerolinecolor": "white",
           "zerolinewidth": 2
          }
         }
        },
        "title": {
         "text": "Alert based on Yaw_Bin_Rank for each Model"
        },
        "xaxis": {
         "anchor": "y",
         "domain": [
          0,
          1
         ],
         "title": {
          "text": "BIN_YAW"
         }
        },
        "yaxis": {
         "anchor": "x",
         "domain": [
          0,
          1
         ],
         "title": {
          "text": "Alert Model Count"
         }
        }
       }
      },
      "text/html": [
       "<div>                            <div id=\"b6f5de1a-27c7-487a-8025-b45eddc763b5\" class=\"plotly-graph-div\" style=\"height:525px; width:100%;\"></div>            <script type=\"text/javascript\">                require([\"plotly\"], function(Plotly) {                    window.PLOTLYENV=window.PLOTLYENV || {};                                    if (document.getElementById(\"b6f5de1a-27c7-487a-8025-b45eddc763b5\")) {                    Plotly.newPlot(                        \"b6f5de1a-27c7-487a-8025-b45eddc763b5\",                        [{\"alignmentgroup\": \"True\", \"hovertemplate\": \"color=G87-2.0 MW<br>x=%{x}<br>y=%{y}<extra></extra>\", \"legendgroup\": \"G87-2.0 MW\", \"marker\": {\"color\": \"#636efa\"}, \"name\": \"G87-2.0 MW\", \"offsetgroup\": \"G87-2.0 MW\", \"orientation\": \"v\", \"showlegend\": true, \"textposition\": \"auto\", \"type\": \"bar\", \"x\": [\"(-2, 2]\", \"(6, 10]\", \"(2, 6]\", \"(18, 22]\", \"(26, Infinito]\", \"(10, 14]\", \"(-6, -2]\", \"(14, 18]\", \"(-26, -22]\", \"(-Infinito, -26]\", \"(-10, -6]\", \"(-14, -10]\", \"(22, 26]\"], \"xaxis\": \"x\", \"y\": [208.0, 456.0, 314.0, 11.0, 60.0, 144.0, 81.0, 21.0, 1.0, 1.0, 26.0, 4.0, 12.0], \"yaxis\": \"y\"}, {\"alignmentgroup\": \"True\", \"hovertemplate\": \"color=G90-2.0 MW<br>x=%{x}<br>y=%{y}<extra></extra>\", \"legendgroup\": \"G90-2.0 MW\", \"marker\": {\"color\": \"#EF553B\"}, \"name\": \"G90-2.0 MW\", \"offsetgroup\": \"G90-2.0 MW\", \"orientation\": \"v\", \"showlegend\": true, \"textposition\": \"auto\", \"type\": \"bar\", \"x\": [\"(-2, 2]\", \"(6, 10]\", \"(2, 6]\", \"(18, 22]\", \"(26, Infinito]\", \"(10, 14]\", \"(-6, -2]\", \"(14, 18]\", \"(-Infinito, -26]\", \"(-10, -6]\", \"(-14, -10]\", \"(-22, -18]\", \"(22, 26]\"], \"xaxis\": \"x\", \"y\": [137.0, 258.0, 136.0, 19.0, 83.0, 103.0, 45.0, 26.0, 1.0, 3.0, 2.0, 1.0, 7.0], \"yaxis\": \"y\"}, {\"alignmentgroup\": \"True\", \"hovertemplate\": \"color=G97-2.0 MW<br>x=%{x}<br>y=%{y}<extra></extra>\", \"legendgroup\": \"G97-2.0 MW\", \"marker\": {\"color\": \"#00cc96\"}, \"name\": \"G97-2.0 MW\", \"offsetgroup\": \"G97-2.0 MW\", \"orientation\": \"v\", \"showlegend\": true, \"textposition\": \"auto\", \"type\": \"bar\", \"x\": [\"(-2, 2]\", \"(6, 10]\", \"(2, 6]\", \"(10, 14]\", \"(-6, -2]\", \"(-10, -6]\"], \"xaxis\": \"x\", \"y\": [32.0, 41.0, 43.0, 25.0, 5.0, 3.0], \"yaxis\": \"y\"}, {\"alignmentgroup\": \"True\", \"hovertemplate\": \"color=G80-2.0 MW<br>x=%{x}<br>y=%{y}<extra></extra>\", \"legendgroup\": \"G80-2.0 MW\", \"marker\": {\"color\": \"#ab63fa\"}, \"name\": \"G80-2.0 MW\", \"offsetgroup\": \"G80-2.0 MW\", \"orientation\": \"v\", \"showlegend\": true, \"textposition\": \"auto\", \"type\": \"bar\", \"x\": [\"(-2, 2]\", \"(6, 10]\", \"(2, 6]\", \"(18, 22]\", \"(26, Infinito]\", \"(10, 14]\", \"(-6, -2]\", \"(14, 18]\", \"(-10, -6]\", \"(-14, -10]\", \"(22, 26]\"], \"xaxis\": \"x\", \"y\": [20.0, 83.0, 83.0, 12.0, 2.0, 51.0, 5.0, 29.0, 3.0, 1.0, 9.0], \"yaxis\": \"y\"}, {\"alignmentgroup\": \"True\", \"hovertemplate\": \"color=ECO100<br>x=%{x}<br>y=%{y}<extra></extra>\", \"legendgroup\": \"ECO100\", \"marker\": {\"color\": \"#FFA15A\"}, \"name\": \"ECO100\", \"offsetgroup\": \"ECO100\", \"orientation\": \"v\", \"showlegend\": true, \"textposition\": \"auto\", \"type\": \"bar\", \"x\": [\"(-2, 2]\", \"(6, 10]\", \"(2, 6]\", \"(18, 22]\", \"(-6, -2]\", \"(-18, -14]\", \"(14, 18]\", \"(-10, -6]\", \"(-14, -10]\", \"(-22, -18]\"], \"xaxis\": \"x\", \"y\": [12.0, 2.0, 3.0, 1.0, 15.0, 5.0, 2.0, 21.0, 11.0, 1.0], \"yaxis\": \"y\"}, {\"alignmentgroup\": \"True\", \"hovertemplate\": \"color=ECO80 V8<br>x=%{x}<br>y=%{y}<extra></extra>\", \"legendgroup\": \"ECO80 V8\", \"marker\": {\"color\": \"#19d3f3\"}, \"name\": \"ECO80 V8\", \"offsetgroup\": \"ECO80 V8\", \"orientation\": \"v\", \"showlegend\": true, \"textposition\": \"auto\", \"type\": \"bar\", \"x\": [\"(-2, 2]\", \"(6, 10]\", \"(2, 6]\", \"(18, 22]\", \"(26, Infinito]\", \"(10, 14]\", \"(-6, -2]\", \"(-18, -14]\", \"(14, 18]\", \"(-26, -22]\", \"(-Infinito, -26]\", \"(-10, -6]\", \"(-14, -10]\", \"(-22, -18]\"], \"xaxis\": \"x\", \"y\": [11.0, 3.0, 7.0, 3.0, 2.0, 9.0, 11.0, 21.0, 4.0, 7.0, 1.0, 10.0, 10.0, 15.0], \"yaxis\": \"y\"}, {\"alignmentgroup\": \"True\", \"hovertemplate\": \"color=G83-2.0 MW<br>x=%{x}<br>y=%{y}<extra></extra>\", \"legendgroup\": \"G83-2.0 MW\", \"marker\": {\"color\": \"#FF6692\"}, \"name\": \"G83-2.0 MW\", \"offsetgroup\": \"G83-2.0 MW\", \"orientation\": \"v\", \"showlegend\": true, \"textposition\": \"auto\", \"type\": \"bar\", \"x\": [\"(-2, 2]\", \"(6, 10]\", \"(2, 6]\", \"(14, 18]\", \"(-10, -6]\", \"(-14, -10]\"], \"xaxis\": \"x\", \"y\": [6.0, 4.0, 8.0, 1.0, 4.0, 1.0], \"yaxis\": \"y\"}, {\"alignmentgroup\": \"True\", \"hovertemplate\": \"color=ECO74 V8<br>x=%{x}<br>y=%{y}<extra></extra>\", \"legendgroup\": \"ECO74 V8\", \"marker\": {\"color\": \"#B6E880\"}, \"name\": \"ECO74 V8\", \"offsetgroup\": \"ECO74 V8\", \"orientation\": \"v\", \"showlegend\": true, \"textposition\": \"auto\", \"type\": \"bar\", \"x\": [\"(-2, 2]\", \"(6, 10]\", \"(2, 6]\", \"(18, 22]\", \"(10, 14]\", \"(-6, -2]\", \"(-18, -14]\", \"(14, 18]\", \"(-26, -22]\", \"(-Infinito, -26]\", \"(-14, -10]\", \"(-22, -18]\"], \"xaxis\": \"x\", \"y\": [5.0, 4.0, 2.0, 1.0, 2.0, 1.0, 2.0, 1.0, 1.0, 1.0, 1.0, 1.0], \"yaxis\": \"y\"}, {\"alignmentgroup\": \"True\", \"hovertemplate\": \"color=ECO80 S1<br>x=%{x}<br>y=%{y}<extra></extra>\", \"legendgroup\": \"ECO80 S1\", \"marker\": {\"color\": \"#FF97FF\"}, \"name\": \"ECO80 S1\", \"offsetgroup\": \"ECO80 S1\", \"orientation\": \"v\", \"showlegend\": true, \"textposition\": \"auto\", \"type\": \"bar\", \"x\": [\"(-2, 2]\", \"(6, 10]\", \"(2, 6]\", \"(18, 22]\", \"(26, Infinito]\", \"(10, 14]\", \"(22, 26]\"], \"xaxis\": \"x\", \"y\": [5.0, 2.0, 3.0, 2.0, 10.0, 5.0, 2.0], \"yaxis\": \"y\"}, {\"alignmentgroup\": \"True\", \"hovertemplate\": \"color=ECO80 S9<br>x=%{x}<br>y=%{y}<extra></extra>\", \"legendgroup\": \"ECO80 S9\", \"marker\": {\"color\": \"#FECB52\"}, \"name\": \"ECO80 S9\", \"offsetgroup\": \"ECO80 S9\", \"orientation\": \"v\", \"showlegend\": true, \"textposition\": \"auto\", \"type\": \"bar\", \"x\": [\"(-2, 2]\", \"(6, 10]\", \"(2, 6]\", \"(18, 22]\", \"(10, 14]\", \"(-6, -2]\", \"(-18, -14]\", \"(-26, -22]\", \"(-10, -6]\", \"(-14, -10]\", \"(-22, -18]\", \"(22, 26]\"], \"xaxis\": \"x\", \"y\": [2.0, 2.0, 2.0, 2.0, 1.0, 4.0, 2.0, 2.0, 5.0, 2.0, 4.0, 1.0], \"yaxis\": \"y\"}, {\"alignmentgroup\": \"True\", \"hovertemplate\": \"color=G114-2.1 MW<br>x=%{x}<br>y=%{y}<extra></extra>\", \"legendgroup\": \"G114-2.1 MW\", \"marker\": {\"color\": \"#636efa\"}, \"name\": \"G114-2.1 MW\", \"offsetgroup\": \"G114-2.1 MW\", \"orientation\": \"v\", \"showlegend\": true, \"textposition\": \"auto\", \"type\": \"bar\", \"x\": [\"(-2, 2]\", \"(6, 10]\", \"(2, 6]\", \"(18, 22]\", \"(26, Infinito]\", \"(10, 14]\", \"(14, 18]\", \"(22, 26]\"], \"xaxis\": \"x\", \"y\": [2.0, 61.0, 21.0, 39.0, 1.0, 23.0, 63.0, 5.0], \"yaxis\": \"y\"}, {\"alignmentgroup\": \"True\", \"hovertemplate\": \"color=ECO80 S6<br>x=%{x}<br>y=%{y}<extra></extra>\", \"legendgroup\": \"ECO80 S6\", \"marker\": {\"color\": \"#EF553B\"}, \"name\": \"ECO80 S6\", \"offsetgroup\": \"ECO80 S6\", \"orientation\": \"v\", \"showlegend\": true, \"textposition\": \"auto\", \"type\": \"bar\", \"x\": [\"(-2, 2]\", \"(18, 22]\", \"(26, Infinito]\", \"(10, 14]\", \"(14, 18]\", \"(22, 26]\"], \"xaxis\": \"x\", \"y\": [1.0, 2.0, 4.0, 1.0, 3.0, 1.0], \"yaxis\": \"y\"}, {\"alignmentgroup\": \"True\", \"hovertemplate\": \"color=G114-2.0 MW<br>x=%{x}<br>y=%{y}<extra></extra>\", \"legendgroup\": \"G114-2.0 MW\", \"marker\": {\"color\": \"#00cc96\"}, \"name\": \"G114-2.0 MW\", \"offsetgroup\": \"G114-2.0 MW\", \"orientation\": \"v\", \"showlegend\": true, \"textposition\": \"auto\", \"type\": \"bar\", \"x\": [\"(6, 10]\", \"(2, 6]\", \"(18, 22]\", \"(10, 14]\", \"(14, 18]\", \"(22, 26]\"], \"xaxis\": \"x\", \"y\": [28.0, 30.0, 11.0, 55.0, 29.0, 1.0], \"yaxis\": \"y\"}, {\"alignmentgroup\": \"True\", \"hovertemplate\": \"color=G114-2.625 MW<br>x=%{x}<br>y=%{y}<extra></extra>\", \"legendgroup\": \"G114-2.625 MW\", \"marker\": {\"color\": \"#ab63fa\"}, \"name\": \"G114-2.625 MW\", \"offsetgroup\": \"G114-2.625 MW\", \"orientation\": \"v\", \"showlegend\": true, \"textposition\": \"auto\", \"type\": \"bar\", \"x\": [\"(18, 22]\", \"(10, 14]\", \"(14, 18]\"], \"xaxis\": \"x\", \"y\": [1.0, 4.0, 2.0], \"yaxis\": \"y\"}, {\"alignmentgroup\": \"True\", \"hovertemplate\": \"color=G52-850 kW<br>x=%{x}<br>y=%{y}<extra></extra>\", \"legendgroup\": \"G52-850 kW\", \"marker\": {\"color\": \"#FFA15A\"}, \"name\": \"G52-850 kW\", \"offsetgroup\": \"G52-850 kW\", \"orientation\": \"v\", \"showlegend\": true, \"textposition\": \"auto\", \"type\": \"bar\", \"x\": [\"(26, Infinito]\"], \"xaxis\": \"x\", \"y\": [1137.0], \"yaxis\": \"y\"}, {\"alignmentgroup\": \"True\", \"hovertemplate\": \"color=G58-850 kW<br>x=%{x}<br>y=%{y}<extra></extra>\", \"legendgroup\": \"G58-850 kW\", \"marker\": {\"color\": \"#19d3f3\"}, \"name\": \"G58-850 kW\", \"offsetgroup\": \"G58-850 kW\", \"orientation\": \"v\", \"showlegend\": true, \"textposition\": \"auto\", \"type\": \"bar\", \"x\": [\"(26, Infinito]\"], \"xaxis\": \"x\", \"y\": [615.0], \"yaxis\": \"y\"}, {\"alignmentgroup\": \"True\", \"hovertemplate\": \"color=G52 PC-850 kW<br>x=%{x}<br>y=%{y}<extra></extra>\", \"legendgroup\": \"G52 PC-850 kW\", \"marker\": {\"color\": \"#FF6692\"}, \"name\": \"G52 PC-850 kW\", \"offsetgroup\": \"G52 PC-850 kW\", \"orientation\": \"v\", \"showlegend\": true, \"textposition\": \"auto\", \"type\": \"bar\", \"x\": [\"(26, Infinito]\"], \"xaxis\": \"x\", \"y\": [174.0], \"yaxis\": \"y\"}, {\"alignmentgroup\": \"True\", \"hovertemplate\": \"color=G90-LM-2.0 MW<br>x=%{x}<br>y=%{y}<extra></extra>\", \"legendgroup\": \"G90-LM-2.0 MW\", \"marker\": {\"color\": \"#B6E880\"}, \"name\": \"G90-LM-2.0 MW\", \"offsetgroup\": \"G90-LM-2.0 MW\", \"orientation\": \"v\", \"showlegend\": true, \"textposition\": \"auto\", \"type\": \"bar\", \"x\": [\"(26, Infinito]\"], \"xaxis\": \"x\", \"y\": [93.0], \"yaxis\": \"y\"}, {\"alignmentgroup\": \"True\", \"hovertemplate\": \"color=G58 PC-850 kW<br>x=%{x}<br>y=%{y}<extra></extra>\", \"legendgroup\": \"G58 PC-850 kW\", \"marker\": {\"color\": \"#FF97FF\"}, \"name\": \"G58 PC-850 kW\", \"offsetgroup\": \"G58 PC-850 kW\", \"orientation\": \"v\", \"showlegend\": true, \"textposition\": \"auto\", \"type\": \"bar\", \"x\": [\"(26, Infinito]\"], \"xaxis\": \"x\", \"y\": [72.0], \"yaxis\": \"y\"}],                        {\"barmode\": \"relative\", \"font\": {\"size\": 13}, \"legend\": {\"title\": {\"text\": \"color\"}, \"tracegroupgap\": 0}, \"margin\": {\"t\": 60}, \"template\": {\"data\": {\"bar\": [{\"error_x\": {\"color\": \"#2a3f5f\"}, \"error_y\": {\"color\": \"#2a3f5f\"}, \"marker\": {\"line\": {\"color\": \"#E5ECF6\", \"width\": 0.5}}, \"type\": \"bar\"}], \"barpolar\": [{\"marker\": {\"line\": {\"color\": \"#E5ECF6\", \"width\": 0.5}}, \"type\": \"barpolar\"}], \"carpet\": [{\"aaxis\": {\"endlinecolor\": \"#2a3f5f\", \"gridcolor\": \"white\", \"linecolor\": \"white\", \"minorgridcolor\": \"white\", \"startlinecolor\": \"#2a3f5f\"}, \"baxis\": {\"endlinecolor\": \"#2a3f5f\", \"gridcolor\": \"white\", \"linecolor\": \"white\", \"minorgridcolor\": \"white\", \"startlinecolor\": \"#2a3f5f\"}, \"type\": \"carpet\"}], \"choropleth\": [{\"colorbar\": {\"outlinewidth\": 0, \"ticks\": \"\"}, \"type\": \"choropleth\"}], \"contour\": [{\"colorbar\": {\"outlinewidth\": 0, \"ticks\": \"\"}, \"colorscale\": [[0.0, \"#0d0887\"], [0.1111111111111111, \"#46039f\"], [0.2222222222222222, \"#7201a8\"], [0.3333333333333333, \"#9c179e\"], [0.4444444444444444, \"#bd3786\"], [0.5555555555555556, \"#d8576b\"], [0.6666666666666666, \"#ed7953\"], [0.7777777777777778, \"#fb9f3a\"], [0.8888888888888888, \"#fdca26\"], [1.0, \"#f0f921\"]], \"type\": \"contour\"}], \"contourcarpet\": [{\"colorbar\": {\"outlinewidth\": 0, \"ticks\": \"\"}, \"type\": \"contourcarpet\"}], \"heatmap\": [{\"colorbar\": {\"outlinewidth\": 0, \"ticks\": \"\"}, \"colorscale\": [[0.0, \"#0d0887\"], [0.1111111111111111, \"#46039f\"], [0.2222222222222222, \"#7201a8\"], [0.3333333333333333, \"#9c179e\"], [0.4444444444444444, \"#bd3786\"], [0.5555555555555556, \"#d8576b\"], [0.6666666666666666, \"#ed7953\"], [0.7777777777777778, \"#fb9f3a\"], [0.8888888888888888, \"#fdca26\"], [1.0, \"#f0f921\"]], \"type\": \"heatmap\"}], \"heatmapgl\": [{\"colorbar\": {\"outlinewidth\": 0, \"ticks\": \"\"}, \"colorscale\": [[0.0, \"#0d0887\"], [0.1111111111111111, \"#46039f\"], [0.2222222222222222, \"#7201a8\"], [0.3333333333333333, \"#9c179e\"], [0.4444444444444444, \"#bd3786\"], [0.5555555555555556, \"#d8576b\"], [0.6666666666666666, \"#ed7953\"], [0.7777777777777778, \"#fb9f3a\"], [0.8888888888888888, \"#fdca26\"], [1.0, \"#f0f921\"]], \"type\": \"heatmapgl\"}], \"histogram\": [{\"marker\": {\"colorbar\": {\"outlinewidth\": 0, \"ticks\": \"\"}}, \"type\": \"histogram\"}], \"histogram2d\": [{\"colorbar\": {\"outlinewidth\": 0, \"ticks\": \"\"}, \"colorscale\": [[0.0, \"#0d0887\"], [0.1111111111111111, \"#46039f\"], [0.2222222222222222, \"#7201a8\"], [0.3333333333333333, \"#9c179e\"], [0.4444444444444444, \"#bd3786\"], [0.5555555555555556, \"#d8576b\"], [0.6666666666666666, \"#ed7953\"], [0.7777777777777778, \"#fb9f3a\"], [0.8888888888888888, \"#fdca26\"], [1.0, \"#f0f921\"]], \"type\": \"histogram2d\"}], \"histogram2dcontour\": [{\"colorbar\": {\"outlinewidth\": 0, \"ticks\": \"\"}, \"colorscale\": [[0.0, \"#0d0887\"], [0.1111111111111111, \"#46039f\"], [0.2222222222222222, \"#7201a8\"], [0.3333333333333333, \"#9c179e\"], [0.4444444444444444, \"#bd3786\"], [0.5555555555555556, \"#d8576b\"], [0.6666666666666666, \"#ed7953\"], [0.7777777777777778, \"#fb9f3a\"], [0.8888888888888888, \"#fdca26\"], [1.0, \"#f0f921\"]], \"type\": \"histogram2dcontour\"}], \"mesh3d\": [{\"colorbar\": {\"outlinewidth\": 0, \"ticks\": \"\"}, \"type\": \"mesh3d\"}], \"parcoords\": [{\"line\": {\"colorbar\": {\"outlinewidth\": 0, \"ticks\": \"\"}}, \"type\": \"parcoords\"}], \"pie\": [{\"automargin\": true, \"type\": \"pie\"}], \"scatter\": [{\"marker\": {\"colorbar\": {\"outlinewidth\": 0, \"ticks\": \"\"}}, \"type\": \"scatter\"}], \"scatter3d\": [{\"line\": {\"colorbar\": {\"outlinewidth\": 0, \"ticks\": \"\"}}, \"marker\": {\"colorbar\": {\"outlinewidth\": 0, \"ticks\": \"\"}}, \"type\": \"scatter3d\"}], \"scattercarpet\": [{\"marker\": {\"colorbar\": {\"outlinewidth\": 0, \"ticks\": \"\"}}, \"type\": \"scattercarpet\"}], \"scattergeo\": [{\"marker\": {\"colorbar\": {\"outlinewidth\": 0, \"ticks\": \"\"}}, \"type\": \"scattergeo\"}], \"scattergl\": [{\"marker\": {\"colorbar\": {\"outlinewidth\": 0, \"ticks\": \"\"}}, \"type\": \"scattergl\"}], \"scattermapbox\": [{\"marker\": {\"colorbar\": {\"outlinewidth\": 0, \"ticks\": \"\"}}, \"type\": \"scattermapbox\"}], \"scatterpolar\": [{\"marker\": {\"colorbar\": {\"outlinewidth\": 0, \"ticks\": \"\"}}, \"type\": \"scatterpolar\"}], \"scatterpolargl\": [{\"marker\": {\"colorbar\": {\"outlinewidth\": 0, \"ticks\": \"\"}}, \"type\": \"scatterpolargl\"}], \"scatterternary\": [{\"marker\": {\"colorbar\": {\"outlinewidth\": 0, \"ticks\": \"\"}}, \"type\": \"scatterternary\"}], \"surface\": [{\"colorbar\": {\"outlinewidth\": 0, \"ticks\": \"\"}, \"colorscale\": [[0.0, \"#0d0887\"], [0.1111111111111111, \"#46039f\"], [0.2222222222222222, \"#7201a8\"], [0.3333333333333333, \"#9c179e\"], [0.4444444444444444, \"#bd3786\"], [0.5555555555555556, \"#d8576b\"], [0.6666666666666666, \"#ed7953\"], [0.7777777777777778, \"#fb9f3a\"], [0.8888888888888888, \"#fdca26\"], [1.0, \"#f0f921\"]], \"type\": \"surface\"}], \"table\": [{\"cells\": {\"fill\": {\"color\": \"#EBF0F8\"}, \"line\": {\"color\": \"white\"}}, \"header\": {\"fill\": {\"color\": \"#C8D4E3\"}, \"line\": {\"color\": \"white\"}}, \"type\": \"table\"}]}, \"layout\": {\"annotationdefaults\": {\"arrowcolor\": \"#2a3f5f\", \"arrowhead\": 0, \"arrowwidth\": 1}, \"autotypenumbers\": \"strict\", \"coloraxis\": {\"colorbar\": {\"outlinewidth\": 0, \"ticks\": \"\"}}, \"colorscale\": {\"diverging\": [[0, \"#8e0152\"], [0.1, \"#c51b7d\"], [0.2, \"#de77ae\"], [0.3, \"#f1b6da\"], [0.4, \"#fde0ef\"], [0.5, \"#f7f7f7\"], [0.6, \"#e6f5d0\"], [0.7, \"#b8e186\"], [0.8, \"#7fbc41\"], [0.9, \"#4d9221\"], [1, \"#276419\"]], \"sequential\": [[0.0, \"#0d0887\"], [0.1111111111111111, \"#46039f\"], [0.2222222222222222, \"#7201a8\"], [0.3333333333333333, \"#9c179e\"], [0.4444444444444444, \"#bd3786\"], [0.5555555555555556, \"#d8576b\"], [0.6666666666666666, \"#ed7953\"], [0.7777777777777778, \"#fb9f3a\"], [0.8888888888888888, \"#fdca26\"], [1.0, \"#f0f921\"]], \"sequentialminus\": [[0.0, \"#0d0887\"], [0.1111111111111111, \"#46039f\"], [0.2222222222222222, \"#7201a8\"], [0.3333333333333333, \"#9c179e\"], [0.4444444444444444, \"#bd3786\"], [0.5555555555555556, \"#d8576b\"], [0.6666666666666666, \"#ed7953\"], [0.7777777777777778, \"#fb9f3a\"], [0.8888888888888888, \"#fdca26\"], [1.0, \"#f0f921\"]]}, \"colorway\": [\"#636efa\", \"#EF553B\", \"#00cc96\", \"#ab63fa\", \"#FFA15A\", \"#19d3f3\", \"#FF6692\", \"#B6E880\", \"#FF97FF\", \"#FECB52\"], \"font\": {\"color\": \"#2a3f5f\"}, \"geo\": {\"bgcolor\": \"white\", \"lakecolor\": \"white\", \"landcolor\": \"#E5ECF6\", \"showlakes\": true, \"showland\": true, \"subunitcolor\": \"white\"}, \"hoverlabel\": {\"align\": \"left\"}, \"hovermode\": \"closest\", \"mapbox\": {\"style\": \"light\"}, \"paper_bgcolor\": \"white\", \"plot_bgcolor\": \"#E5ECF6\", \"polar\": {\"angularaxis\": {\"gridcolor\": \"white\", \"linecolor\": \"white\", \"ticks\": \"\"}, \"bgcolor\": \"#E5ECF6\", \"radialaxis\": {\"gridcolor\": \"white\", \"linecolor\": \"white\", \"ticks\": \"\"}}, \"scene\": {\"xaxis\": {\"backgroundcolor\": \"#E5ECF6\", \"gridcolor\": \"white\", \"gridwidth\": 2, \"linecolor\": \"white\", \"showbackground\": true, \"ticks\": \"\", \"zerolinecolor\": \"white\"}, \"yaxis\": {\"backgroundcolor\": \"#E5ECF6\", \"gridcolor\": \"white\", \"gridwidth\": 2, \"linecolor\": \"white\", \"showbackground\": true, \"ticks\": \"\", \"zerolinecolor\": \"white\"}, \"zaxis\": {\"backgroundcolor\": \"#E5ECF6\", \"gridcolor\": \"white\", \"gridwidth\": 2, \"linecolor\": \"white\", \"showbackground\": true, \"ticks\": \"\", \"zerolinecolor\": \"white\"}}, \"shapedefaults\": {\"line\": {\"color\": \"#2a3f5f\"}}, \"ternary\": {\"aaxis\": {\"gridcolor\": \"white\", \"linecolor\": \"white\", \"ticks\": \"\"}, \"baxis\": {\"gridcolor\": \"white\", \"linecolor\": \"white\", \"ticks\": \"\"}, \"bgcolor\": \"#E5ECF6\", \"caxis\": {\"gridcolor\": \"white\", \"linecolor\": \"white\", \"ticks\": \"\"}}, \"title\": {\"x\": 0.05}, \"xaxis\": {\"automargin\": true, \"gridcolor\": \"white\", \"linecolor\": \"white\", \"ticks\": \"\", \"title\": {\"standoff\": 15}, \"zerolinecolor\": \"white\", \"zerolinewidth\": 2}, \"yaxis\": {\"automargin\": true, \"gridcolor\": \"white\", \"linecolor\": \"white\", \"ticks\": \"\", \"title\": {\"standoff\": 15}, \"zerolinecolor\": \"white\", \"zerolinewidth\": 2}}}, \"title\": {\"text\": \"Alert based on Yaw_Bin_Rank for each Model\"}, \"xaxis\": {\"anchor\": \"y\", \"domain\": [0.0, 1.0], \"title\": {\"text\": \"BIN_YAW\"}}, \"yaxis\": {\"anchor\": \"x\", \"domain\": [0.0, 1.0], \"title\": {\"text\": \"Alert Model Count\"}}},                        {\"responsive\": true}                    ).then(function(){\n",
       "                            \n",
       "var gd = document.getElementById('b6f5de1a-27c7-487a-8025-b45eddc763b5');\n",
       "var x = new MutationObserver(function (mutations, observer) {{\n",
       "        var display = window.getComputedStyle(gd).display;\n",
       "        if (!display || display === 'none') {{\n",
       "            console.log([gd, 'removed!']);\n",
       "            Plotly.purge(gd);\n",
       "            observer.disconnect();\n",
       "        }}\n",
       "}});\n",
       "\n",
       "// Listen for the removal of the full notebook cells\n",
       "var notebookContainer = gd.closest('#notebook-container');\n",
       "if (notebookContainer) {{\n",
       "    x.observe(notebookContainer, {childList: true});\n",
       "}}\n",
       "\n",
       "// Listen for the clearing of the current output cell\n",
       "var outputEl = gd.closest('.output');\n",
       "if (outputEl) {{\n",
       "    x.observe(outputEl, {childList: true});\n",
       "}}\n",
       "\n",
       "                        })                };                });            </script>        </div>"
      ]
     },
     "metadata": {},
     "output_type": "display_data"
    }
   ],
   "source": [
    "# create a new DataFrame for only models G and Eco\n",
    "plot_alert_ordered = alert_ordered[pd.DataFrame(alert_ordered.Model.tolist()).isin(model_list).any(1).values]\n",
    "\n",
    "\n",
    "fig = px.bar(x=plot_alert_ordered.index, y=plot_alert_ordered[\"Yaw_Bin_Rank\"], color=plot_alert_ordered[\"Model\"])\n",
    "fig.update_layout(\n",
    "    title=\"Alert based on Yaw_Bin_Rank for each Model\",\n",
    "    xaxis_title=\"BIN_YAW\",\n",
    "    yaxis_title=\"Alert Model Count\",\n",
    "    font=dict(\n",
    "        size=13\n",
    "    )\n",
    ")\n",
    "fig.show()"
   ]
  },
  {
   "cell_type": "code",
   "execution_count": null,
   "metadata": {},
   "outputs": [],
   "source": []
  },
  {
   "cell_type": "code",
   "execution_count": null,
   "metadata": {},
   "outputs": [],
   "source": []
  },
  {
   "cell_type": "code",
   "execution_count": null,
   "metadata": {},
   "outputs": [],
   "source": []
  },
  {
   "cell_type": "code",
   "execution_count": null,
   "metadata": {},
   "outputs": [],
   "source": []
  },
  {
   "cell_type": "code",
   "execution_count": null,
   "metadata": {},
   "outputs": [],
   "source": []
  },
  {
   "cell_type": "code",
   "execution_count": null,
   "metadata": {},
   "outputs": [],
   "source": []
  },
  {
   "cell_type": "code",
   "execution_count": null,
   "metadata": {},
   "outputs": [],
   "source": []
  },
  {
   "cell_type": "code",
   "execution_count": null,
   "metadata": {},
   "outputs": [],
   "source": []
  },
  {
   "cell_type": "code",
   "execution_count": null,
   "metadata": {},
   "outputs": [],
   "source": []
  },
  {
   "cell_type": "code",
   "execution_count": null,
   "metadata": {},
   "outputs": [],
   "source": []
  },
  {
   "cell_type": "code",
   "execution_count": null,
   "metadata": {},
   "outputs": [],
   "source": []
  },
  {
   "cell_type": "code",
   "execution_count": null,
   "metadata": {},
   "outputs": [],
   "source": []
  },
  {
   "cell_type": "code",
   "execution_count": null,
   "metadata": {},
   "outputs": [],
   "source": []
  },
  {
   "cell_type": "code",
   "execution_count": null,
   "metadata": {},
   "outputs": [],
   "source": []
  },
  {
   "cell_type": "code",
   "execution_count": null,
   "metadata": {},
   "outputs": [],
   "source": []
  },
  {
   "cell_type": "code",
   "execution_count": null,
   "metadata": {},
   "outputs": [],
   "source": []
  },
  {
   "cell_type": "code",
   "execution_count": null,
   "metadata": {},
   "outputs": [],
   "source": []
  },
  {
   "cell_type": "code",
   "execution_count": null,
   "metadata": {},
   "outputs": [],
   "source": []
  },
  {
   "cell_type": "code",
   "execution_count": null,
   "metadata": {},
   "outputs": [],
   "source": []
  },
  {
   "cell_type": "code",
   "execution_count": null,
   "metadata": {},
   "outputs": [],
   "source": []
  },
  {
   "cell_type": "code",
   "execution_count": null,
   "metadata": {},
   "outputs": [],
   "source": []
  },
  {
   "cell_type": "code",
   "execution_count": null,
   "metadata": {},
   "outputs": [],
   "source": []
  },
  {
   "cell_type": "code",
   "execution_count": null,
   "metadata": {},
   "outputs": [],
   "source": []
  },
  {
   "cell_type": "code",
   "execution_count": null,
   "metadata": {},
   "outputs": [],
   "source": []
  },
  {
   "cell_type": "code",
   "execution_count": null,
   "metadata": {},
   "outputs": [],
   "source": []
  },
  {
   "cell_type": "code",
   "execution_count": null,
   "metadata": {},
   "outputs": [],
   "source": []
  },
  {
   "cell_type": "code",
   "execution_count": null,
   "metadata": {},
   "outputs": [],
   "source": []
  },
  {
   "cell_type": "code",
   "execution_count": null,
   "metadata": {},
   "outputs": [],
   "source": []
  },
  {
   "cell_type": "code",
   "execution_count": null,
   "metadata": {},
   "outputs": [],
   "source": []
  },
  {
   "cell_type": "code",
   "execution_count": null,
   "metadata": {},
   "outputs": [],
   "source": []
  },
  {
   "cell_type": "code",
   "execution_count": null,
   "metadata": {},
   "outputs": [],
   "source": []
  },
  {
   "cell_type": "code",
   "execution_count": null,
   "metadata": {},
   "outputs": [],
   "source": []
  },
  {
   "cell_type": "code",
   "execution_count": null,
   "metadata": {},
   "outputs": [],
   "source": []
  },
  {
   "cell_type": "code",
   "execution_count": null,
   "metadata": {},
   "outputs": [],
   "source": []
  },
  {
   "cell_type": "code",
   "execution_count": null,
   "metadata": {},
   "outputs": [],
   "source": []
  },
  {
   "cell_type": "code",
   "execution_count": null,
   "metadata": {},
   "outputs": [],
   "source": []
  },
  {
   "cell_type": "code",
   "execution_count": null,
   "metadata": {},
   "outputs": [],
   "source": []
  },
  {
   "cell_type": "code",
   "execution_count": null,
   "metadata": {},
   "outputs": [],
   "source": []
  },
  {
   "cell_type": "code",
   "execution_count": null,
   "metadata": {},
   "outputs": [],
   "source": []
  },
  {
   "cell_type": "code",
   "execution_count": null,
   "metadata": {},
   "outputs": [],
   "source": []
  },
  {
   "cell_type": "code",
   "execution_count": null,
   "metadata": {},
   "outputs": [],
   "source": []
  },
  {
   "cell_type": "code",
   "execution_count": null,
   "metadata": {},
   "outputs": [],
   "source": []
  },
  {
   "cell_type": "code",
   "execution_count": null,
   "metadata": {},
   "outputs": [],
   "source": []
  },
  {
   "cell_type": "code",
   "execution_count": null,
   "metadata": {},
   "outputs": [],
   "source": []
  },
  {
   "cell_type": "code",
   "execution_count": null,
   "metadata": {},
   "outputs": [],
   "source": []
  },
  {
   "cell_type": "code",
   "execution_count": null,
   "metadata": {},
   "outputs": [],
   "source": []
  },
  {
   "cell_type": "code",
   "execution_count": null,
   "metadata": {},
   "outputs": [],
   "source": []
  },
  {
   "cell_type": "code",
   "execution_count": null,
   "metadata": {},
   "outputs": [],
   "source": []
  },
  {
   "cell_type": "code",
   "execution_count": null,
   "metadata": {},
   "outputs": [],
   "source": []
  },
  {
   "cell_type": "code",
   "execution_count": null,
   "metadata": {},
   "outputs": [],
   "source": []
  },
  {
   "cell_type": "code",
   "execution_count": null,
   "metadata": {},
   "outputs": [],
   "source": []
  },
  {
   "cell_type": "code",
   "execution_count": null,
   "metadata": {},
   "outputs": [],
   "source": []
  },
  {
   "cell_type": "code",
   "execution_count": null,
   "metadata": {},
   "outputs": [],
   "source": []
  },
  {
   "cell_type": "code",
   "execution_count": null,
   "metadata": {},
   "outputs": [],
   "source": []
  },
  {
   "cell_type": "code",
   "execution_count": null,
   "metadata": {},
   "outputs": [],
   "source": []
  },
  {
   "cell_type": "code",
   "execution_count": null,
   "metadata": {},
   "outputs": [],
   "source": []
  },
  {
   "cell_type": "code",
   "execution_count": null,
   "metadata": {},
   "outputs": [],
   "source": []
  },
  {
   "cell_type": "code",
   "execution_count": null,
   "metadata": {},
   "outputs": [],
   "source": []
  },
  {
   "cell_type": "code",
   "execution_count": null,
   "metadata": {},
   "outputs": [],
   "source": []
  },
  {
   "cell_type": "code",
   "execution_count": null,
   "metadata": {},
   "outputs": [],
   "source": []
  },
  {
   "cell_type": "code",
   "execution_count": null,
   "metadata": {},
   "outputs": [],
   "source": []
  },
  {
   "cell_type": "code",
   "execution_count": null,
   "metadata": {},
   "outputs": [],
   "source": []
  },
  {
   "cell_type": "code",
   "execution_count": null,
   "metadata": {},
   "outputs": [],
   "source": []
  },
  {
   "cell_type": "code",
   "execution_count": null,
   "metadata": {},
   "outputs": [],
   "source": []
  },
  {
   "cell_type": "code",
   "execution_count": null,
   "metadata": {},
   "outputs": [],
   "source": []
  },
  {
   "cell_type": "code",
   "execution_count": null,
   "metadata": {},
   "outputs": [],
   "source": []
  },
  {
   "cell_type": "code",
   "execution_count": null,
   "metadata": {},
   "outputs": [],
   "source": []
  },
  {
   "cell_type": "code",
   "execution_count": null,
   "metadata": {},
   "outputs": [],
   "source": []
  },
  {
   "cell_type": "code",
   "execution_count": null,
   "metadata": {},
   "outputs": [],
   "source": []
  },
  {
   "cell_type": "code",
   "execution_count": null,
   "metadata": {},
   "outputs": [],
   "source": []
  },
  {
   "cell_type": "code",
   "execution_count": null,
   "metadata": {},
   "outputs": [],
   "source": []
  },
  {
   "cell_type": "code",
   "execution_count": null,
   "metadata": {},
   "outputs": [],
   "source": []
  },
  {
   "cell_type": "code",
   "execution_count": null,
   "metadata": {},
   "outputs": [],
   "source": []
  },
  {
   "cell_type": "code",
   "execution_count": null,
   "metadata": {},
   "outputs": [],
   "source": []
  },
  {
   "cell_type": "code",
   "execution_count": null,
   "metadata": {},
   "outputs": [],
   "source": []
  },
  {
   "cell_type": "code",
   "execution_count": null,
   "metadata": {},
   "outputs": [],
   "source": []
  },
  {
   "cell_type": "code",
   "execution_count": null,
   "metadata": {},
   "outputs": [],
   "source": []
  },
  {
   "cell_type": "code",
   "execution_count": null,
   "metadata": {},
   "outputs": [],
   "source": []
  },
  {
   "cell_type": "code",
   "execution_count": null,
   "metadata": {},
   "outputs": [],
   "source": []
  },
  {
   "cell_type": "code",
   "execution_count": null,
   "metadata": {},
   "outputs": [],
   "source": []
  },
  {
   "cell_type": "code",
   "execution_count": null,
   "metadata": {},
   "outputs": [],
   "source": []
  },
  {
   "cell_type": "code",
   "execution_count": null,
   "metadata": {},
   "outputs": [],
   "source": []
  },
  {
   "cell_type": "code",
   "execution_count": null,
   "metadata": {},
   "outputs": [],
   "source": []
  },
  {
   "cell_type": "code",
   "execution_count": null,
   "metadata": {},
   "outputs": [],
   "source": []
  },
  {
   "cell_type": "code",
   "execution_count": null,
   "metadata": {},
   "outputs": [],
   "source": []
  },
  {
   "cell_type": "code",
   "execution_count": null,
   "metadata": {},
   "outputs": [],
   "source": []
  },
  {
   "cell_type": "code",
   "execution_count": null,
   "metadata": {},
   "outputs": [],
   "source": []
  },
  {
   "cell_type": "code",
   "execution_count": null,
   "metadata": {},
   "outputs": [],
   "source": []
  },
  {
   "cell_type": "code",
   "execution_count": null,
   "metadata": {},
   "outputs": [],
   "source": []
  },
  {
   "cell_type": "code",
   "execution_count": null,
   "metadata": {},
   "outputs": [],
   "source": []
  },
  {
   "cell_type": "code",
   "execution_count": null,
   "metadata": {},
   "outputs": [],
   "source": []
  },
  {
   "cell_type": "code",
   "execution_count": null,
   "metadata": {},
   "outputs": [],
   "source": []
  },
  {
   "cell_type": "code",
   "execution_count": null,
   "metadata": {},
   "outputs": [],
   "source": []
  },
  {
   "cell_type": "code",
   "execution_count": null,
   "metadata": {},
   "outputs": [],
   "source": []
  },
  {
   "cell_type": "code",
   "execution_count": null,
   "metadata": {},
   "outputs": [],
   "source": []
  },
  {
   "cell_type": "code",
   "execution_count": null,
   "metadata": {},
   "outputs": [],
   "source": []
  },
  {
   "cell_type": "code",
   "execution_count": null,
   "metadata": {},
   "outputs": [],
   "source": []
  },
  {
   "cell_type": "code",
   "execution_count": null,
   "metadata": {},
   "outputs": [],
   "source": []
  },
  {
   "cell_type": "code",
   "execution_count": null,
   "metadata": {},
   "outputs": [],
   "source": []
  },
  {
   "cell_type": "code",
   "execution_count": null,
   "metadata": {},
   "outputs": [],
   "source": []
  },
  {
   "cell_type": "code",
   "execution_count": null,
   "metadata": {},
   "outputs": [],
   "source": []
  },
  {
   "cell_type": "code",
   "execution_count": null,
   "metadata": {},
   "outputs": [],
   "source": []
  },
  {
   "cell_type": "code",
   "execution_count": null,
   "metadata": {},
   "outputs": [],
   "source": []
  },
  {
   "cell_type": "code",
   "execution_count": null,
   "metadata": {},
   "outputs": [],
   "source": []
  },
  {
   "cell_type": "code",
   "execution_count": null,
   "metadata": {},
   "outputs": [],
   "source": []
  },
  {
   "cell_type": "code",
   "execution_count": null,
   "metadata": {},
   "outputs": [],
   "source": []
  },
  {
   "cell_type": "code",
   "execution_count": null,
   "metadata": {},
   "outputs": [],
   "source": []
  },
  {
   "cell_type": "code",
   "execution_count": null,
   "metadata": {},
   "outputs": [],
   "source": []
  },
  {
   "cell_type": "code",
   "execution_count": null,
   "metadata": {},
   "outputs": [],
   "source": []
  },
  {
   "cell_type": "code",
   "execution_count": null,
   "metadata": {},
   "outputs": [],
   "source": []
  },
  {
   "cell_type": "code",
   "execution_count": null,
   "metadata": {},
   "outputs": [],
   "source": []
  },
  {
   "cell_type": "code",
   "execution_count": null,
   "metadata": {},
   "outputs": [],
   "source": []
  },
  {
   "cell_type": "code",
   "execution_count": null,
   "metadata": {},
   "outputs": [],
   "source": []
  },
  {
   "cell_type": "code",
   "execution_count": null,
   "metadata": {},
   "outputs": [],
   "source": []
  },
  {
   "cell_type": "code",
   "execution_count": null,
   "metadata": {},
   "outputs": [],
   "source": []
  },
  {
   "cell_type": "code",
   "execution_count": null,
   "metadata": {},
   "outputs": [],
   "source": []
  },
  {
   "cell_type": "code",
   "execution_count": null,
   "metadata": {},
   "outputs": [],
   "source": []
  },
  {
   "cell_type": "code",
   "execution_count": null,
   "metadata": {},
   "outputs": [],
   "source": []
  },
  {
   "cell_type": "code",
   "execution_count": null,
   "metadata": {},
   "outputs": [],
   "source": []
  },
  {
   "cell_type": "code",
   "execution_count": null,
   "metadata": {},
   "outputs": [],
   "source": []
  },
  {
   "cell_type": "code",
   "execution_count": null,
   "metadata": {},
   "outputs": [],
   "source": []
  },
  {
   "cell_type": "code",
   "execution_count": null,
   "metadata": {},
   "outputs": [],
   "source": []
  },
  {
   "cell_type": "code",
   "execution_count": null,
   "metadata": {},
   "outputs": [],
   "source": []
  },
  {
   "cell_type": "code",
   "execution_count": null,
   "metadata": {},
   "outputs": [],
   "source": []
  },
  {
   "cell_type": "code",
   "execution_count": null,
   "metadata": {},
   "outputs": [],
   "source": []
  }
 ],
 "metadata": {
  "kernelspec": {
   "display_name": "Python [conda env:learn-env] *",
   "language": "python",
   "name": "conda-env-learn-env-py"
  },
  "language_info": {
   "codemirror_mode": {
    "name": "ipython",
    "version": 3
   },
   "file_extension": ".py",
   "mimetype": "text/x-python",
   "name": "python",
   "nbconvert_exporter": "python",
   "pygments_lexer": "ipython3",
   "version": "3.6.10"
  }
 },
 "nbformat": 4,
 "nbformat_minor": 4
}
