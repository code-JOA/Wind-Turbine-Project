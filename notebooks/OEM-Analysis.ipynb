{
 "cells": [
  {
   "cell_type": "code",
   "execution_count": 1,
   "metadata": {},
   "outputs": [],
   "source": [
    "from datetime import datetime, timedelta\n",
    "import math\n",
    "# import pyodbc as odbc\n",
    "import pandas as pd\n",
    "pd.set_option('display.max_columns', 50)\n",
    "\n",
    "import numpy as np\n",
    "import seaborn as sns\n",
    "import matplotlib.pyplot as plt\n",
    "%matplotlib inline\n",
    "import plotly.express as px\n",
    "\n",
    "from plotly.subplots import make_subplots\n",
    "import plotly.graph_objects as go\n",
    "\n",
    "# from getpass import getpass, getuser\n",
    "from functools import reduce"
   ]
  },
  {
   "cell_type": "markdown",
   "metadata": {},
   "source": [
    "# Connecting to System to retrieve data"
   ]
  },
  {
   "cell_type": "code",
   "execution_count": null,
   "metadata": {},
   "outputs": [],
   "source": [
    "# uid = 'DOMINA_CONSULTA'\n",
    "# pw = getpass(prompt='Password: ', stream=None)"
   ]
  },
  {
   "cell_type": "code",
   "execution_count": null,
   "metadata": {},
   "outputs": [],
   "source": [
    "# domina_connection = odbc.connect(\"DSN=DOMINA_PRODUCTION;UID=\" + uid + \";PWD=\" +pw, autocommit = True)"
   ]
  },
  {
   "cell_type": "code",
   "execution_count": null,
   "metadata": {},
   "outputs": [],
   "source": [
    "# query_text = \"\"\"\n",
    "#  SELECT y.FEC_HORA_INI, e.nom_elemento,e.cod_elemento, i.nom_instalacion, y.BIN_YAW, sum(y.pot_media) AS \"Sum_Of_Avg_W_In_Bin\", RANK() OVER (PARTITION BY y.FEC_HORA_INI, e.nom_elemento,e.cod_elemento, i.nom_instalacion ORDER BY sum(y.pot_media) DESC ) AS \"Yaw_Bin_Rank\"\n",
    "#     FROM DOMINAGE.R_DATOS_YMA y\n",
    "#         inner join DOMINAGE.DGE_INSTALACIONES i\n",
    "#             ON i.cod_instalacion = y.cod_instalacion\n",
    "#         inner join DOMINAGE.DGE_ELEMENTOS e\n",
    "#             ON e.cod_elemento = y.cod_elemento\n",
    "    \n",
    "#     WHERE FEC_HORA_FIN BETWEEN TO_DATE('2020-11-01','yyyy-mm-dd') AND TO_DATE('2020-11-01','yyyy-mm-dd') AND y.tiempo_total >= 100 AND BIN_VIENTO IN ('(6, 9]','(9, 12]','(3, 6]') AND\n",
    "#     i.nom_instalacion IN ('BLUE CREEK', 'SOUTH CHESTNUT', 'WINNEBAGO I', 'URKILLA',\n",
    "#        'MOUNTAIN VIEW III', 'JUNIPER CANYON', 'ALMENDROS I', 'ARIZONA I',\n",
    "#        'CABRAS', 'CAETITE I', 'CAETITE II', 'CAETITE III', 'CALANGO I',\n",
    "#        'CALANGO II', 'CALANGO III', 'CALANGO IV', 'CALANGO V',\n",
    "#        'CALANGO VI', 'CANOAS', 'DOS ARBOLITOS', 'LAGOA I', 'LAGOA II',\n",
    "#        'MEL II', 'SANTANA I', 'SANTANA II', 'ALBUREJOS', 'ALOGORACHIS',\n",
    "#        'ALTAMIRA', 'ALTO DE LA DEGOLLADA', 'ALTO MONÇAO', 'ALVAO',\n",
    "#        'AMUNDSEN', 'ARACHNAIO II', 'ARECLEOCH', 'ARGAÑOSO', 'BADAIA',\n",
    "#        'BII NEE STIPA', 'BOLAÑOS', 'BORDECOREX NORTE', 'BULLANA',\n",
    "#        'BUREBA', 'CABEZAS', 'CAMPILLOS', 'CANALEJAS', 'CANDAL',\n",
    "#        'CANTALOJAS', 'CAPIRUZA I', 'CARRASCOSA', 'CARRASQUILLO', 'CARRIL',\n",
    "#        'CATEFICA', 'CAÑONERAS', 'CENTENAR', 'CERRO BLANCO',\n",
    "#        'CERRO HIGUERA', 'CHAMBON', 'CHIMICHE II', 'CHORREADEROS BAJOS',\n",
    "#        'COLLADOS', 'CONESA II', 'CORTIJO LINERA', 'COTERA',\n",
    "#        'COTEREJON II', 'CRUZ DE CARRUTERO', 'CUEZA', 'DESERT WIND',\n",
    "#        'DOLAR III', 'DOS PUEBLOS', 'DOÑA BENITA', 'DUEÑAS', 'ENTREDICHO',\n",
    "#        'ESPARTAL', 'FERREIRA II', 'FUENDETODOS II', 'FUENTESALADA',\n",
    "#        'GOIA PEÑOTE', 'GOMERA', 'GRADO', 'GRIJOTA', 'HAY CANYON',\n",
    "#        'HONTALBILLA I', 'HONTALBILLA II', 'HUENEJA III', 'ISLETES',\n",
    "#        'LABRADAS', 'LAROUCO', 'LIRIOS', 'MAGDALENA', 'MAJAL ALTO',\n",
    "#        'MEIRA', 'MIHAI VITEAZU', 'MONTE TREITO', 'MONTECARRIO',\n",
    "#        'MORON DE ALMAZAN', 'MUELA CUBILLO', 'NACIMIENTO', 'NAVAZO',\n",
    "#        'NEW HARVEST', 'OIZ', 'PARAMO VEGA', 'PEBBLE SPRINGS', 'PEDREGAL',\n",
    "#        'PENA DA CRUZ', 'PEÑAFLOR III', 'PEÑAFLOR IV', 'PIER II',\n",
    "#        'PORTELRUBIO', 'PUERTO DE MALAGA', 'RADONA I', 'RADONA II',\n",
    "#        'RETUERTA', 'ROMERAL', 'SABINA', 'SAUCITO', 'SAVALLA', 'SEGREDAL',\n",
    "#        'SERRA DO BURGO', 'SIERRA DE ALCARAMA II', 'SIERRA DE DUEÑA',\n",
    "#        'SIERRA MENERA', 'SIERRO', 'SOMBRIO', 'SOMOLINOS',\n",
    "#        'TACICA DE PLATA', 'TALLISCA', 'TARAYUELA', 'TARDIENTA II',\n",
    "#        'TERUELO', 'TORRECILLA', 'URBEL DEL CASTILLO II', 'VALBONILLA',\n",
    "#        'VALDECARRION', 'VALDEFUENTES', 'VALDELANAVE', 'VALDEPERONDO',\n",
    "#        'VALDEPORRES', 'VALMEDIANO', 'VENTA III', 'VENTOSA DEL DUCADO',\n",
    "#        'VENZO', 'VIEIRO', 'VILLALAZAN', 'VIVEIRO', 'VIÑAS', 'DOLAR I',\n",
    "#        'HIJES', 'ZORRERAS', 'SIL AMPLIACION', 'ELGEA',\n",
    "#        'CHORREADEROS ALTOS', 'FUENDETODOS I', 'BLACK LAW II', 'BARTON I',\n",
    "#        'BIG HORN II', 'BUFFALO RIDGE II', 'CAYUGA RIDGE', 'DRY LAKE I',\n",
    "#        'GLEN APP', 'HARDSCRABBLE', 'MORAINE II', 'PROVIDENCE HEIGHTS',\n",
    "#        'STAR POINT', 'TWIN BUTTES II', 'BUEY', 'PINILLA',\n",
    "#        'ATALAYA DE LA SOLANA', 'CAMPALBO', 'CERRO VICENTE II', 'CRUZ I',\n",
    "#        'MONTE MOLON', 'PICO COLLALBAS', 'RUGBY', 'KISIGMAND',\n",
    "#        'HARE HILL II', 'VIRGEN DE BELEN I', 'SIL', 'EL CABO',\n",
    "#        'ALMENDROS II', 'CAPIRUZA II', 'SIERRA DE ALCARAMA I', 'BARTON II',\n",
    "#        'LEANING JUNIPER IIA', 'CERRO REVOLCADOR', 'GAVILANES AMPLIACION',\n",
    "#        'CERRO VICENTE I', 'CRUZ II', 'MIRA', 'BARTON CHAPEL',\n",
    "#        'CERRO DE LA SILLA', 'REVENTONES', 'CSOMA I', 'CSOMA II',\n",
    "#        'CASSELMAN', 'CLARES', 'COLORADO GREEN', 'DRY LAKE II',\n",
    "#        'DEERFIELD', 'ESCALON', 'GROTON', 'CABEZUELO', 'LEMPSTER',\n",
    "#        'TOP OF IOWA II', 'LUZON NORTE', 'LAYNA', 'BAFFIN BAY',\n",
    "#        'MARANCHON I', 'MARANCHON IV', 'MARANCHON SUR', 'SCOTT',\n",
    "#        'ELK RIVER', 'WHITELEE II', 'HARESTANES', 'BEINN THARSUINN',\n",
    "#        'CLACHAN FLATS', 'MARK HILL')\n",
    "#    group by y.FEC_HORA_INI, e.nom_elemento,e.cod_elemento, i.nom_instalacion, y.BIN_YAW\n",
    "# \"\"\" "
   ]
  },
  {
   "cell_type": "code",
   "execution_count": null,
   "metadata": {},
   "outputs": [],
   "source": [
    "# input_data = pd.read_sql(query_text,\n",
    "#                        domina_connection)"
   ]
  },
  {
   "cell_type": "code",
   "execution_count": null,
   "metadata": {},
   "outputs": [],
   "source": [
    "# input_data.shape"
   ]
  },
  {
   "cell_type": "code",
   "execution_count": null,
   "metadata": {},
   "outputs": [],
   "source": [
    "# query2_text = \"\"\"\n",
    "#   SELECT dfa.nom_fabricante \"OEM\", dm.nom_modelo \"Model\", di.nom_instalacion \"Site\", de.nom_elemento, de.cod_elemento\n",
    "#      FROM DOMINAGE.dge_modelos dm\n",
    "#      inner join DOMINAGE.dge_fabricantes dfa\n",
    "#             ON dm.cod_fabricante = dfa.cod_fabricante\n",
    "#         inner join DOMINAGE.dge_elementos de \n",
    "#             ON de.cod_modelo = dm.cod_modelo\n",
    "#         inner join dominage.dge_instalaciones di \n",
    "#             ON de.cod_instalacion = di.cod_instalacion\n",
    "# \"\"\" "
   ]
  },
  {
   "cell_type": "code",
   "execution_count": null,
   "metadata": {},
   "outputs": [],
   "source": [
    "# oem_data = pd.read_sql(query2_text,\n",
    "#                        domina_connection)"
   ]
  },
  {
   "cell_type": "code",
   "execution_count": null,
   "metadata": {},
   "outputs": [],
   "source": [
    "oem_data = pd.read_csv(\"oem_data.csv\")\n",
    "input_data = pd.read_csv(\"input_data.csv\")\n",
    "\n",
    "input_data.drop([\"Unnamed: 0\"], axis=1, inplace=True)\n",
    "oem_data.drop([\"Unnamed: 0\"], axis=1, inplace=True)"
   ]
  },
  {
   "cell_type": "code",
   "execution_count": null,
   "metadata": {},
   "outputs": [],
   "source": []
  },
  {
   "cell_type": "code",
   "execution_count": 3,
   "metadata": {},
   "outputs": [
    {
     "data": {
      "text/html": [
       "<div>\n",
       "<style scoped>\n",
       "    .dataframe tbody tr th:only-of-type {\n",
       "        vertical-align: middle;\n",
       "    }\n",
       "\n",
       "    .dataframe tbody tr th {\n",
       "        vertical-align: top;\n",
       "    }\n",
       "\n",
       "    .dataframe thead th {\n",
       "        text-align: right;\n",
       "    }\n",
       "</style>\n",
       "<table border=\"1\" class=\"dataframe\">\n",
       "  <thead>\n",
       "    <tr style=\"text-align: right;\">\n",
       "      <th></th>\n",
       "      <th>Unnamed: 0</th>\n",
       "      <th>OEM</th>\n",
       "      <th>Model</th>\n",
       "      <th>Site</th>\n",
       "      <th>NOM_ELEMENTO</th>\n",
       "      <th>COD_ELEMENTO</th>\n",
       "    </tr>\n",
       "  </thead>\n",
       "  <tbody>\n",
       "    <tr>\n",
       "      <th>0</th>\n",
       "      <td>0</td>\n",
       "      <td>GAMESA</td>\n",
       "      <td>G52-850 kW</td>\n",
       "      <td>HIJES</td>\n",
       "      <td>A13</td>\n",
       "      <td>1025.0</td>\n",
       "    </tr>\n",
       "    <tr>\n",
       "      <th>1</th>\n",
       "      <td>1</td>\n",
       "      <td>GAMESA</td>\n",
       "      <td>G47-660 kW</td>\n",
       "      <td>HIJES</td>\n",
       "      <td>A17</td>\n",
       "      <td>1026.0</td>\n",
       "    </tr>\n",
       "    <tr>\n",
       "      <th>2</th>\n",
       "      <td>2</td>\n",
       "      <td>GAMESA</td>\n",
       "      <td>G52-850 kW</td>\n",
       "      <td>HIJES</td>\n",
       "      <td>A05</td>\n",
       "      <td>1028.0</td>\n",
       "    </tr>\n",
       "    <tr>\n",
       "      <th>3</th>\n",
       "      <td>3</td>\n",
       "      <td>GAMESA</td>\n",
       "      <td>G52-850 kW</td>\n",
       "      <td>HIJES</td>\n",
       "      <td>A07</td>\n",
       "      <td>1029.0</td>\n",
       "    </tr>\n",
       "    <tr>\n",
       "      <th>4</th>\n",
       "      <td>4</td>\n",
       "      <td>GAMESA</td>\n",
       "      <td>G52-850 kW</td>\n",
       "      <td>HIJES</td>\n",
       "      <td>A03</td>\n",
       "      <td>1030.0</td>\n",
       "    </tr>\n",
       "  </tbody>\n",
       "</table>\n",
       "</div>"
      ],
      "text/plain": [
       "   Unnamed: 0     OEM       Model   Site NOM_ELEMENTO  COD_ELEMENTO\n",
       "0           0  GAMESA  G52-850 kW  HIJES          A13        1025.0\n",
       "1           1  GAMESA  G47-660 kW  HIJES          A17        1026.0\n",
       "2           2  GAMESA  G52-850 kW  HIJES          A05        1028.0\n",
       "3           3  GAMESA  G52-850 kW  HIJES          A07        1029.0\n",
       "4           4  GAMESA  G52-850 kW  HIJES          A03        1030.0"
      ]
     },
     "execution_count": 3,
     "metadata": {},
     "output_type": "execute_result"
    }
   ],
   "source": [
    "oem_data = pd.read_csv(\"../data/oem_data.csv\")\n",
    "oem_data.head()"
   ]
  },
  {
   "cell_type": "code",
   "execution_count": 5,
   "metadata": {},
   "outputs": [
    {
     "data": {
      "text/plain": [
       "(14040, 6)"
      ]
     },
     "execution_count": 5,
     "metadata": {},
     "output_type": "execute_result"
    }
   ],
   "source": [
    "oem_data.shape"
   ]
  },
  {
   "cell_type": "code",
   "execution_count": 7,
   "metadata": {},
   "outputs": [
    {
     "data": {
      "text/plain": [
       "Index(['Unnamed: 0', 'OEM', 'Model', 'Site', 'NOM_ELEMENTO', 'COD_ELEMENTO'], dtype='object')"
      ]
     },
     "execution_count": 7,
     "metadata": {},
     "output_type": "execute_result"
    }
   ],
   "source": [
    "oem_data.columns"
   ]
  },
  {
   "cell_type": "code",
   "execution_count": 9,
   "metadata": {},
   "outputs": [],
   "source": [
    "oem_data.drop('Unnamed: 0' , axis=1 , inplace=True)"
   ]
  },
  {
   "cell_type": "code",
   "execution_count": 10,
   "metadata": {},
   "outputs": [
    {
     "data": {
      "text/html": [
       "<div>\n",
       "<style scoped>\n",
       "    .dataframe tbody tr th:only-of-type {\n",
       "        vertical-align: middle;\n",
       "    }\n",
       "\n",
       "    .dataframe tbody tr th {\n",
       "        vertical-align: top;\n",
       "    }\n",
       "\n",
       "    .dataframe thead th {\n",
       "        text-align: right;\n",
       "    }\n",
       "</style>\n",
       "<table border=\"1\" class=\"dataframe\">\n",
       "  <thead>\n",
       "    <tr style=\"text-align: right;\">\n",
       "      <th></th>\n",
       "      <th>OEM</th>\n",
       "      <th>Model</th>\n",
       "      <th>Site</th>\n",
       "      <th>NOM_ELEMENTO</th>\n",
       "      <th>COD_ELEMENTO</th>\n",
       "    </tr>\n",
       "  </thead>\n",
       "  <tbody>\n",
       "    <tr>\n",
       "      <th>0</th>\n",
       "      <td>GAMESA</td>\n",
       "      <td>G52-850 kW</td>\n",
       "      <td>HIJES</td>\n",
       "      <td>A13</td>\n",
       "      <td>1025.0</td>\n",
       "    </tr>\n",
       "    <tr>\n",
       "      <th>1</th>\n",
       "      <td>GAMESA</td>\n",
       "      <td>G47-660 kW</td>\n",
       "      <td>HIJES</td>\n",
       "      <td>A17</td>\n",
       "      <td>1026.0</td>\n",
       "    </tr>\n",
       "    <tr>\n",
       "      <th>2</th>\n",
       "      <td>GAMESA</td>\n",
       "      <td>G52-850 kW</td>\n",
       "      <td>HIJES</td>\n",
       "      <td>A05</td>\n",
       "      <td>1028.0</td>\n",
       "    </tr>\n",
       "    <tr>\n",
       "      <th>3</th>\n",
       "      <td>GAMESA</td>\n",
       "      <td>G52-850 kW</td>\n",
       "      <td>HIJES</td>\n",
       "      <td>A07</td>\n",
       "      <td>1029.0</td>\n",
       "    </tr>\n",
       "    <tr>\n",
       "      <th>4</th>\n",
       "      <td>GAMESA</td>\n",
       "      <td>G52-850 kW</td>\n",
       "      <td>HIJES</td>\n",
       "      <td>A03</td>\n",
       "      <td>1030.0</td>\n",
       "    </tr>\n",
       "  </tbody>\n",
       "</table>\n",
       "</div>"
      ],
      "text/plain": [
       "      OEM       Model   Site NOM_ELEMENTO  COD_ELEMENTO\n",
       "0  GAMESA  G52-850 kW  HIJES          A13        1025.0\n",
       "1  GAMESA  G47-660 kW  HIJES          A17        1026.0\n",
       "2  GAMESA  G52-850 kW  HIJES          A05        1028.0\n",
       "3  GAMESA  G52-850 kW  HIJES          A07        1029.0\n",
       "4  GAMESA  G52-850 kW  HIJES          A03        1030.0"
      ]
     },
     "execution_count": 10,
     "metadata": {},
     "output_type": "execute_result"
    }
   ],
   "source": [
    "oem_data.head()"
   ]
  },
  {
   "cell_type": "code",
   "execution_count": null,
   "metadata": {},
   "outputs": [],
   "source": []
  },
  {
   "cell_type": "code",
   "execution_count": 21,
   "metadata": {},
   "outputs": [
    {
     "data": {
      "text/html": [
       "<div>\n",
       "<style scoped>\n",
       "    .dataframe tbody tr th:only-of-type {\n",
       "        vertical-align: middle;\n",
       "    }\n",
       "\n",
       "    .dataframe tbody tr th {\n",
       "        vertical-align: top;\n",
       "    }\n",
       "\n",
       "    .dataframe thead th {\n",
       "        text-align: right;\n",
       "    }\n",
       "</style>\n",
       "<table border=\"1\" class=\"dataframe\">\n",
       "  <thead>\n",
       "    <tr style=\"text-align: right;\">\n",
       "      <th></th>\n",
       "      <th>Unnamed: 0</th>\n",
       "      <th>FEC_HORA_INI</th>\n",
       "      <th>NOM_ELEMENTO</th>\n",
       "      <th>COD_ELEMENTO</th>\n",
       "      <th>NOM_INSTALACION</th>\n",
       "      <th>BIN_YAW</th>\n",
       "      <th>Sum_Of_Avg_W_In_Bin</th>\n",
       "      <th>Yaw_Bin_Rank</th>\n",
       "    </tr>\n",
       "  </thead>\n",
       "  <tbody>\n",
       "    <tr>\n",
       "      <th>0</th>\n",
       "      <td>0</td>\n",
       "      <td>2020-10-01</td>\n",
       "      <td>002</td>\n",
       "      <td>11267.0</td>\n",
       "      <td>BLUE CREEK</td>\n",
       "      <td>(26, Infinito]</td>\n",
       "      <td>2819.48</td>\n",
       "      <td>1.0</td>\n",
       "    </tr>\n",
       "    <tr>\n",
       "      <th>1</th>\n",
       "      <td>1</td>\n",
       "      <td>2020-10-01</td>\n",
       "      <td>003</td>\n",
       "      <td>11268.0</td>\n",
       "      <td>BLUE CREEK</td>\n",
       "      <td>(26, Infinito]</td>\n",
       "      <td>2991.07</td>\n",
       "      <td>1.0</td>\n",
       "    </tr>\n",
       "    <tr>\n",
       "      <th>2</th>\n",
       "      <td>2</td>\n",
       "      <td>2020-10-01</td>\n",
       "      <td>004</td>\n",
       "      <td>11269.0</td>\n",
       "      <td>BLUE CREEK</td>\n",
       "      <td>(26, Infinito]</td>\n",
       "      <td>2932.53</td>\n",
       "      <td>1.0</td>\n",
       "    </tr>\n",
       "    <tr>\n",
       "      <th>3</th>\n",
       "      <td>3</td>\n",
       "      <td>2020-10-01</td>\n",
       "      <td>005</td>\n",
       "      <td>11270.0</td>\n",
       "      <td>BLUE CREEK</td>\n",
       "      <td>(26, Infinito]</td>\n",
       "      <td>2937.90</td>\n",
       "      <td>1.0</td>\n",
       "    </tr>\n",
       "    <tr>\n",
       "      <th>4</th>\n",
       "      <td>4</td>\n",
       "      <td>2020-10-01</td>\n",
       "      <td>007</td>\n",
       "      <td>11271.0</td>\n",
       "      <td>BLUE CREEK</td>\n",
       "      <td>(26, Infinito]</td>\n",
       "      <td>2915.70</td>\n",
       "      <td>1.0</td>\n",
       "    </tr>\n",
       "  </tbody>\n",
       "</table>\n",
       "</div>"
      ],
      "text/plain": [
       "   Unnamed: 0 FEC_HORA_INI NOM_ELEMENTO  COD_ELEMENTO NOM_INSTALACION  \\\n",
       "0           0   2020-10-01          002       11267.0      BLUE CREEK   \n",
       "1           1   2020-10-01          003       11268.0      BLUE CREEK   \n",
       "2           2   2020-10-01          004       11269.0      BLUE CREEK   \n",
       "3           3   2020-10-01          005       11270.0      BLUE CREEK   \n",
       "4           4   2020-10-01          007       11271.0      BLUE CREEK   \n",
       "\n",
       "          BIN_YAW  Sum_Of_Avg_W_In_Bin  Yaw_Bin_Rank  \n",
       "0  (26, Infinito]              2819.48           1.0  \n",
       "1  (26, Infinito]              2991.07           1.0  \n",
       "2  (26, Infinito]              2932.53           1.0  \n",
       "3  (26, Infinito]              2937.90           1.0  \n",
       "4  (26, Infinito]              2915.70           1.0  "
      ]
     },
     "execution_count": 21,
     "metadata": {},
     "output_type": "execute_result"
    }
   ],
   "source": [
    "input_data = pd.read_csv(\"../data/input_data.csv\")\n",
    "input_data.head()"
   ]
  },
  {
   "cell_type": "code",
   "execution_count": 22,
   "metadata": {},
   "outputs": [],
   "source": [
    "input_data.drop('Unnamed: 0' , axis=1 , inplace=True)"
   ]
  },
  {
   "cell_type": "code",
   "execution_count": 23,
   "metadata": {},
   "outputs": [
    {
     "data": {
      "text/html": [
       "<div>\n",
       "<style scoped>\n",
       "    .dataframe tbody tr th:only-of-type {\n",
       "        vertical-align: middle;\n",
       "    }\n",
       "\n",
       "    .dataframe tbody tr th {\n",
       "        vertical-align: top;\n",
       "    }\n",
       "\n",
       "    .dataframe thead th {\n",
       "        text-align: right;\n",
       "    }\n",
       "</style>\n",
       "<table border=\"1\" class=\"dataframe\">\n",
       "  <thead>\n",
       "    <tr style=\"text-align: right;\">\n",
       "      <th></th>\n",
       "      <th>FEC_HORA_INI</th>\n",
       "      <th>NOM_ELEMENTO</th>\n",
       "      <th>COD_ELEMENTO</th>\n",
       "      <th>NOM_INSTALACION</th>\n",
       "      <th>BIN_YAW</th>\n",
       "      <th>Sum_Of_Avg_W_In_Bin</th>\n",
       "      <th>Yaw_Bin_Rank</th>\n",
       "    </tr>\n",
       "  </thead>\n",
       "  <tbody>\n",
       "    <tr>\n",
       "      <th>0</th>\n",
       "      <td>2020-10-01</td>\n",
       "      <td>002</td>\n",
       "      <td>11267.0</td>\n",
       "      <td>BLUE CREEK</td>\n",
       "      <td>(26, Infinito]</td>\n",
       "      <td>2819.48</td>\n",
       "      <td>1.0</td>\n",
       "    </tr>\n",
       "    <tr>\n",
       "      <th>1</th>\n",
       "      <td>2020-10-01</td>\n",
       "      <td>003</td>\n",
       "      <td>11268.0</td>\n",
       "      <td>BLUE CREEK</td>\n",
       "      <td>(26, Infinito]</td>\n",
       "      <td>2991.07</td>\n",
       "      <td>1.0</td>\n",
       "    </tr>\n",
       "    <tr>\n",
       "      <th>2</th>\n",
       "      <td>2020-10-01</td>\n",
       "      <td>004</td>\n",
       "      <td>11269.0</td>\n",
       "      <td>BLUE CREEK</td>\n",
       "      <td>(26, Infinito]</td>\n",
       "      <td>2932.53</td>\n",
       "      <td>1.0</td>\n",
       "    </tr>\n",
       "    <tr>\n",
       "      <th>3</th>\n",
       "      <td>2020-10-01</td>\n",
       "      <td>005</td>\n",
       "      <td>11270.0</td>\n",
       "      <td>BLUE CREEK</td>\n",
       "      <td>(26, Infinito]</td>\n",
       "      <td>2937.90</td>\n",
       "      <td>1.0</td>\n",
       "    </tr>\n",
       "    <tr>\n",
       "      <th>4</th>\n",
       "      <td>2020-10-01</td>\n",
       "      <td>007</td>\n",
       "      <td>11271.0</td>\n",
       "      <td>BLUE CREEK</td>\n",
       "      <td>(26, Infinito]</td>\n",
       "      <td>2915.70</td>\n",
       "      <td>1.0</td>\n",
       "    </tr>\n",
       "  </tbody>\n",
       "</table>\n",
       "</div>"
      ],
      "text/plain": [
       "  FEC_HORA_INI NOM_ELEMENTO  COD_ELEMENTO NOM_INSTALACION         BIN_YAW  \\\n",
       "0   2020-10-01          002       11267.0      BLUE CREEK  (26, Infinito]   \n",
       "1   2020-10-01          003       11268.0      BLUE CREEK  (26, Infinito]   \n",
       "2   2020-10-01          004       11269.0      BLUE CREEK  (26, Infinito]   \n",
       "3   2020-10-01          005       11270.0      BLUE CREEK  (26, Infinito]   \n",
       "4   2020-10-01          007       11271.0      BLUE CREEK  (26, Infinito]   \n",
       "\n",
       "   Sum_Of_Avg_W_In_Bin  Yaw_Bin_Rank  \n",
       "0              2819.48           1.0  \n",
       "1              2991.07           1.0  \n",
       "2              2932.53           1.0  \n",
       "3              2937.90           1.0  \n",
       "4              2915.70           1.0  "
      ]
     },
     "execution_count": 23,
     "metadata": {},
     "output_type": "execute_result"
    }
   ],
   "source": [
    "input_data.head()"
   ]
  },
  {
   "cell_type": "code",
   "execution_count": null,
   "metadata": {},
   "outputs": [],
   "source": [
    "# Using dictionary to create a new dataframe for yaw_angle"
   ]
  },
  {
   "cell_type": "code",
   "execution_count": 13,
   "metadata": {},
   "outputs": [],
   "source": [
    "yaw_angle_data=pd.DataFrame(\n",
    "    {\n",
    "        \"yaw.bin\" : [\"(-Infinito, -26]\",\"(-26, -22]\",\"(-22, -18]\",\"(-18, -14]\",\"(-14, -10]\",\"(-10, -6]\",\"(-6, -2]\",\"(-2, 2]\",\"(2, 6]\",\"(6, 10]\",\"(10, 14]\",\"(14, 18]\",\"(18, 22]\",\"(22, 26]\",\"(26, Infinito]\"],\n",
    "        \"Angle\" : [-26,-24,-20,-16,-12,-8,-4,0,4,8,12,16,20,24,26]\n",
    "    }\n",
    ")"
   ]
  },
  {
   "cell_type": "code",
   "execution_count": null,
   "metadata": {},
   "outputs": [],
   "source": [
    "# renaming dataaframes"
   ]
  },
  {
   "cell_type": "code",
   "execution_count": 24,
   "metadata": {},
   "outputs": [],
   "source": [
    "yaw_data = input_data"
   ]
  },
  {
   "cell_type": "markdown",
   "metadata": {},
   "source": [
    "# Merging the Yaw_data with yaw_angle_data"
   ]
  },
  {
   "cell_type": "code",
   "execution_count": null,
   "metadata": {},
   "outputs": [],
   "source": [
    "yaw_data = pd.merge(yaw_data, yaw_angle_data, left_on=\"BIN_YAW\", right_on=\"yaw.bin\", how=\"left\").drop([\"yaw.bin\"], axis=1)"
   ]
  },
  {
   "cell_type": "code",
   "execution_count": null,
   "metadata": {},
   "outputs": [],
   "source": []
  },
  {
   "cell_type": "code",
   "execution_count": null,
   "metadata": {},
   "outputs": [],
   "source": [
    "# Dropping column \"Nom elemento\" from oem data"
   ]
  },
  {
   "cell_type": "code",
   "execution_count": 25,
   "metadata": {},
   "outputs": [],
   "source": [
    "oem_data.drop([\"NOM_ELEMENTO\"], axis=1, inplace=True)"
   ]
  },
  {
   "cell_type": "markdown",
   "metadata": {},
   "source": [
    "# Merging Oem dataframe with Yaw_dataframe"
   ]
  },
  {
   "cell_type": "code",
   "execution_count": 26,
   "metadata": {},
   "outputs": [
    {
     "data": {
      "text/html": [
       "<div>\n",
       "<style scoped>\n",
       "    .dataframe tbody tr th:only-of-type {\n",
       "        vertical-align: middle;\n",
       "    }\n",
       "\n",
       "    .dataframe tbody tr th {\n",
       "        vertical-align: top;\n",
       "    }\n",
       "\n",
       "    .dataframe thead th {\n",
       "        text-align: right;\n",
       "    }\n",
       "</style>\n",
       "<table border=\"1\" class=\"dataframe\">\n",
       "  <thead>\n",
       "    <tr style=\"text-align: right;\">\n",
       "      <th></th>\n",
       "      <th>FEC_HORA_INI</th>\n",
       "      <th>NOM_ELEMENTO</th>\n",
       "      <th>COD_ELEMENTO</th>\n",
       "      <th>NOM_INSTALACION</th>\n",
       "      <th>BIN_YAW</th>\n",
       "      <th>Sum_Of_Avg_W_In_Bin</th>\n",
       "      <th>Yaw_Bin_Rank</th>\n",
       "      <th>OEM</th>\n",
       "      <th>Model</th>\n",
       "      <th>Site</th>\n",
       "    </tr>\n",
       "  </thead>\n",
       "  <tbody>\n",
       "    <tr>\n",
       "      <th>0</th>\n",
       "      <td>2020-10-01</td>\n",
       "      <td>002</td>\n",
       "      <td>11267.0</td>\n",
       "      <td>BLUE CREEK</td>\n",
       "      <td>(26, Infinito]</td>\n",
       "      <td>2819.48</td>\n",
       "      <td>1.0</td>\n",
       "      <td>GAMESA</td>\n",
       "      <td>G90-LM-2.0 MW</td>\n",
       "      <td>BLUE CREEK</td>\n",
       "    </tr>\n",
       "    <tr>\n",
       "      <th>1</th>\n",
       "      <td>2020-10-01</td>\n",
       "      <td>003</td>\n",
       "      <td>11268.0</td>\n",
       "      <td>BLUE CREEK</td>\n",
       "      <td>(26, Infinito]</td>\n",
       "      <td>2991.07</td>\n",
       "      <td>1.0</td>\n",
       "      <td>GAMESA</td>\n",
       "      <td>G90-LM-2.0 MW</td>\n",
       "      <td>BLUE CREEK</td>\n",
       "    </tr>\n",
       "    <tr>\n",
       "      <th>2</th>\n",
       "      <td>2020-10-01</td>\n",
       "      <td>004</td>\n",
       "      <td>11269.0</td>\n",
       "      <td>BLUE CREEK</td>\n",
       "      <td>(26, Infinito]</td>\n",
       "      <td>2932.53</td>\n",
       "      <td>1.0</td>\n",
       "      <td>GAMESA</td>\n",
       "      <td>G90-LM-2.0 MW</td>\n",
       "      <td>BLUE CREEK</td>\n",
       "    </tr>\n",
       "    <tr>\n",
       "      <th>3</th>\n",
       "      <td>2020-10-01</td>\n",
       "      <td>005</td>\n",
       "      <td>11270.0</td>\n",
       "      <td>BLUE CREEK</td>\n",
       "      <td>(26, Infinito]</td>\n",
       "      <td>2937.90</td>\n",
       "      <td>1.0</td>\n",
       "      <td>GAMESA</td>\n",
       "      <td>G90-LM-2.0 MW</td>\n",
       "      <td>BLUE CREEK</td>\n",
       "    </tr>\n",
       "    <tr>\n",
       "      <th>4</th>\n",
       "      <td>2020-10-01</td>\n",
       "      <td>007</td>\n",
       "      <td>11271.0</td>\n",
       "      <td>BLUE CREEK</td>\n",
       "      <td>(26, Infinito]</td>\n",
       "      <td>2915.70</td>\n",
       "      <td>1.0</td>\n",
       "      <td>GAMESA</td>\n",
       "      <td>G90-LM-2.0 MW</td>\n",
       "      <td>BLUE CREEK</td>\n",
       "    </tr>\n",
       "    <tr>\n",
       "      <th>...</th>\n",
       "      <td>...</td>\n",
       "      <td>...</td>\n",
       "      <td>...</td>\n",
       "      <td>...</td>\n",
       "      <td>...</td>\n",
       "      <td>...</td>\n",
       "      <td>...</td>\n",
       "      <td>...</td>\n",
       "      <td>...</td>\n",
       "      <td>...</td>\n",
       "    </tr>\n",
       "    <tr>\n",
       "      <th>57259</th>\n",
       "      <td>2020-10-01</td>\n",
       "      <td>Z5</td>\n",
       "      <td>10009.0</td>\n",
       "      <td>LEANING JUNIPER IIA</td>\n",
       "      <td>(14, 18]</td>\n",
       "      <td>2718.96</td>\n",
       "      <td>11.0</td>\n",
       "      <td>SUZLON</td>\n",
       "      <td>S88-2.1 MW</td>\n",
       "      <td>LEANING JUNIPER IIA</td>\n",
       "    </tr>\n",
       "    <tr>\n",
       "      <th>57260</th>\n",
       "      <td>2020-10-01</td>\n",
       "      <td>Z5</td>\n",
       "      <td>10009.0</td>\n",
       "      <td>LEANING JUNIPER IIA</td>\n",
       "      <td>(-Infinito, -26]</td>\n",
       "      <td>2693.18</td>\n",
       "      <td>12.0</td>\n",
       "      <td>SUZLON</td>\n",
       "      <td>S88-2.1 MW</td>\n",
       "      <td>LEANING JUNIPER IIA</td>\n",
       "    </tr>\n",
       "    <tr>\n",
       "      <th>57261</th>\n",
       "      <td>2020-10-01</td>\n",
       "      <td>Z5</td>\n",
       "      <td>10009.0</td>\n",
       "      <td>LEANING JUNIPER IIA</td>\n",
       "      <td>(26, Infinito]</td>\n",
       "      <td>2644.22</td>\n",
       "      <td>13.0</td>\n",
       "      <td>SUZLON</td>\n",
       "      <td>S88-2.1 MW</td>\n",
       "      <td>LEANING JUNIPER IIA</td>\n",
       "    </tr>\n",
       "    <tr>\n",
       "      <th>57262</th>\n",
       "      <td>2020-10-01</td>\n",
       "      <td>Z5</td>\n",
       "      <td>10009.0</td>\n",
       "      <td>LEANING JUNIPER IIA</td>\n",
       "      <td>(18, 22]</td>\n",
       "      <td>2525.33</td>\n",
       "      <td>14.0</td>\n",
       "      <td>SUZLON</td>\n",
       "      <td>S88-2.1 MW</td>\n",
       "      <td>LEANING JUNIPER IIA</td>\n",
       "    </tr>\n",
       "    <tr>\n",
       "      <th>57263</th>\n",
       "      <td>2020-10-01</td>\n",
       "      <td>Z5</td>\n",
       "      <td>10009.0</td>\n",
       "      <td>LEANING JUNIPER IIA</td>\n",
       "      <td>(22, 26]</td>\n",
       "      <td>2448.83</td>\n",
       "      <td>15.0</td>\n",
       "      <td>SUZLON</td>\n",
       "      <td>S88-2.1 MW</td>\n",
       "      <td>LEANING JUNIPER IIA</td>\n",
       "    </tr>\n",
       "  </tbody>\n",
       "</table>\n",
       "<p>57264 rows × 10 columns</p>\n",
       "</div>"
      ],
      "text/plain": [
       "      FEC_HORA_INI NOM_ELEMENTO  COD_ELEMENTO      NOM_INSTALACION  \\\n",
       "0       2020-10-01          002       11267.0           BLUE CREEK   \n",
       "1       2020-10-01          003       11268.0           BLUE CREEK   \n",
       "2       2020-10-01          004       11269.0           BLUE CREEK   \n",
       "3       2020-10-01          005       11270.0           BLUE CREEK   \n",
       "4       2020-10-01          007       11271.0           BLUE CREEK   \n",
       "...            ...          ...           ...                  ...   \n",
       "57259   2020-10-01           Z5       10009.0  LEANING JUNIPER IIA   \n",
       "57260   2020-10-01           Z5       10009.0  LEANING JUNIPER IIA   \n",
       "57261   2020-10-01           Z5       10009.0  LEANING JUNIPER IIA   \n",
       "57262   2020-10-01           Z5       10009.0  LEANING JUNIPER IIA   \n",
       "57263   2020-10-01           Z5       10009.0  LEANING JUNIPER IIA   \n",
       "\n",
       "                BIN_YAW  Sum_Of_Avg_W_In_Bin  Yaw_Bin_Rank     OEM  \\\n",
       "0        (26, Infinito]              2819.48           1.0  GAMESA   \n",
       "1        (26, Infinito]              2991.07           1.0  GAMESA   \n",
       "2        (26, Infinito]              2932.53           1.0  GAMESA   \n",
       "3        (26, Infinito]              2937.90           1.0  GAMESA   \n",
       "4        (26, Infinito]              2915.70           1.0  GAMESA   \n",
       "...                 ...                  ...           ...     ...   \n",
       "57259          (14, 18]              2718.96          11.0  SUZLON   \n",
       "57260  (-Infinito, -26]              2693.18          12.0  SUZLON   \n",
       "57261    (26, Infinito]              2644.22          13.0  SUZLON   \n",
       "57262          (18, 22]              2525.33          14.0  SUZLON   \n",
       "57263          (22, 26]              2448.83          15.0  SUZLON   \n",
       "\n",
       "               Model                 Site  \n",
       "0      G90-LM-2.0 MW           BLUE CREEK  \n",
       "1      G90-LM-2.0 MW           BLUE CREEK  \n",
       "2      G90-LM-2.0 MW           BLUE CREEK  \n",
       "3      G90-LM-2.0 MW           BLUE CREEK  \n",
       "4      G90-LM-2.0 MW           BLUE CREEK  \n",
       "...              ...                  ...  \n",
       "57259     S88-2.1 MW  LEANING JUNIPER IIA  \n",
       "57260     S88-2.1 MW  LEANING JUNIPER IIA  \n",
       "57261     S88-2.1 MW  LEANING JUNIPER IIA  \n",
       "57262     S88-2.1 MW  LEANING JUNIPER IIA  \n",
       "57263     S88-2.1 MW  LEANING JUNIPER IIA  \n",
       "\n",
       "[57264 rows x 10 columns]"
      ]
     },
     "execution_count": 26,
     "metadata": {},
     "output_type": "execute_result"
    }
   ],
   "source": [
    "oem_yaw_data = pd.merge(yaw_data, oem_data, left_on=\"COD_ELEMENTO\", right_on=\"COD_ELEMENTO\", how=\"left\")\n",
    "oem_yaw_data"
   ]
  },
  {
   "cell_type": "code",
   "execution_count": null,
   "metadata": {},
   "outputs": [],
   "source": []
  },
  {
   "cell_type": "markdown",
   "metadata": {},
   "source": [
    "### Query data based on the Yaw_Bin_Rank = 1.0 (alert)"
   ]
  },
  {
   "cell_type": "code",
   "execution_count": 32,
   "metadata": {},
   "outputs": [
    {
     "data": {
      "text/html": [
       "<div>\n",
       "<style scoped>\n",
       "    .dataframe tbody tr th:only-of-type {\n",
       "        vertical-align: middle;\n",
       "    }\n",
       "\n",
       "    .dataframe tbody tr th {\n",
       "        vertical-align: top;\n",
       "    }\n",
       "\n",
       "    .dataframe thead th {\n",
       "        text-align: right;\n",
       "    }\n",
       "</style>\n",
       "<table border=\"1\" class=\"dataframe\">\n",
       "  <thead>\n",
       "    <tr style=\"text-align: right;\">\n",
       "      <th></th>\n",
       "      <th>FEC_HORA_INI</th>\n",
       "      <th>NOM_ELEMENTO</th>\n",
       "      <th>COD_ELEMENTO</th>\n",
       "      <th>NOM_INSTALACION</th>\n",
       "      <th>BIN_YAW</th>\n",
       "      <th>Sum_Of_Avg_W_In_Bin</th>\n",
       "      <th>Yaw_Bin_Rank</th>\n",
       "      <th>OEM</th>\n",
       "      <th>Model</th>\n",
       "      <th>Site</th>\n",
       "    </tr>\n",
       "  </thead>\n",
       "  <tbody>\n",
       "    <tr>\n",
       "      <th>0</th>\n",
       "      <td>2020-10-01</td>\n",
       "      <td>002</td>\n",
       "      <td>11267.0</td>\n",
       "      <td>BLUE CREEK</td>\n",
       "      <td>(26, Infinito]</td>\n",
       "      <td>2819.48</td>\n",
       "      <td>1.0</td>\n",
       "      <td>GAMESA</td>\n",
       "      <td>G90-LM-2.0 MW</td>\n",
       "      <td>BLUE CREEK</td>\n",
       "    </tr>\n",
       "    <tr>\n",
       "      <th>1</th>\n",
       "      <td>2020-10-01</td>\n",
       "      <td>003</td>\n",
       "      <td>11268.0</td>\n",
       "      <td>BLUE CREEK</td>\n",
       "      <td>(26, Infinito]</td>\n",
       "      <td>2991.07</td>\n",
       "      <td>1.0</td>\n",
       "      <td>GAMESA</td>\n",
       "      <td>G90-LM-2.0 MW</td>\n",
       "      <td>BLUE CREEK</td>\n",
       "    </tr>\n",
       "    <tr>\n",
       "      <th>2</th>\n",
       "      <td>2020-10-01</td>\n",
       "      <td>004</td>\n",
       "      <td>11269.0</td>\n",
       "      <td>BLUE CREEK</td>\n",
       "      <td>(26, Infinito]</td>\n",
       "      <td>2932.53</td>\n",
       "      <td>1.0</td>\n",
       "      <td>GAMESA</td>\n",
       "      <td>G90-LM-2.0 MW</td>\n",
       "      <td>BLUE CREEK</td>\n",
       "    </tr>\n",
       "    <tr>\n",
       "      <th>3</th>\n",
       "      <td>2020-10-01</td>\n",
       "      <td>005</td>\n",
       "      <td>11270.0</td>\n",
       "      <td>BLUE CREEK</td>\n",
       "      <td>(26, Infinito]</td>\n",
       "      <td>2937.90</td>\n",
       "      <td>1.0</td>\n",
       "      <td>GAMESA</td>\n",
       "      <td>G90-LM-2.0 MW</td>\n",
       "      <td>BLUE CREEK</td>\n",
       "    </tr>\n",
       "    <tr>\n",
       "      <th>4</th>\n",
       "      <td>2020-10-01</td>\n",
       "      <td>007</td>\n",
       "      <td>11271.0</td>\n",
       "      <td>BLUE CREEK</td>\n",
       "      <td>(26, Infinito]</td>\n",
       "      <td>2915.70</td>\n",
       "      <td>1.0</td>\n",
       "      <td>GAMESA</td>\n",
       "      <td>G90-LM-2.0 MW</td>\n",
       "      <td>BLUE CREEK</td>\n",
       "    </tr>\n",
       "    <tr>\n",
       "      <th>...</th>\n",
       "      <td>...</td>\n",
       "      <td>...</td>\n",
       "      <td>...</td>\n",
       "      <td>...</td>\n",
       "      <td>...</td>\n",
       "      <td>...</td>\n",
       "      <td>...</td>\n",
       "      <td>...</td>\n",
       "      <td>...</td>\n",
       "      <td>...</td>\n",
       "    </tr>\n",
       "    <tr>\n",
       "      <th>57189</th>\n",
       "      <td>2020-10-01</td>\n",
       "      <td>Z-5</td>\n",
       "      <td>15669.0</td>\n",
       "      <td>EL CABO</td>\n",
       "      <td>(14, 18]</td>\n",
       "      <td>3552.95</td>\n",
       "      <td>1.0</td>\n",
       "      <td>GAMESA</td>\n",
       "      <td>G114-2.1 MW</td>\n",
       "      <td>EL CABO</td>\n",
       "    </tr>\n",
       "    <tr>\n",
       "      <th>57204</th>\n",
       "      <td>2020-10-01</td>\n",
       "      <td>Z1</td>\n",
       "      <td>10005.0</td>\n",
       "      <td>LEANING JUNIPER IIA</td>\n",
       "      <td>(-10, -6]</td>\n",
       "      <td>2802.96</td>\n",
       "      <td>1.0</td>\n",
       "      <td>SUZLON</td>\n",
       "      <td>S88-2.1 MW</td>\n",
       "      <td>LEANING JUNIPER IIA</td>\n",
       "    </tr>\n",
       "    <tr>\n",
       "      <th>57219</th>\n",
       "      <td>2020-10-01</td>\n",
       "      <td>Z3</td>\n",
       "      <td>10007.0</td>\n",
       "      <td>LEANING JUNIPER IIA</td>\n",
       "      <td>(-26, -22]</td>\n",
       "      <td>2788.93</td>\n",
       "      <td>1.0</td>\n",
       "      <td>SUZLON</td>\n",
       "      <td>S88-2.1 MW</td>\n",
       "      <td>LEANING JUNIPER IIA</td>\n",
       "    </tr>\n",
       "    <tr>\n",
       "      <th>57234</th>\n",
       "      <td>2020-10-01</td>\n",
       "      <td>Z4</td>\n",
       "      <td>10008.0</td>\n",
       "      <td>LEANING JUNIPER IIA</td>\n",
       "      <td>(-10, -6]</td>\n",
       "      <td>2854.87</td>\n",
       "      <td>1.0</td>\n",
       "      <td>SUZLON</td>\n",
       "      <td>S88-2.1 MW</td>\n",
       "      <td>LEANING JUNIPER IIA</td>\n",
       "    </tr>\n",
       "    <tr>\n",
       "      <th>57249</th>\n",
       "      <td>2020-10-01</td>\n",
       "      <td>Z5</td>\n",
       "      <td>10009.0</td>\n",
       "      <td>LEANING JUNIPER IIA</td>\n",
       "      <td>(-18, -14]</td>\n",
       "      <td>2856.13</td>\n",
       "      <td>1.0</td>\n",
       "      <td>SUZLON</td>\n",
       "      <td>S88-2.1 MW</td>\n",
       "      <td>LEANING JUNIPER IIA</td>\n",
       "    </tr>\n",
       "  </tbody>\n",
       "</table>\n",
       "<p>5982 rows × 10 columns</p>\n",
       "</div>"
      ],
      "text/plain": [
       "      FEC_HORA_INI NOM_ELEMENTO  COD_ELEMENTO      NOM_INSTALACION  \\\n",
       "0       2020-10-01          002       11267.0           BLUE CREEK   \n",
       "1       2020-10-01          003       11268.0           BLUE CREEK   \n",
       "2       2020-10-01          004       11269.0           BLUE CREEK   \n",
       "3       2020-10-01          005       11270.0           BLUE CREEK   \n",
       "4       2020-10-01          007       11271.0           BLUE CREEK   \n",
       "...            ...          ...           ...                  ...   \n",
       "57189   2020-10-01          Z-5       15669.0              EL CABO   \n",
       "57204   2020-10-01           Z1       10005.0  LEANING JUNIPER IIA   \n",
       "57219   2020-10-01           Z3       10007.0  LEANING JUNIPER IIA   \n",
       "57234   2020-10-01           Z4       10008.0  LEANING JUNIPER IIA   \n",
       "57249   2020-10-01           Z5       10009.0  LEANING JUNIPER IIA   \n",
       "\n",
       "              BIN_YAW  Sum_Of_Avg_W_In_Bin  Yaw_Bin_Rank     OEM  \\\n",
       "0      (26, Infinito]              2819.48           1.0  GAMESA   \n",
       "1      (26, Infinito]              2991.07           1.0  GAMESA   \n",
       "2      (26, Infinito]              2932.53           1.0  GAMESA   \n",
       "3      (26, Infinito]              2937.90           1.0  GAMESA   \n",
       "4      (26, Infinito]              2915.70           1.0  GAMESA   \n",
       "...               ...                  ...           ...     ...   \n",
       "57189        (14, 18]              3552.95           1.0  GAMESA   \n",
       "57204       (-10, -6]              2802.96           1.0  SUZLON   \n",
       "57219      (-26, -22]              2788.93           1.0  SUZLON   \n",
       "57234       (-10, -6]              2854.87           1.0  SUZLON   \n",
       "57249      (-18, -14]              2856.13           1.0  SUZLON   \n",
       "\n",
       "               Model                 Site  \n",
       "0      G90-LM-2.0 MW           BLUE CREEK  \n",
       "1      G90-LM-2.0 MW           BLUE CREEK  \n",
       "2      G90-LM-2.0 MW           BLUE CREEK  \n",
       "3      G90-LM-2.0 MW           BLUE CREEK  \n",
       "4      G90-LM-2.0 MW           BLUE CREEK  \n",
       "...              ...                  ...  \n",
       "57189    G114-2.1 MW              EL CABO  \n",
       "57204     S88-2.1 MW  LEANING JUNIPER IIA  \n",
       "57219     S88-2.1 MW  LEANING JUNIPER IIA  \n",
       "57234     S88-2.1 MW  LEANING JUNIPER IIA  \n",
       "57249     S88-2.1 MW  LEANING JUNIPER IIA  \n",
       "\n",
       "[5982 rows x 10 columns]"
      ]
     },
     "execution_count": 32,
     "metadata": {},
     "output_type": "execute_result"
    }
   ],
   "source": [
    "oem_yaw_rank1 = oem_yaw_data[oem_yaw_data[\"Yaw_Bin_Rank\"] == 1.0]\n",
    "oem_yaw_rank1"
   ]
  },
  {
   "cell_type": "code",
   "execution_count": null,
   "metadata": {},
   "outputs": [],
   "source": []
  },
  {
   "cell_type": "markdown",
   "metadata": {},
   "source": [
    "### 1) What alerts are active ?"
   ]
  },
  {
   "cell_type": "markdown",
   "metadata": {},
   "source": [
    "### Plotting all the Windfarms and OEM Model in Yaw misalignment range"
   ]
  },
  {
   "cell_type": "code",
   "execution_count": null,
   "metadata": {},
   "outputs": [],
   "source": []
  },
  {
   "cell_type": "code",
   "execution_count": null,
   "metadata": {},
   "outputs": [],
   "source": []
  },
  {
   "cell_type": "code",
   "execution_count": null,
   "metadata": {},
   "outputs": [],
   "source": []
  },
  {
   "cell_type": "code",
   "execution_count": null,
   "metadata": {},
   "outputs": [],
   "source": []
  },
  {
   "cell_type": "code",
   "execution_count": null,
   "metadata": {},
   "outputs": [],
   "source": []
  },
  {
   "cell_type": "code",
   "execution_count": null,
   "metadata": {},
   "outputs": [],
   "source": []
  },
  {
   "cell_type": "code",
   "execution_count": null,
   "metadata": {},
   "outputs": [],
   "source": []
  },
  {
   "cell_type": "code",
   "execution_count": null,
   "metadata": {},
   "outputs": [],
   "source": []
  },
  {
   "cell_type": "code",
   "execution_count": null,
   "metadata": {},
   "outputs": [],
   "source": []
  },
  {
   "cell_type": "code",
   "execution_count": null,
   "metadata": {},
   "outputs": [],
   "source": []
  },
  {
   "cell_type": "code",
   "execution_count": null,
   "metadata": {},
   "outputs": [],
   "source": []
  },
  {
   "cell_type": "code",
   "execution_count": null,
   "metadata": {},
   "outputs": [],
   "source": []
  },
  {
   "cell_type": "code",
   "execution_count": null,
   "metadata": {},
   "outputs": [],
   "source": []
  },
  {
   "cell_type": "code",
   "execution_count": null,
   "metadata": {},
   "outputs": [],
   "source": []
  },
  {
   "cell_type": "code",
   "execution_count": null,
   "metadata": {},
   "outputs": [],
   "source": []
  },
  {
   "cell_type": "code",
   "execution_count": null,
   "metadata": {},
   "outputs": [],
   "source": []
  },
  {
   "cell_type": "code",
   "execution_count": null,
   "metadata": {},
   "outputs": [],
   "source": []
  },
  {
   "cell_type": "code",
   "execution_count": null,
   "metadata": {},
   "outputs": [],
   "source": []
  },
  {
   "cell_type": "code",
   "execution_count": null,
   "metadata": {},
   "outputs": [],
   "source": []
  },
  {
   "cell_type": "code",
   "execution_count": null,
   "metadata": {},
   "outputs": [],
   "source": []
  },
  {
   "cell_type": "code",
   "execution_count": null,
   "metadata": {},
   "outputs": [],
   "source": []
  },
  {
   "cell_type": "code",
   "execution_count": null,
   "metadata": {},
   "outputs": [],
   "source": []
  },
  {
   "cell_type": "code",
   "execution_count": null,
   "metadata": {},
   "outputs": [],
   "source": []
  },
  {
   "cell_type": "code",
   "execution_count": null,
   "metadata": {},
   "outputs": [],
   "source": []
  },
  {
   "cell_type": "code",
   "execution_count": null,
   "metadata": {},
   "outputs": [],
   "source": []
  },
  {
   "cell_type": "code",
   "execution_count": null,
   "metadata": {},
   "outputs": [],
   "source": []
  },
  {
   "cell_type": "code",
   "execution_count": null,
   "metadata": {},
   "outputs": [],
   "source": []
  },
  {
   "cell_type": "code",
   "execution_count": null,
   "metadata": {},
   "outputs": [],
   "source": []
  },
  {
   "cell_type": "code",
   "execution_count": null,
   "metadata": {},
   "outputs": [],
   "source": []
  },
  {
   "cell_type": "code",
   "execution_count": null,
   "metadata": {},
   "outputs": [],
   "source": []
  },
  {
   "cell_type": "code",
   "execution_count": null,
   "metadata": {},
   "outputs": [],
   "source": []
  },
  {
   "cell_type": "code",
   "execution_count": null,
   "metadata": {},
   "outputs": [],
   "source": []
  },
  {
   "cell_type": "code",
   "execution_count": null,
   "metadata": {},
   "outputs": [],
   "source": []
  },
  {
   "cell_type": "code",
   "execution_count": null,
   "metadata": {},
   "outputs": [],
   "source": []
  },
  {
   "cell_type": "code",
   "execution_count": null,
   "metadata": {},
   "outputs": [],
   "source": []
  },
  {
   "cell_type": "code",
   "execution_count": null,
   "metadata": {},
   "outputs": [],
   "source": []
  },
  {
   "cell_type": "code",
   "execution_count": null,
   "metadata": {},
   "outputs": [],
   "source": []
  },
  {
   "cell_type": "code",
   "execution_count": null,
   "metadata": {},
   "outputs": [],
   "source": []
  },
  {
   "cell_type": "code",
   "execution_count": null,
   "metadata": {},
   "outputs": [],
   "source": []
  },
  {
   "cell_type": "code",
   "execution_count": null,
   "metadata": {},
   "outputs": [],
   "source": []
  },
  {
   "cell_type": "code",
   "execution_count": null,
   "metadata": {},
   "outputs": [],
   "source": []
  },
  {
   "cell_type": "code",
   "execution_count": null,
   "metadata": {},
   "outputs": [],
   "source": []
  },
  {
   "cell_type": "code",
   "execution_count": null,
   "metadata": {},
   "outputs": [],
   "source": []
  },
  {
   "cell_type": "code",
   "execution_count": null,
   "metadata": {},
   "outputs": [],
   "source": []
  },
  {
   "cell_type": "code",
   "execution_count": null,
   "metadata": {},
   "outputs": [],
   "source": []
  },
  {
   "cell_type": "code",
   "execution_count": null,
   "metadata": {},
   "outputs": [],
   "source": []
  },
  {
   "cell_type": "code",
   "execution_count": null,
   "metadata": {},
   "outputs": [],
   "source": []
  },
  {
   "cell_type": "code",
   "execution_count": null,
   "metadata": {},
   "outputs": [],
   "source": []
  },
  {
   "cell_type": "code",
   "execution_count": null,
   "metadata": {},
   "outputs": [],
   "source": []
  },
  {
   "cell_type": "code",
   "execution_count": null,
   "metadata": {},
   "outputs": [],
   "source": []
  },
  {
   "cell_type": "code",
   "execution_count": null,
   "metadata": {},
   "outputs": [],
   "source": []
  },
  {
   "cell_type": "code",
   "execution_count": null,
   "metadata": {},
   "outputs": [],
   "source": []
  },
  {
   "cell_type": "code",
   "execution_count": null,
   "metadata": {},
   "outputs": [],
   "source": []
  },
  {
   "cell_type": "code",
   "execution_count": null,
   "metadata": {},
   "outputs": [],
   "source": []
  },
  {
   "cell_type": "code",
   "execution_count": null,
   "metadata": {},
   "outputs": [],
   "source": []
  },
  {
   "cell_type": "code",
   "execution_count": null,
   "metadata": {},
   "outputs": [],
   "source": []
  },
  {
   "cell_type": "code",
   "execution_count": null,
   "metadata": {},
   "outputs": [],
   "source": []
  },
  {
   "cell_type": "code",
   "execution_count": null,
   "metadata": {},
   "outputs": [],
   "source": []
  },
  {
   "cell_type": "code",
   "execution_count": null,
   "metadata": {},
   "outputs": [],
   "source": []
  },
  {
   "cell_type": "code",
   "execution_count": null,
   "metadata": {},
   "outputs": [],
   "source": []
  },
  {
   "cell_type": "code",
   "execution_count": null,
   "metadata": {},
   "outputs": [],
   "source": []
  },
  {
   "cell_type": "code",
   "execution_count": null,
   "metadata": {},
   "outputs": [],
   "source": []
  },
  {
   "cell_type": "code",
   "execution_count": null,
   "metadata": {},
   "outputs": [],
   "source": []
  },
  {
   "cell_type": "code",
   "execution_count": null,
   "metadata": {},
   "outputs": [],
   "source": []
  },
  {
   "cell_type": "code",
   "execution_count": null,
   "metadata": {},
   "outputs": [],
   "source": []
  },
  {
   "cell_type": "code",
   "execution_count": null,
   "metadata": {},
   "outputs": [],
   "source": []
  },
  {
   "cell_type": "code",
   "execution_count": null,
   "metadata": {},
   "outputs": [],
   "source": []
  },
  {
   "cell_type": "code",
   "execution_count": null,
   "metadata": {},
   "outputs": [],
   "source": []
  },
  {
   "cell_type": "code",
   "execution_count": null,
   "metadata": {},
   "outputs": [],
   "source": []
  },
  {
   "cell_type": "code",
   "execution_count": null,
   "metadata": {},
   "outputs": [],
   "source": []
  },
  {
   "cell_type": "code",
   "execution_count": null,
   "metadata": {},
   "outputs": [],
   "source": []
  },
  {
   "cell_type": "code",
   "execution_count": null,
   "metadata": {},
   "outputs": [],
   "source": []
  },
  {
   "cell_type": "code",
   "execution_count": null,
   "metadata": {},
   "outputs": [],
   "source": []
  },
  {
   "cell_type": "code",
   "execution_count": null,
   "metadata": {},
   "outputs": [],
   "source": []
  },
  {
   "cell_type": "code",
   "execution_count": null,
   "metadata": {},
   "outputs": [],
   "source": []
  },
  {
   "cell_type": "code",
   "execution_count": null,
   "metadata": {},
   "outputs": [],
   "source": []
  },
  {
   "cell_type": "code",
   "execution_count": null,
   "metadata": {},
   "outputs": [],
   "source": []
  },
  {
   "cell_type": "code",
   "execution_count": null,
   "metadata": {},
   "outputs": [],
   "source": []
  },
  {
   "cell_type": "code",
   "execution_count": null,
   "metadata": {},
   "outputs": [],
   "source": []
  },
  {
   "cell_type": "code",
   "execution_count": null,
   "metadata": {},
   "outputs": [],
   "source": []
  },
  {
   "cell_type": "code",
   "execution_count": null,
   "metadata": {},
   "outputs": [],
   "source": []
  },
  {
   "cell_type": "code",
   "execution_count": null,
   "metadata": {},
   "outputs": [],
   "source": []
  },
  {
   "cell_type": "code",
   "execution_count": null,
   "metadata": {},
   "outputs": [],
   "source": []
  },
  {
   "cell_type": "code",
   "execution_count": null,
   "metadata": {},
   "outputs": [],
   "source": []
  },
  {
   "cell_type": "code",
   "execution_count": null,
   "metadata": {},
   "outputs": [],
   "source": []
  },
  {
   "cell_type": "code",
   "execution_count": null,
   "metadata": {},
   "outputs": [],
   "source": []
  },
  {
   "cell_type": "code",
   "execution_count": null,
   "metadata": {},
   "outputs": [],
   "source": []
  },
  {
   "cell_type": "code",
   "execution_count": null,
   "metadata": {},
   "outputs": [],
   "source": []
  },
  {
   "cell_type": "code",
   "execution_count": null,
   "metadata": {},
   "outputs": [],
   "source": []
  },
  {
   "cell_type": "code",
   "execution_count": null,
   "metadata": {},
   "outputs": [],
   "source": []
  },
  {
   "cell_type": "code",
   "execution_count": null,
   "metadata": {},
   "outputs": [],
   "source": []
  },
  {
   "cell_type": "code",
   "execution_count": null,
   "metadata": {},
   "outputs": [],
   "source": []
  },
  {
   "cell_type": "code",
   "execution_count": null,
   "metadata": {},
   "outputs": [],
   "source": []
  },
  {
   "cell_type": "code",
   "execution_count": null,
   "metadata": {},
   "outputs": [],
   "source": []
  },
  {
   "cell_type": "code",
   "execution_count": null,
   "metadata": {},
   "outputs": [],
   "source": []
  },
  {
   "cell_type": "code",
   "execution_count": null,
   "metadata": {},
   "outputs": [],
   "source": []
  },
  {
   "cell_type": "code",
   "execution_count": null,
   "metadata": {},
   "outputs": [],
   "source": []
  },
  {
   "cell_type": "code",
   "execution_count": null,
   "metadata": {},
   "outputs": [],
   "source": []
  },
  {
   "cell_type": "code",
   "execution_count": null,
   "metadata": {},
   "outputs": [],
   "source": []
  },
  {
   "cell_type": "code",
   "execution_count": null,
   "metadata": {},
   "outputs": [],
   "source": []
  },
  {
   "cell_type": "code",
   "execution_count": null,
   "metadata": {},
   "outputs": [],
   "source": []
  },
  {
   "cell_type": "code",
   "execution_count": null,
   "metadata": {},
   "outputs": [],
   "source": []
  },
  {
   "cell_type": "code",
   "execution_count": null,
   "metadata": {},
   "outputs": [],
   "source": []
  },
  {
   "cell_type": "code",
   "execution_count": null,
   "metadata": {},
   "outputs": [],
   "source": []
  },
  {
   "cell_type": "code",
   "execution_count": null,
   "metadata": {},
   "outputs": [],
   "source": []
  },
  {
   "cell_type": "code",
   "execution_count": null,
   "metadata": {},
   "outputs": [],
   "source": []
  },
  {
   "cell_type": "code",
   "execution_count": null,
   "metadata": {},
   "outputs": [],
   "source": []
  },
  {
   "cell_type": "code",
   "execution_count": null,
   "metadata": {},
   "outputs": [],
   "source": []
  },
  {
   "cell_type": "code",
   "execution_count": null,
   "metadata": {},
   "outputs": [],
   "source": []
  },
  {
   "cell_type": "code",
   "execution_count": null,
   "metadata": {},
   "outputs": [],
   "source": []
  },
  {
   "cell_type": "code",
   "execution_count": null,
   "metadata": {},
   "outputs": [],
   "source": []
  },
  {
   "cell_type": "code",
   "execution_count": null,
   "metadata": {},
   "outputs": [],
   "source": []
  },
  {
   "cell_type": "code",
   "execution_count": null,
   "metadata": {},
   "outputs": [],
   "source": []
  },
  {
   "cell_type": "code",
   "execution_count": null,
   "metadata": {},
   "outputs": [],
   "source": []
  },
  {
   "cell_type": "code",
   "execution_count": null,
   "metadata": {},
   "outputs": [],
   "source": []
  },
  {
   "cell_type": "code",
   "execution_count": null,
   "metadata": {},
   "outputs": [],
   "source": []
  },
  {
   "cell_type": "code",
   "execution_count": null,
   "metadata": {},
   "outputs": [],
   "source": []
  },
  {
   "cell_type": "code",
   "execution_count": null,
   "metadata": {},
   "outputs": [],
   "source": []
  },
  {
   "cell_type": "code",
   "execution_count": null,
   "metadata": {},
   "outputs": [],
   "source": []
  },
  {
   "cell_type": "code",
   "execution_count": null,
   "metadata": {},
   "outputs": [],
   "source": []
  },
  {
   "cell_type": "code",
   "execution_count": null,
   "metadata": {},
   "outputs": [],
   "source": []
  },
  {
   "cell_type": "code",
   "execution_count": null,
   "metadata": {},
   "outputs": [],
   "source": []
  },
  {
   "cell_type": "code",
   "execution_count": null,
   "metadata": {},
   "outputs": [],
   "source": []
  },
  {
   "cell_type": "code",
   "execution_count": null,
   "metadata": {},
   "outputs": [],
   "source": []
  },
  {
   "cell_type": "code",
   "execution_count": null,
   "metadata": {},
   "outputs": [],
   "source": []
  },
  {
   "cell_type": "code",
   "execution_count": null,
   "metadata": {},
   "outputs": [],
   "source": []
  },
  {
   "cell_type": "code",
   "execution_count": null,
   "metadata": {},
   "outputs": [],
   "source": []
  },
  {
   "cell_type": "code",
   "execution_count": null,
   "metadata": {},
   "outputs": [],
   "source": []
  },
  {
   "cell_type": "code",
   "execution_count": null,
   "metadata": {},
   "outputs": [],
   "source": []
  },
  {
   "cell_type": "code",
   "execution_count": null,
   "metadata": {},
   "outputs": [],
   "source": []
  },
  {
   "cell_type": "code",
   "execution_count": null,
   "metadata": {},
   "outputs": [],
   "source": []
  },
  {
   "cell_type": "code",
   "execution_count": null,
   "metadata": {},
   "outputs": [],
   "source": []
  },
  {
   "cell_type": "code",
   "execution_count": null,
   "metadata": {},
   "outputs": [],
   "source": []
  },
  {
   "cell_type": "code",
   "execution_count": null,
   "metadata": {},
   "outputs": [],
   "source": []
  },
  {
   "cell_type": "code",
   "execution_count": null,
   "metadata": {},
   "outputs": [],
   "source": []
  },
  {
   "cell_type": "code",
   "execution_count": null,
   "metadata": {},
   "outputs": [],
   "source": []
  },
  {
   "cell_type": "code",
   "execution_count": null,
   "metadata": {},
   "outputs": [],
   "source": []
  },
  {
   "cell_type": "code",
   "execution_count": null,
   "metadata": {},
   "outputs": [],
   "source": []
  },
  {
   "cell_type": "code",
   "execution_count": null,
   "metadata": {},
   "outputs": [],
   "source": []
  },
  {
   "cell_type": "code",
   "execution_count": null,
   "metadata": {},
   "outputs": [],
   "source": []
  },
  {
   "cell_type": "code",
   "execution_count": null,
   "metadata": {},
   "outputs": [],
   "source": []
  },
  {
   "cell_type": "code",
   "execution_count": null,
   "metadata": {},
   "outputs": [],
   "source": []
  },
  {
   "cell_type": "code",
   "execution_count": null,
   "metadata": {},
   "outputs": [],
   "source": []
  },
  {
   "cell_type": "code",
   "execution_count": null,
   "metadata": {},
   "outputs": [],
   "source": []
  },
  {
   "cell_type": "code",
   "execution_count": null,
   "metadata": {},
   "outputs": [],
   "source": []
  },
  {
   "cell_type": "code",
   "execution_count": null,
   "metadata": {},
   "outputs": [],
   "source": []
  },
  {
   "cell_type": "code",
   "execution_count": null,
   "metadata": {},
   "outputs": [],
   "source": []
  },
  {
   "cell_type": "code",
   "execution_count": null,
   "metadata": {},
   "outputs": [],
   "source": []
  },
  {
   "cell_type": "code",
   "execution_count": null,
   "metadata": {},
   "outputs": [],
   "source": []
  },
  {
   "cell_type": "code",
   "execution_count": null,
   "metadata": {},
   "outputs": [],
   "source": []
  },
  {
   "cell_type": "code",
   "execution_count": null,
   "metadata": {},
   "outputs": [],
   "source": []
  },
  {
   "cell_type": "code",
   "execution_count": null,
   "metadata": {},
   "outputs": [],
   "source": []
  }
 ],
 "metadata": {
  "kernelspec": {
   "display_name": "Python [conda env:learn-env] *",
   "language": "python",
   "name": "conda-env-learn-env-py"
  },
  "language_info": {
   "codemirror_mode": {
    "name": "ipython",
    "version": 3
   },
   "file_extension": ".py",
   "mimetype": "text/x-python",
   "name": "python",
   "nbconvert_exporter": "python",
   "pygments_lexer": "ipython3",
   "version": "3.6.10"
  }
 },
 "nbformat": 4,
 "nbformat_minor": 4
}
