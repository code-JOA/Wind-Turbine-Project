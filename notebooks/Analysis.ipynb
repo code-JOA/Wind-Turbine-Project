{
 "cells": [
  {
   "cell_type": "code",
   "execution_count": 1,
   "metadata": {},
   "outputs": [],
   "source": [
    "import pandas as pd\n",
    "import numpy as np\n",
    "import os\n",
    "import matplotlib.pyplot as plt\n",
    "import seaborn as sns\n",
    "import math\n",
    "import os\n",
    "from mpl_toolkits import mplot3d\n",
    "from matplotlib import cm\n",
    "from tqdm.notebook import tqdm\n",
    "from sklearn.linear_model import LinearRegression\n",
    "from sklearn.metrics import auc\n",
    "from sklearn.metrics import pairwise_distances\n",
    "from scipy.stats import wilcoxon, mannwhitneyu\n",
    "from sklearn.preprocessing import StandardScaler\n",
    "import copy"
   ]
  },
  {
   "cell_type": "code",
   "execution_count": 2,
   "metadata": {},
   "outputs": [
    {
     "data": {
      "text/html": [
       "<div>\n",
       "<style scoped>\n",
       "    .dataframe tbody tr th:only-of-type {\n",
       "        vertical-align: middle;\n",
       "    }\n",
       "\n",
       "    .dataframe tbody tr th {\n",
       "        vertical-align: top;\n",
       "    }\n",
       "\n",
       "    .dataframe thead th {\n",
       "        text-align: right;\n",
       "    }\n",
       "</style>\n",
       "<table border=\"1\" class=\"dataframe\">\n",
       "  <thead>\n",
       "    <tr style=\"text-align: right;\">\n",
       "      <th></th>\n",
       "      <th>Unnamed: 0</th>\n",
       "      <th>FEC_HORA_INI</th>\n",
       "      <th>NOM_ELEMENTO</th>\n",
       "      <th>COD_ELEMENTO</th>\n",
       "      <th>NOM_INSTALACION</th>\n",
       "      <th>BIN_YAW</th>\n",
       "      <th>Sum_Of_Avg_W_In_Bin</th>\n",
       "      <th>Yaw_Bin_Rank</th>\n",
       "    </tr>\n",
       "  </thead>\n",
       "  <tbody>\n",
       "    <tr>\n",
       "      <th>0</th>\n",
       "      <td>0</td>\n",
       "      <td>2020-10-01</td>\n",
       "      <td>002</td>\n",
       "      <td>11267.0</td>\n",
       "      <td>BLUE CREEK</td>\n",
       "      <td>(26, Infinito]</td>\n",
       "      <td>2819.48</td>\n",
       "      <td>1.0</td>\n",
       "    </tr>\n",
       "    <tr>\n",
       "      <th>1</th>\n",
       "      <td>1</td>\n",
       "      <td>2020-10-01</td>\n",
       "      <td>003</td>\n",
       "      <td>11268.0</td>\n",
       "      <td>BLUE CREEK</td>\n",
       "      <td>(26, Infinito]</td>\n",
       "      <td>2991.07</td>\n",
       "      <td>1.0</td>\n",
       "    </tr>\n",
       "    <tr>\n",
       "      <th>2</th>\n",
       "      <td>2</td>\n",
       "      <td>2020-10-01</td>\n",
       "      <td>004</td>\n",
       "      <td>11269.0</td>\n",
       "      <td>BLUE CREEK</td>\n",
       "      <td>(26, Infinito]</td>\n",
       "      <td>2932.53</td>\n",
       "      <td>1.0</td>\n",
       "    </tr>\n",
       "    <tr>\n",
       "      <th>3</th>\n",
       "      <td>3</td>\n",
       "      <td>2020-10-01</td>\n",
       "      <td>005</td>\n",
       "      <td>11270.0</td>\n",
       "      <td>BLUE CREEK</td>\n",
       "      <td>(26, Infinito]</td>\n",
       "      <td>2937.90</td>\n",
       "      <td>1.0</td>\n",
       "    </tr>\n",
       "    <tr>\n",
       "      <th>4</th>\n",
       "      <td>4</td>\n",
       "      <td>2020-10-01</td>\n",
       "      <td>007</td>\n",
       "      <td>11271.0</td>\n",
       "      <td>BLUE CREEK</td>\n",
       "      <td>(26, Infinito]</td>\n",
       "      <td>2915.70</td>\n",
       "      <td>1.0</td>\n",
       "    </tr>\n",
       "    <tr>\n",
       "      <th>...</th>\n",
       "      <td>...</td>\n",
       "      <td>...</td>\n",
       "      <td>...</td>\n",
       "      <td>...</td>\n",
       "      <td>...</td>\n",
       "      <td>...</td>\n",
       "      <td>...</td>\n",
       "      <td>...</td>\n",
       "    </tr>\n",
       "    <tr>\n",
       "      <th>57259</th>\n",
       "      <td>57259</td>\n",
       "      <td>2020-10-01</td>\n",
       "      <td>Z5</td>\n",
       "      <td>10009.0</td>\n",
       "      <td>LEANING JUNIPER IIA</td>\n",
       "      <td>(14, 18]</td>\n",
       "      <td>2718.96</td>\n",
       "      <td>11.0</td>\n",
       "    </tr>\n",
       "    <tr>\n",
       "      <th>57260</th>\n",
       "      <td>57260</td>\n",
       "      <td>2020-10-01</td>\n",
       "      <td>Z5</td>\n",
       "      <td>10009.0</td>\n",
       "      <td>LEANING JUNIPER IIA</td>\n",
       "      <td>(-Infinito, -26]</td>\n",
       "      <td>2693.18</td>\n",
       "      <td>12.0</td>\n",
       "    </tr>\n",
       "    <tr>\n",
       "      <th>57261</th>\n",
       "      <td>57261</td>\n",
       "      <td>2020-10-01</td>\n",
       "      <td>Z5</td>\n",
       "      <td>10009.0</td>\n",
       "      <td>LEANING JUNIPER IIA</td>\n",
       "      <td>(26, Infinito]</td>\n",
       "      <td>2644.22</td>\n",
       "      <td>13.0</td>\n",
       "    </tr>\n",
       "    <tr>\n",
       "      <th>57262</th>\n",
       "      <td>57262</td>\n",
       "      <td>2020-10-01</td>\n",
       "      <td>Z5</td>\n",
       "      <td>10009.0</td>\n",
       "      <td>LEANING JUNIPER IIA</td>\n",
       "      <td>(18, 22]</td>\n",
       "      <td>2525.33</td>\n",
       "      <td>14.0</td>\n",
       "    </tr>\n",
       "    <tr>\n",
       "      <th>57263</th>\n",
       "      <td>57263</td>\n",
       "      <td>2020-10-01</td>\n",
       "      <td>Z5</td>\n",
       "      <td>10009.0</td>\n",
       "      <td>LEANING JUNIPER IIA</td>\n",
       "      <td>(22, 26]</td>\n",
       "      <td>2448.83</td>\n",
       "      <td>15.0</td>\n",
       "    </tr>\n",
       "  </tbody>\n",
       "</table>\n",
       "<p>57264 rows × 8 columns</p>\n",
       "</div>"
      ],
      "text/plain": [
       "       Unnamed: 0 FEC_HORA_INI NOM_ELEMENTO  COD_ELEMENTO  \\\n",
       "0               0   2020-10-01          002       11267.0   \n",
       "1               1   2020-10-01          003       11268.0   \n",
       "2               2   2020-10-01          004       11269.0   \n",
       "3               3   2020-10-01          005       11270.0   \n",
       "4               4   2020-10-01          007       11271.0   \n",
       "...           ...          ...          ...           ...   \n",
       "57259       57259   2020-10-01           Z5       10009.0   \n",
       "57260       57260   2020-10-01           Z5       10009.0   \n",
       "57261       57261   2020-10-01           Z5       10009.0   \n",
       "57262       57262   2020-10-01           Z5       10009.0   \n",
       "57263       57263   2020-10-01           Z5       10009.0   \n",
       "\n",
       "           NOM_INSTALACION           BIN_YAW  Sum_Of_Avg_W_In_Bin  \\\n",
       "0               BLUE CREEK    (26, Infinito]              2819.48   \n",
       "1               BLUE CREEK    (26, Infinito]              2991.07   \n",
       "2               BLUE CREEK    (26, Infinito]              2932.53   \n",
       "3               BLUE CREEK    (26, Infinito]              2937.90   \n",
       "4               BLUE CREEK    (26, Infinito]              2915.70   \n",
       "...                    ...               ...                  ...   \n",
       "57259  LEANING JUNIPER IIA          (14, 18]              2718.96   \n",
       "57260  LEANING JUNIPER IIA  (-Infinito, -26]              2693.18   \n",
       "57261  LEANING JUNIPER IIA    (26, Infinito]              2644.22   \n",
       "57262  LEANING JUNIPER IIA          (18, 22]              2525.33   \n",
       "57263  LEANING JUNIPER IIA          (22, 26]              2448.83   \n",
       "\n",
       "       Yaw_Bin_Rank  \n",
       "0               1.0  \n",
       "1               1.0  \n",
       "2               1.0  \n",
       "3               1.0  \n",
       "4               1.0  \n",
       "...             ...  \n",
       "57259          11.0  \n",
       "57260          12.0  \n",
       "57261          13.0  \n",
       "57262          14.0  \n",
       "57263          15.0  \n",
       "\n",
       "[57264 rows x 8 columns]"
      ]
     },
     "execution_count": 2,
     "metadata": {},
     "output_type": "execute_result"
    }
   ],
   "source": [
    "data = pd.read_csv(\"../data/input_data.csv\")\n",
    "data"
   ]
  },
  {
   "cell_type": "code",
   "execution_count": 4,
   "metadata": {},
   "outputs": [
    {
     "data": {
      "text/html": [
       "<div>\n",
       "<style scoped>\n",
       "    .dataframe tbody tr th:only-of-type {\n",
       "        vertical-align: middle;\n",
       "    }\n",
       "\n",
       "    .dataframe tbody tr th {\n",
       "        vertical-align: top;\n",
       "    }\n",
       "\n",
       "    .dataframe thead th {\n",
       "        text-align: right;\n",
       "    }\n",
       "</style>\n",
       "<table border=\"1\" class=\"dataframe\">\n",
       "  <thead>\n",
       "    <tr style=\"text-align: right;\">\n",
       "      <th></th>\n",
       "      <th>FEC_HORA_INI</th>\n",
       "      <th>NOM_ELEMENTO</th>\n",
       "      <th>COD_ELEMENTO</th>\n",
       "      <th>NOM_INSTALACION</th>\n",
       "      <th>BIN_YAW</th>\n",
       "      <th>Sum_Of_Avg_W_In_Bin</th>\n",
       "      <th>Yaw_Bin_Rank</th>\n",
       "    </tr>\n",
       "  </thead>\n",
       "  <tbody>\n",
       "    <tr>\n",
       "      <th>0</th>\n",
       "      <td>2020-10-01</td>\n",
       "      <td>002</td>\n",
       "      <td>11267.0</td>\n",
       "      <td>BLUE CREEK</td>\n",
       "      <td>(26, Infinito]</td>\n",
       "      <td>2819.48</td>\n",
       "      <td>1.0</td>\n",
       "    </tr>\n",
       "    <tr>\n",
       "      <th>1</th>\n",
       "      <td>2020-10-01</td>\n",
       "      <td>003</td>\n",
       "      <td>11268.0</td>\n",
       "      <td>BLUE CREEK</td>\n",
       "      <td>(26, Infinito]</td>\n",
       "      <td>2991.07</td>\n",
       "      <td>1.0</td>\n",
       "    </tr>\n",
       "    <tr>\n",
       "      <th>2</th>\n",
       "      <td>2020-10-01</td>\n",
       "      <td>004</td>\n",
       "      <td>11269.0</td>\n",
       "      <td>BLUE CREEK</td>\n",
       "      <td>(26, Infinito]</td>\n",
       "      <td>2932.53</td>\n",
       "      <td>1.0</td>\n",
       "    </tr>\n",
       "    <tr>\n",
       "      <th>3</th>\n",
       "      <td>2020-10-01</td>\n",
       "      <td>005</td>\n",
       "      <td>11270.0</td>\n",
       "      <td>BLUE CREEK</td>\n",
       "      <td>(26, Infinito]</td>\n",
       "      <td>2937.90</td>\n",
       "      <td>1.0</td>\n",
       "    </tr>\n",
       "    <tr>\n",
       "      <th>4</th>\n",
       "      <td>2020-10-01</td>\n",
       "      <td>007</td>\n",
       "      <td>11271.0</td>\n",
       "      <td>BLUE CREEK</td>\n",
       "      <td>(26, Infinito]</td>\n",
       "      <td>2915.70</td>\n",
       "      <td>1.0</td>\n",
       "    </tr>\n",
       "    <tr>\n",
       "      <th>...</th>\n",
       "      <td>...</td>\n",
       "      <td>...</td>\n",
       "      <td>...</td>\n",
       "      <td>...</td>\n",
       "      <td>...</td>\n",
       "      <td>...</td>\n",
       "      <td>...</td>\n",
       "    </tr>\n",
       "    <tr>\n",
       "      <th>57259</th>\n",
       "      <td>2020-10-01</td>\n",
       "      <td>Z5</td>\n",
       "      <td>10009.0</td>\n",
       "      <td>LEANING JUNIPER IIA</td>\n",
       "      <td>(14, 18]</td>\n",
       "      <td>2718.96</td>\n",
       "      <td>11.0</td>\n",
       "    </tr>\n",
       "    <tr>\n",
       "      <th>57260</th>\n",
       "      <td>2020-10-01</td>\n",
       "      <td>Z5</td>\n",
       "      <td>10009.0</td>\n",
       "      <td>LEANING JUNIPER IIA</td>\n",
       "      <td>(-Infinito, -26]</td>\n",
       "      <td>2693.18</td>\n",
       "      <td>12.0</td>\n",
       "    </tr>\n",
       "    <tr>\n",
       "      <th>57261</th>\n",
       "      <td>2020-10-01</td>\n",
       "      <td>Z5</td>\n",
       "      <td>10009.0</td>\n",
       "      <td>LEANING JUNIPER IIA</td>\n",
       "      <td>(26, Infinito]</td>\n",
       "      <td>2644.22</td>\n",
       "      <td>13.0</td>\n",
       "    </tr>\n",
       "    <tr>\n",
       "      <th>57262</th>\n",
       "      <td>2020-10-01</td>\n",
       "      <td>Z5</td>\n",
       "      <td>10009.0</td>\n",
       "      <td>LEANING JUNIPER IIA</td>\n",
       "      <td>(18, 22]</td>\n",
       "      <td>2525.33</td>\n",
       "      <td>14.0</td>\n",
       "    </tr>\n",
       "    <tr>\n",
       "      <th>57263</th>\n",
       "      <td>2020-10-01</td>\n",
       "      <td>Z5</td>\n",
       "      <td>10009.0</td>\n",
       "      <td>LEANING JUNIPER IIA</td>\n",
       "      <td>(22, 26]</td>\n",
       "      <td>2448.83</td>\n",
       "      <td>15.0</td>\n",
       "    </tr>\n",
       "  </tbody>\n",
       "</table>\n",
       "<p>57264 rows × 7 columns</p>\n",
       "</div>"
      ],
      "text/plain": [
       "      FEC_HORA_INI NOM_ELEMENTO  COD_ELEMENTO      NOM_INSTALACION  \\\n",
       "0       2020-10-01          002       11267.0           BLUE CREEK   \n",
       "1       2020-10-01          003       11268.0           BLUE CREEK   \n",
       "2       2020-10-01          004       11269.0           BLUE CREEK   \n",
       "3       2020-10-01          005       11270.0           BLUE CREEK   \n",
       "4       2020-10-01          007       11271.0           BLUE CREEK   \n",
       "...            ...          ...           ...                  ...   \n",
       "57259   2020-10-01           Z5       10009.0  LEANING JUNIPER IIA   \n",
       "57260   2020-10-01           Z5       10009.0  LEANING JUNIPER IIA   \n",
       "57261   2020-10-01           Z5       10009.0  LEANING JUNIPER IIA   \n",
       "57262   2020-10-01           Z5       10009.0  LEANING JUNIPER IIA   \n",
       "57263   2020-10-01           Z5       10009.0  LEANING JUNIPER IIA   \n",
       "\n",
       "                BIN_YAW  Sum_Of_Avg_W_In_Bin  Yaw_Bin_Rank  \n",
       "0        (26, Infinito]              2819.48           1.0  \n",
       "1        (26, Infinito]              2991.07           1.0  \n",
       "2        (26, Infinito]              2932.53           1.0  \n",
       "3        (26, Infinito]              2937.90           1.0  \n",
       "4        (26, Infinito]              2915.70           1.0  \n",
       "...                 ...                  ...           ...  \n",
       "57259          (14, 18]              2718.96          11.0  \n",
       "57260  (-Infinito, -26]              2693.18          12.0  \n",
       "57261    (26, Infinito]              2644.22          13.0  \n",
       "57262          (18, 22]              2525.33          14.0  \n",
       "57263          (22, 26]              2448.83          15.0  \n",
       "\n",
       "[57264 rows x 7 columns]"
      ]
     },
     "execution_count": 4,
     "metadata": {},
     "output_type": "execute_result"
    }
   ],
   "source": [
    "data = data.drop([\"Unnamed: 0\"], axis=1)\n",
    "data"
   ]
  },
  {
   "cell_type": "code",
   "execution_count": null,
   "metadata": {},
   "outputs": [],
   "source": []
  },
  {
   "cell_type": "code",
   "execution_count": null,
   "metadata": {},
   "outputs": [],
   "source": [
    "num_ranks = 15\n",
    "values = [-50, -30, -10, 1, 1.5, 2, 2.5, 3]\n",
    "dampening_factor = 0.1\n",
    "severitiy_score = [list() for i in range(num_ranks)]\n",
    "\n",
    "# first generate all severity scores for only positive bins\n",
    "# generate alert severity for rank=1\n",
    "\n",
    "for i in values:\n",
    "    severity_score[0].append(dampening_factor*np.exp(i))\n",
    "    \n",
    "# generate alert severity for rank=1    \n",
    "severity_score[-1] = sorted(severity_score[0], reverse=True)\n",
    "\n",
    "# Now generate intermedite severity scores for remaining ranks\n",
    "delta = [abs((severity_score[0][j] - severity_score[-1][j]) / num_ranks) for j in range(len(values))]\n",
    "             \n",
    "for i in range(1, num_ranks-1):\n",
    "# let's first add till half of bins\n",
    "    mid = math.ceil(len(values)/2)\n",
    "    for j in range(mid):\n",
    "        severity_score[i].append(severitiy_score[i-1][j]+delta[j])\n",
    "    for j in range(mid, len(values)):\n",
    "        severity_score[i].append(severity_score[i-1][j]-delta[j])     \n",
    "             \n",
    "# Lets plot the severitiy scores for different ranks\n",
    "# %matplotlib \n",
    "\n",
    "fig = plt.figure()\n",
    "ax = plt.axes(projection=\"3d\")\n",
    "\n",
    "scoring_function_3d = list()\n",
    "for i in range(num_rnaks):\n",
    "    for j in range(len(values)):\n",
    "        scoring_function_3d.append([i+1, j+1, severity_score[i][j]])\n",
    "\n"
   ]
  },
  {
   "cell_type": "code",
   "execution_count": null,
   "metadata": {},
   "outputs": [],
   "source": []
  },
  {
   "cell_type": "code",
   "execution_count": 12,
   "metadata": {},
   "outputs": [
    {
     "data": {
      "image/png": "[encoded data removed]",
      "text/plain": [
       "<Figure size 432x288 with 2 Axes>"
      ]
     },
     "metadata": {
      "needs_background": "light"
     },
     "output_type": "display_data"
    }
   ],
   "source": [
    "num_ranks = 15\n",
    "values = [-50, -30, -10, 1, 1.5, 2, 2.5, 3]\n",
    "dampening_factor = 0.1\n",
    "severity_score = [list() for i in range(num_ranks)]\n",
    "\n",
    "# We will first generate all severity scores for only the positive bins\n",
    "# Generate alert severity for rank=1\n",
    "for i in values:\n",
    "    severity_score[0].append(dampening_factor*np.exp(i))\n",
    "\n",
    "# Generate alert severity for rank=1\n",
    "severity_score[-1] = sorted(severity_score[0], reverse=True)\n",
    "\n",
    "# Now generate intermediate severity scores for remaining ranks\n",
    "delta = [abs((severity_score[0][j] - severity_score[-1][j]) / num_ranks) for j in range(len(values))]\n",
    "for i in range(1, num_ranks-1):\n",
    "    # First add till half of bins\n",
    "    mid = math.ceil(len(values)/2)\n",
    "    for j in range(mid):\n",
    "        severity_score[i].append(severity_score[i-1][j]+delta[j])\n",
    "    for j in range(mid, len(values)):\n",
    "        severity_score[i].append(severity_score[i-1][j]-delta[j])\n",
    "\n",
    "        \n",
    "# Now plot the severity scores for different ranks\n",
    "# %matplotlib notebook\n",
    "fig = plt.figure()\n",
    "ax = plt.axes(projection='3d')\n",
    "\n",
    "scoring_function_3d = list()\n",
    "for i in range(num_ranks):\n",
    "    for j in range(len(values)):\n",
    "        scoring_function_3d.append([i+1, j+1, severity_score[i][j]])\n",
    "scoring_function_3d = np.array(scoring_function_3d)\n",
    "\n",
    "surf = ax.plot_trisurf(scoring_function_3d[:,0], scoring_function_3d[:,1], scoring_function_3d[:,2], cmap=plt.cm.viridis, linewidth=0.2)\n",
    "fig.colorbar(surf)\n",
    "ax.view_init(30, 45)\n",
    "plt.show()"
   ]
  },
  {
   "cell_type": "code",
   "execution_count": null,
   "metadata": {},
   "outputs": [],
   "source": []
  },
  {
   "cell_type": "code",
   "execution_count": null,
   "metadata": {},
   "outputs": [],
   "source": []
  },
  {
   "cell_type": "code",
   "execution_count": null,
   "metadata": {},
   "outputs": [],
   "source": []
  },
  {
   "cell_type": "code",
   "execution_count": null,
   "metadata": {},
   "outputs": [],
   "source": []
  },
  {
   "cell_type": "code",
   "execution_count": null,
   "metadata": {},
   "outputs": [],
   "source": []
  },
  {
   "cell_type": "code",
   "execution_count": null,
   "metadata": {},
   "outputs": [],
   "source": []
  },
  {
   "cell_type": "code",
   "execution_count": null,
   "metadata": {},
   "outputs": [],
   "source": []
  },
  {
   "cell_type": "code",
   "execution_count": null,
   "metadata": {},
   "outputs": [],
   "source": []
  },
  {
   "cell_type": "code",
   "execution_count": null,
   "metadata": {},
   "outputs": [],
   "source": []
  },
  {
   "cell_type": "code",
   "execution_count": null,
   "metadata": {},
   "outputs": [],
   "source": []
  },
  {
   "cell_type": "code",
   "execution_count": null,
   "metadata": {},
   "outputs": [],
   "source": []
  },
  {
   "cell_type": "code",
   "execution_count": null,
   "metadata": {},
   "outputs": [],
   "source": []
  },
  {
   "cell_type": "code",
   "execution_count": null,
   "metadata": {},
   "outputs": [],
   "source": []
  },
  {
   "cell_type": "code",
   "execution_count": null,
   "metadata": {},
   "outputs": [],
   "source": []
  },
  {
   "cell_type": "code",
   "execution_count": null,
   "metadata": {},
   "outputs": [],
   "source": []
  },
  {
   "cell_type": "code",
   "execution_count": null,
   "metadata": {},
   "outputs": [],
   "source": []
  },
  {
   "cell_type": "code",
   "execution_count": null,
   "metadata": {},
   "outputs": [],
   "source": []
  },
  {
   "cell_type": "code",
   "execution_count": null,
   "metadata": {},
   "outputs": [],
   "source": []
  },
  {
   "cell_type": "code",
   "execution_count": null,
   "metadata": {},
   "outputs": [],
   "source": []
  },
  {
   "cell_type": "code",
   "execution_count": null,
   "metadata": {},
   "outputs": [],
   "source": []
  },
  {
   "cell_type": "code",
   "execution_count": null,
   "metadata": {},
   "outputs": [],
   "source": []
  },
  {
   "cell_type": "code",
   "execution_count": null,
   "metadata": {},
   "outputs": [],
   "source": []
  },
  {
   "cell_type": "code",
   "execution_count": null,
   "metadata": {},
   "outputs": [],
   "source": []
  },
  {
   "cell_type": "code",
   "execution_count": null,
   "metadata": {},
   "outputs": [],
   "source": []
  },
  {
   "cell_type": "code",
   "execution_count": null,
   "metadata": {},
   "outputs": [],
   "source": []
  },
  {
   "cell_type": "code",
   "execution_count": null,
   "metadata": {},
   "outputs": [],
   "source": []
  },
  {
   "cell_type": "code",
   "execution_count": null,
   "metadata": {},
   "outputs": [],
   "source": []
  },
  {
   "cell_type": "code",
   "execution_count": null,
   "metadata": {},
   "outputs": [],
   "source": []
  },
  {
   "cell_type": "code",
   "execution_count": null,
   "metadata": {},
   "outputs": [],
   "source": []
  },
  {
   "cell_type": "code",
   "execution_count": null,
   "metadata": {},
   "outputs": [],
   "source": []
  },
  {
   "cell_type": "code",
   "execution_count": null,
   "metadata": {},
   "outputs": [],
   "source": []
  },
  {
   "cell_type": "code",
   "execution_count": null,
   "metadata": {},
   "outputs": [],
   "source": []
  },
  {
   "cell_type": "code",
   "execution_count": null,
   "metadata": {},
   "outputs": [],
   "source": []
  },
  {
   "cell_type": "code",
   "execution_count": null,
   "metadata": {},
   "outputs": [],
   "source": []
  },
  {
   "cell_type": "code",
   "execution_count": null,
   "metadata": {},
   "outputs": [],
   "source": []
  },
  {
   "cell_type": "code",
   "execution_count": null,
   "metadata": {},
   "outputs": [],
   "source": []
  },
  {
   "cell_type": "code",
   "execution_count": null,
   "metadata": {},
   "outputs": [],
   "source": []
  },
  {
   "cell_type": "code",
   "execution_count": null,
   "metadata": {},
   "outputs": [],
   "source": []
  },
  {
   "cell_type": "code",
   "execution_count": null,
   "metadata": {},
   "outputs": [],
   "source": []
  },
  {
   "cell_type": "code",
   "execution_count": null,
   "metadata": {},
   "outputs": [],
   "source": []
  },
  {
   "cell_type": "code",
   "execution_count": null,
   "metadata": {},
   "outputs": [],
   "source": []
  },
  {
   "cell_type": "code",
   "execution_count": null,
   "metadata": {},
   "outputs": [],
   "source": []
  },
  {
   "cell_type": "code",
   "execution_count": null,
   "metadata": {},
   "outputs": [],
   "source": []
  },
  {
   "cell_type": "code",
   "execution_count": null,
   "metadata": {},
   "outputs": [],
   "source": []
  },
  {
   "cell_type": "code",
   "execution_count": null,
   "metadata": {},
   "outputs": [],
   "source": []
  },
  {
   "cell_type": "code",
   "execution_count": null,
   "metadata": {},
   "outputs": [],
   "source": []
  },
  {
   "cell_type": "code",
   "execution_count": null,
   "metadata": {},
   "outputs": [],
   "source": []
  },
  {
   "cell_type": "code",
   "execution_count": null,
   "metadata": {},
   "outputs": [],
   "source": []
  },
  {
   "cell_type": "code",
   "execution_count": null,
   "metadata": {},
   "outputs": [],
   "source": []
  },
  {
   "cell_type": "code",
   "execution_count": null,
   "metadata": {},
   "outputs": [],
   "source": []
  },
  {
   "cell_type": "code",
   "execution_count": null,
   "metadata": {},
   "outputs": [],
   "source": []
  },
  {
   "cell_type": "code",
   "execution_count": null,
   "metadata": {},
   "outputs": [],
   "source": []
  },
  {
   "cell_type": "code",
   "execution_count": null,
   "metadata": {},
   "outputs": [],
   "source": []
  },
  {
   "cell_type": "code",
   "execution_count": null,
   "metadata": {},
   "outputs": [],
   "source": []
  },
  {
   "cell_type": "code",
   "execution_count": null,
   "metadata": {},
   "outputs": [],
   "source": []
  },
  {
   "cell_type": "code",
   "execution_count": null,
   "metadata": {},
   "outputs": [],
   "source": []
  },
  {
   "cell_type": "code",
   "execution_count": null,
   "metadata": {},
   "outputs": [],
   "source": []
  },
  {
   "cell_type": "code",
   "execution_count": null,
   "metadata": {},
   "outputs": [],
   "source": []
  },
  {
   "cell_type": "code",
   "execution_count": null,
   "metadata": {},
   "outputs": [],
   "source": []
  },
  {
   "cell_type": "code",
   "execution_count": null,
   "metadata": {},
   "outputs": [],
   "source": []
  },
  {
   "cell_type": "code",
   "execution_count": null,
   "metadata": {},
   "outputs": [],
   "source": []
  },
  {
   "cell_type": "code",
   "execution_count": null,
   "metadata": {},
   "outputs": [],
   "source": []
  },
  {
   "cell_type": "code",
   "execution_count": null,
   "metadata": {},
   "outputs": [],
   "source": []
  },
  {
   "cell_type": "code",
   "execution_count": null,
   "metadata": {},
   "outputs": [],
   "source": []
  },
  {
   "cell_type": "code",
   "execution_count": null,
   "metadata": {},
   "outputs": [],
   "source": []
  },
  {
   "cell_type": "code",
   "execution_count": null,
   "metadata": {},
   "outputs": [],
   "source": []
  },
  {
   "cell_type": "code",
   "execution_count": null,
   "metadata": {},
   "outputs": [],
   "source": []
  },
  {
   "cell_type": "code",
   "execution_count": null,
   "metadata": {},
   "outputs": [],
   "source": []
  },
  {
   "cell_type": "code",
   "execution_count": null,
   "metadata": {},
   "outputs": [],
   "source": []
  },
  {
   "cell_type": "code",
   "execution_count": null,
   "metadata": {},
   "outputs": [],
   "source": []
  },
  {
   "cell_type": "code",
   "execution_count": null,
   "metadata": {},
   "outputs": [],
   "source": []
  },
  {
   "cell_type": "code",
   "execution_count": null,
   "metadata": {},
   "outputs": [],
   "source": []
  },
  {
   "cell_type": "code",
   "execution_count": null,
   "metadata": {},
   "outputs": [],
   "source": []
  },
  {
   "cell_type": "code",
   "execution_count": null,
   "metadata": {},
   "outputs": [],
   "source": []
  },
  {
   "cell_type": "code",
   "execution_count": null,
   "metadata": {},
   "outputs": [],
   "source": []
  },
  {
   "cell_type": "code",
   "execution_count": null,
   "metadata": {},
   "outputs": [],
   "source": []
  },
  {
   "cell_type": "code",
   "execution_count": null,
   "metadata": {},
   "outputs": [],
   "source": []
  },
  {
   "cell_type": "code",
   "execution_count": null,
   "metadata": {},
   "outputs": [],
   "source": []
  },
  {
   "cell_type": "code",
   "execution_count": null,
   "metadata": {},
   "outputs": [],
   "source": []
  },
  {
   "cell_type": "code",
   "execution_count": null,
   "metadata": {},
   "outputs": [],
   "source": []
  },
  {
   "cell_type": "code",
   "execution_count": null,
   "metadata": {},
   "outputs": [],
   "source": []
  },
  {
   "cell_type": "code",
   "execution_count": null,
   "metadata": {},
   "outputs": [],
   "source": []
  },
  {
   "cell_type": "code",
   "execution_count": null,
   "metadata": {},
   "outputs": [],
   "source": []
  },
  {
   "cell_type": "code",
   "execution_count": null,
   "metadata": {},
   "outputs": [],
   "source": []
  },
  {
   "cell_type": "code",
   "execution_count": null,
   "metadata": {},
   "outputs": [],
   "source": []
  },
  {
   "cell_type": "code",
   "execution_count": null,
   "metadata": {},
   "outputs": [],
   "source": []
  },
  {
   "cell_type": "code",
   "execution_count": null,
   "metadata": {},
   "outputs": [],
   "source": []
  },
  {
   "cell_type": "code",
   "execution_count": null,
   "metadata": {},
   "outputs": [],
   "source": []
  },
  {
   "cell_type": "code",
   "execution_count": null,
   "metadata": {},
   "outputs": [],
   "source": []
  },
  {
   "cell_type": "code",
   "execution_count": null,
   "metadata": {},
   "outputs": [],
   "source": []
  },
  {
   "cell_type": "code",
   "execution_count": null,
   "metadata": {},
   "outputs": [],
   "source": []
  },
  {
   "cell_type": "code",
   "execution_count": null,
   "metadata": {},
   "outputs": [],
   "source": []
  },
  {
   "cell_type": "code",
   "execution_count": null,
   "metadata": {},
   "outputs": [],
   "source": []
  },
  {
   "cell_type": "code",
   "execution_count": null,
   "metadata": {},
   "outputs": [],
   "source": []
  },
  {
   "cell_type": "code",
   "execution_count": null,
   "metadata": {},
   "outputs": [],
   "source": []
  },
  {
   "cell_type": "code",
   "execution_count": null,
   "metadata": {},
   "outputs": [],
   "source": []
  },
  {
   "cell_type": "code",
   "execution_count": null,
   "metadata": {},
   "outputs": [],
   "source": []
  },
  {
   "cell_type": "code",
   "execution_count": null,
   "metadata": {},
   "outputs": [],
   "source": []
  },
  {
   "cell_type": "code",
   "execution_count": null,
   "metadata": {},
   "outputs": [],
   "source": []
  },
  {
   "cell_type": "code",
   "execution_count": null,
   "metadata": {},
   "outputs": [],
   "source": []
  },
  {
   "cell_type": "code",
   "execution_count": null,
   "metadata": {},
   "outputs": [],
   "source": []
  },
  {
   "cell_type": "code",
   "execution_count": null,
   "metadata": {},
   "outputs": [],
   "source": []
  },
  {
   "cell_type": "code",
   "execution_count": null,
   "metadata": {},
   "outputs": [],
   "source": []
  },
  {
   "cell_type": "code",
   "execution_count": null,
   "metadata": {},
   "outputs": [],
   "source": []
  },
  {
   "cell_type": "code",
   "execution_count": null,
   "metadata": {},
   "outputs": [],
   "source": []
  },
  {
   "cell_type": "code",
   "execution_count": null,
   "metadata": {},
   "outputs": [],
   "source": []
  },
  {
   "cell_type": "code",
   "execution_count": null,
   "metadata": {},
   "outputs": [],
   "source": []
  },
  {
   "cell_type": "code",
   "execution_count": null,
   "metadata": {},
   "outputs": [],
   "source": []
  },
  {
   "cell_type": "code",
   "execution_count": null,
   "metadata": {},
   "outputs": [],
   "source": []
  },
  {
   "cell_type": "code",
   "execution_count": null,
   "metadata": {},
   "outputs": [],
   "source": []
  },
  {
   "cell_type": "code",
   "execution_count": null,
   "metadata": {},
   "outputs": [],
   "source": []
  },
  {
   "cell_type": "code",
   "execution_count": null,
   "metadata": {},
   "outputs": [],
   "source": []
  },
  {
   "cell_type": "code",
   "execution_count": null,
   "metadata": {},
   "outputs": [],
   "source": []
  },
  {
   "cell_type": "code",
   "execution_count": null,
   "metadata": {},
   "outputs": [],
   "source": []
  },
  {
   "cell_type": "code",
   "execution_count": null,
   "metadata": {},
   "outputs": [],
   "source": []
  },
  {
   "cell_type": "code",
   "execution_count": null,
   "metadata": {},
   "outputs": [],
   "source": []
  },
  {
   "cell_type": "code",
   "execution_count": null,
   "metadata": {},
   "outputs": [],
   "source": []
  },
  {
   "cell_type": "code",
   "execution_count": null,
   "metadata": {},
   "outputs": [],
   "source": []
  },
  {
   "cell_type": "code",
   "execution_count": null,
   "metadata": {},
   "outputs": [],
   "source": []
  },
  {
   "cell_type": "code",
   "execution_count": null,
   "metadata": {},
   "outputs": [],
   "source": []
  },
  {
   "cell_type": "code",
   "execution_count": null,
   "metadata": {},
   "outputs": [],
   "source": []
  },
  {
   "cell_type": "code",
   "execution_count": null,
   "metadata": {},
   "outputs": [],
   "source": []
  },
  {
   "cell_type": "code",
   "execution_count": null,
   "metadata": {},
   "outputs": [],
   "source": []
  },
  {
   "cell_type": "code",
   "execution_count": null,
   "metadata": {},
   "outputs": [],
   "source": []
  },
  {
   "cell_type": "code",
   "execution_count": null,
   "metadata": {},
   "outputs": [],
   "source": []
  },
  {
   "cell_type": "code",
   "execution_count": null,
   "metadata": {},
   "outputs": [],
   "source": []
  },
  {
   "cell_type": "code",
   "execution_count": null,
   "metadata": {},
   "outputs": [],
   "source": []
  },
  {
   "cell_type": "code",
   "execution_count": null,
   "metadata": {},
   "outputs": [],
   "source": []
  },
  {
   "cell_type": "code",
   "execution_count": null,
   "metadata": {},
   "outputs": [],
   "source": []
  },
  {
   "cell_type": "code",
   "execution_count": null,
   "metadata": {},
   "outputs": [],
   "source": []
  },
  {
   "cell_type": "code",
   "execution_count": null,
   "metadata": {},
   "outputs": [],
   "source": []
  },
  {
   "cell_type": "code",
   "execution_count": null,
   "metadata": {},
   "outputs": [],
   "source": []
  },
  {
   "cell_type": "code",
   "execution_count": null,
   "metadata": {},
   "outputs": [],
   "source": []
  },
  {
   "cell_type": "code",
   "execution_count": null,
   "metadata": {},
   "outputs": [],
   "source": []
  }
 ],
 "metadata": {
  "kernelspec": {
   "display_name": "Python [conda env:learn-env] *",
   "language": "python",
   "name": "conda-env-learn-env-py"
  },
  "language_info": {
   "codemirror_mode": {
    "name": "ipython",
    "version": 3
   },
   "file_extension": ".py",
   "mimetype": "text/x-python",
   "name": "python",
   "nbconvert_exporter": "python",
   "pygments_lexer": "ipython3",
   "version": "3.6.10"
  }
 },
 "nbformat": 4,
 "nbformat_minor": 4
}
